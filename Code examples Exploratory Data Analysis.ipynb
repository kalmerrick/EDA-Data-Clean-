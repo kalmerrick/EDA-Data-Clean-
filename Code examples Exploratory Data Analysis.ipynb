{
 "cells": [
  {
   "cell_type": "markdown",
   "metadata": {},
   "source": [
    "### Imports"
   ]
  },
  {
   "cell_type": "code",
   "execution_count": 1,
   "metadata": {},
   "outputs": [],
   "source": [
    "import numpy as np\n",
    "import pandas as pd\n",
    "import matplotlib.pyplot as plt\n",
    "%matplotlib inline\n",
    "import os\n",
    "from datetime import datetime"
   ]
  },
  {
   "cell_type": "markdown",
   "metadata": {},
   "source": [
    "### Working Directories"
   ]
  },
  {
   "cell_type": "code",
   "execution_count": 2,
   "metadata": {},
   "outputs": [
    {
     "data": {
      "text/plain": [
       "'C:\\\\Users\\\\Kalmerrick\\\\Documents\\\\JC Treasury Analysis\\\\Python\\\\Useful Code'"
      ]
     },
     "execution_count": 2,
     "metadata": {},
     "output_type": "execute_result"
    }
   ],
   "source": [
    "# Get the current working directory\n",
    "os.getcwd()"
   ]
  },
  {
   "cell_type": "code",
   "execution_count": 3,
   "metadata": {},
   "outputs": [
    {
     "data": {
      "text/plain": [
       "['.ipynb_checkpoints',\n",
       " 'Binning practice',\n",
       " 'bokeh tutorial.ipynb',\n",
       " 'Code examples.ipynb',\n",
       " 'Data',\n",
       " 'decorator  test.ipynb',\n",
       " 'decorators.py',\n",
       " 'defs.py',\n",
       " 'Display linear best fit line.ipynb',\n",
       " 'Exploratory Data Analysis.ipynb',\n",
       " 'Function Test V0.1.ipynb',\n",
       " 'Function Test V0.2.ipynb',\n",
       " 'Generate line of best fit.ipynb',\n",
       " 'IF statements research.ipynb',\n",
       " 'Linear Regression with Python.ipynb',\n",
       " 'Melt Function.ipynb',\n",
       " 'multiprocessing — Process-based parallelism.ipynb',\n",
       " 'Nested dictionary.ipynb',\n",
       " 'OOP .ipynb',\n",
       " 'Police.csv',\n",
       " 'Random noise .ipynb',\n",
       " 'Regular Expressions',\n",
       " 'Results',\n",
       " 'Sample',\n",
       " 'test.csv',\n",
       " 'Theading.ipynb',\n",
       " 'WAPM data iteration.ipynb',\n",
       " '__pycache__']"
      ]
     },
     "execution_count": 3,
     "metadata": {},
     "output_type": "execute_result"
    }
   ],
   "source": [
    "# Get a list of files in the directory\n",
    "os.listdir()"
   ]
  },
  {
   "cell_type": "code",
   "execution_count": 4,
   "metadata": {},
   "outputs": [],
   "source": [
    "# Create a path variable that is used to access files in the Data folder\n",
    "PATH = 'Data/'"
   ]
  },
  {
   "cell_type": "code",
   "execution_count": 5,
   "metadata": {},
   "outputs": [
    {
     "data": {
      "text/plain": [
       "['All Sample v4 csioImp.csv',\n",
       " 'AllPrisoners_190106.csv',\n",
       " 'Orders Test.xlsx',\n",
       " 'paroleStatsSample.xlsx',\n",
       " 'penaltyCountDaily.csv',\n",
       " 'testData.csv']"
      ]
     },
     "execution_count": 5,
     "metadata": {},
     "output_type": "execute_result"
    }
   ],
   "source": [
    "# List files in the data folder\n",
    "os.listdir(PATH)"
   ]
  },
  {
   "cell_type": "code",
   "execution_count": 6,
   "metadata": {},
   "outputs": [],
   "source": [
    "# Function that displays all the columns of a data frame\n",
    "def display_all(df):\n",
    "    with pd.option_context(\"display.max_rows\", 1000, \"display.max_columns\", 1000): \n",
    "        display(df)"
   ]
  },
  {
   "cell_type": "markdown",
   "metadata": {},
   "source": [
    "### Importing data"
   ]
  },
  {
   "cell_type": "code",
   "execution_count": 7,
   "metadata": {},
   "outputs": [],
   "source": [
    "# Import an excel file and parse dates to assist with timeseries analysis\n",
    "df = pd.read_excel(f'{PATH}paroleStatsSample.xlsx', parse_dates = ['DecisionDate'])"
   ]
  },
  {
   "cell_type": "code",
   "execution_count": 8,
   "metadata": {},
   "outputs": [],
   "source": [
    "# Import an excel file and import a particular excel sheet\n",
    "xl = pd.ExcelFile(f'{PATH}Orders Test.xlsx')"
   ]
  },
  {
   "cell_type": "code",
   "execution_count": 9,
   "metadata": {},
   "outputs": [
    {
     "data": {
      "text/plain": [
       "['Sheet1', 'Sheet2', 'Sheet3', 'Test1']"
      ]
     },
     "execution_count": 9,
     "metadata": {},
     "output_type": "execute_result"
    }
   ],
   "source": [
    "# Get sheet names\n",
    "xl.sheet_names"
   ]
  },
  {
   "cell_type": "code",
   "execution_count": 10,
   "metadata": {},
   "outputs": [],
   "source": [
    "dfA = xl.parse(\"Test1\", parse_dates=['CensusDate'])"
   ]
  },
  {
   "cell_type": "code",
   "execution_count": 11,
   "metadata": {},
   "outputs": [
    {
     "data": {
      "text/html": [
       "<div>\n",
       "<style scoped>\n",
       "    .dataframe tbody tr th:only-of-type {\n",
       "        vertical-align: middle;\n",
       "    }\n",
       "\n",
       "    .dataframe tbody tr th {\n",
       "        vertical-align: top;\n",
       "    }\n",
       "\n",
       "    .dataframe thead th {\n",
       "        text-align: right;\n",
       "    }\n",
       "</style>\n",
       "<table border=\"1\" class=\"dataframe\">\n",
       "  <thead>\n",
       "    <tr style=\"text-align: right;\">\n",
       "      <th></th>\n",
       "      <th>CensusDate</th>\n",
       "      <th>DistinctPersons</th>\n",
       "      <th>Unnamed: 2</th>\n",
       "      <th>Unnamed: 3</th>\n",
       "      <th>Unnamed: 4</th>\n",
       "      <th>Unnamed: 5</th>\n",
       "      <th>Unnamed: 6</th>\n",
       "      <th>Unnamed: 7</th>\n",
       "      <th>Unnamed: 8</th>\n",
       "    </tr>\n",
       "  </thead>\n",
       "  <tbody>\n",
       "    <tr>\n",
       "      <th>0</th>\n",
       "      <td>2005-12-09</td>\n",
       "      <td>1</td>\n",
       "      <td>NaN</td>\n",
       "      <td>NaN</td>\n",
       "      <td>NaN</td>\n",
       "      <td>NaN</td>\n",
       "      <td>NaN</td>\n",
       "      <td>NaN</td>\n",
       "      <td>NaN</td>\n",
       "    </tr>\n",
       "    <tr>\n",
       "      <th>1</th>\n",
       "      <td>2005-12-10</td>\n",
       "      <td>1</td>\n",
       "      <td>NaN</td>\n",
       "      <td>NaN</td>\n",
       "      <td>NaN</td>\n",
       "      <td>NaN</td>\n",
       "      <td>NaN</td>\n",
       "      <td>NaN</td>\n",
       "      <td>NaN</td>\n",
       "    </tr>\n",
       "    <tr>\n",
       "      <th>2</th>\n",
       "      <td>2005-12-11</td>\n",
       "      <td>1</td>\n",
       "      <td>NaN</td>\n",
       "      <td>NaN</td>\n",
       "      <td>NaN</td>\n",
       "      <td>NaN</td>\n",
       "      <td>NaN</td>\n",
       "      <td>NaN</td>\n",
       "      <td>NaN</td>\n",
       "    </tr>\n",
       "    <tr>\n",
       "      <th>3</th>\n",
       "      <td>2005-12-12</td>\n",
       "      <td>1</td>\n",
       "      <td>NaN</td>\n",
       "      <td>NaN</td>\n",
       "      <td>NaN</td>\n",
       "      <td>NaN</td>\n",
       "      <td>NaN</td>\n",
       "      <td>NaN</td>\n",
       "      <td>NaN</td>\n",
       "    </tr>\n",
       "    <tr>\n",
       "      <th>4</th>\n",
       "      <td>2005-12-13</td>\n",
       "      <td>1</td>\n",
       "      <td>NaN</td>\n",
       "      <td>NaN</td>\n",
       "      <td>NaN</td>\n",
       "      <td>NaN</td>\n",
       "      <td>NaN</td>\n",
       "      <td>NaN</td>\n",
       "      <td>NaN</td>\n",
       "    </tr>\n",
       "  </tbody>\n",
       "</table>\n",
       "</div>"
      ],
      "text/plain": [
       "  CensusDate  DistinctPersons  Unnamed: 2  Unnamed: 3  Unnamed: 4  Unnamed: 5  \\\n",
       "0 2005-12-09                1         NaN         NaN         NaN         NaN   \n",
       "1 2005-12-10                1         NaN         NaN         NaN         NaN   \n",
       "2 2005-12-11                1         NaN         NaN         NaN         NaN   \n",
       "3 2005-12-12                1         NaN         NaN         NaN         NaN   \n",
       "4 2005-12-13                1         NaN         NaN         NaN         NaN   \n",
       "\n",
       "   Unnamed: 6  Unnamed: 7  Unnamed: 8  \n",
       "0         NaN         NaN         NaN  \n",
       "1         NaN         NaN         NaN  \n",
       "2         NaN         NaN         NaN  \n",
       "3         NaN         NaN         NaN  \n",
       "4         NaN         NaN         NaN  "
      ]
     },
     "execution_count": 11,
     "metadata": {},
     "output_type": "execute_result"
    }
   ],
   "source": [
    "dfA.head()"
   ]
  },
  {
   "cell_type": "code",
   "execution_count": 12,
   "metadata": {},
   "outputs": [],
   "source": [
    "# Import a csv file\n",
    "# New file for AL, needs to be wrangled\n",
    "dfB = pd.read_csv(f'{PATH}penaltyCountDaily.csv', low_memory = False)\n",
    "# Old data\n",
    "dfC = pd.read_csv(f'{PATH}All Sample v4 csioImp.csv', low_memory = False)"
   ]
  },
  {
   "cell_type": "code",
   "execution_count": 13,
   "metadata": {},
   "outputs": [
    {
     "data": {
      "text/html": [
       "<div>\n",
       "<style scoped>\n",
       "    .dataframe tbody tr th:only-of-type {\n",
       "        vertical-align: middle;\n",
       "    }\n",
       "\n",
       "    .dataframe tbody tr th {\n",
       "        vertical-align: top;\n",
       "    }\n",
       "\n",
       "    .dataframe thead th {\n",
       "        text-align: right;\n",
       "    }\n",
       "</style>\n",
       "<table border=\"1\" class=\"dataframe\">\n",
       "  <thead>\n",
       "    <tr style=\"text-align: right;\">\n",
       "      <th></th>\n",
       "      <th>ParticipantGroupID</th>\n",
       "      <th>GroupID</th>\n",
       "      <th>GroupHeadCase</th>\n",
       "      <th>CaseID</th>\n",
       "      <th>GroupCaseCount</th>\n",
       "      <th>GroupPrisonCaseCount</th>\n",
       "      <th>GroupCaseStart</th>\n",
       "      <th>GroupCaseEnd</th>\n",
       "      <th>GroupDaysToEnd</th>\n",
       "      <th>ParticipantID</th>\n",
       "      <th>...</th>\n",
       "      <th>MinSumTrl</th>\n",
       "      <th>HearingsComToTrial</th>\n",
       "      <th>MinMeanComTrl</th>\n",
       "      <th>MinSumComTrl</th>\n",
       "      <th>HearingsComToFinal</th>\n",
       "      <th>MinMeanComFnl</th>\n",
       "      <th>MinSumComFnl</th>\n",
       "      <th>HearingsTrlToFinal</th>\n",
       "      <th>MinMeanTrlFnl</th>\n",
       "      <th>MinSumTrlFnl</th>\n",
       "    </tr>\n",
       "  </thead>\n",
       "  <tbody>\n",
       "    <tr>\n",
       "      <th>0</th>\n",
       "      <td>3681CC0F-2F38-470D-879A-40FE3E7FF7F2-4</td>\n",
       "      <td>4</td>\n",
       "      <td>NaN</td>\n",
       "      <td>2</td>\n",
       "      <td>30</td>\n",
       "      <td>12.0</td>\n",
       "      <td>23/08/2012</td>\n",
       "      <td>21/09/2017</td>\n",
       "      <td>1856</td>\n",
       "      <td>3681CC0F-2F38-470D-879A-40FE3E7FF7F2</td>\n",
       "      <td>...</td>\n",
       "      <td>198.0</td>\n",
       "      <td>NaN</td>\n",
       "      <td>NaN</td>\n",
       "      <td>NaN</td>\n",
       "      <td>NaN</td>\n",
       "      <td>NaN</td>\n",
       "      <td>NaN</td>\n",
       "      <td>NaN</td>\n",
       "      <td>NaN</td>\n",
       "      <td>NaN</td>\n",
       "    </tr>\n",
       "    <tr>\n",
       "      <th>1</th>\n",
       "      <td>3681CC0F-2F38-470D-879A-40FE3E7FF7F2-4</td>\n",
       "      <td>4</td>\n",
       "      <td>NaN</td>\n",
       "      <td>4</td>\n",
       "      <td>30</td>\n",
       "      <td>12.0</td>\n",
       "      <td>23/08/2012</td>\n",
       "      <td>21/09/2017</td>\n",
       "      <td>1856</td>\n",
       "      <td>3681CC0F-2F38-470D-879A-40FE3E7FF7F2</td>\n",
       "      <td>...</td>\n",
       "      <td>230.0</td>\n",
       "      <td>NaN</td>\n",
       "      <td>NaN</td>\n",
       "      <td>NaN</td>\n",
       "      <td>NaN</td>\n",
       "      <td>NaN</td>\n",
       "      <td>NaN</td>\n",
       "      <td>NaN</td>\n",
       "      <td>NaN</td>\n",
       "      <td>NaN</td>\n",
       "    </tr>\n",
       "    <tr>\n",
       "      <th>2</th>\n",
       "      <td>3681CC0F-2F38-470D-879A-40FE3E7FF7F2-4</td>\n",
       "      <td>4</td>\n",
       "      <td>NaN</td>\n",
       "      <td>11</td>\n",
       "      <td>30</td>\n",
       "      <td>12.0</td>\n",
       "      <td>23/08/2012</td>\n",
       "      <td>21/09/2017</td>\n",
       "      <td>1856</td>\n",
       "      <td>3681CC0F-2F38-470D-879A-40FE3E7FF7F2</td>\n",
       "      <td>...</td>\n",
       "      <td>239.0</td>\n",
       "      <td>NaN</td>\n",
       "      <td>NaN</td>\n",
       "      <td>NaN</td>\n",
       "      <td>NaN</td>\n",
       "      <td>NaN</td>\n",
       "      <td>NaN</td>\n",
       "      <td>NaN</td>\n",
       "      <td>NaN</td>\n",
       "      <td>NaN</td>\n",
       "    </tr>\n",
       "    <tr>\n",
       "      <th>3</th>\n",
       "      <td>3681CC0F-2F38-470D-879A-40FE3E7FF7F2-4</td>\n",
       "      <td>4</td>\n",
       "      <td>NaN</td>\n",
       "      <td>5</td>\n",
       "      <td>30</td>\n",
       "      <td>12.0</td>\n",
       "      <td>23/08/2012</td>\n",
       "      <td>21/09/2017</td>\n",
       "      <td>1856</td>\n",
       "      <td>3681CC0F-2F38-470D-879A-40FE3E7FF7F2</td>\n",
       "      <td>...</td>\n",
       "      <td>306.0</td>\n",
       "      <td>NaN</td>\n",
       "      <td>NaN</td>\n",
       "      <td>NaN</td>\n",
       "      <td>NaN</td>\n",
       "      <td>NaN</td>\n",
       "      <td>NaN</td>\n",
       "      <td>NaN</td>\n",
       "      <td>NaN</td>\n",
       "      <td>NaN</td>\n",
       "    </tr>\n",
       "    <tr>\n",
       "      <th>4</th>\n",
       "      <td>3918FC46-E3DE-4479-9219-619DA2FC9AAC-6</td>\n",
       "      <td>6</td>\n",
       "      <td>YES</td>\n",
       "      <td>1</td>\n",
       "      <td>8</td>\n",
       "      <td>1.0</td>\n",
       "      <td>20/05/2015</td>\n",
       "      <td>21/09/2017</td>\n",
       "      <td>856</td>\n",
       "      <td>3918FC46-E3DE-4479-9219-619DA2FC9AAC</td>\n",
       "      <td>...</td>\n",
       "      <td>1002.0</td>\n",
       "      <td>17.0</td>\n",
       "      <td>53.529412</td>\n",
       "      <td>910.0</td>\n",
       "      <td>20.0</td>\n",
       "      <td>73.3</td>\n",
       "      <td>1466.0</td>\n",
       "      <td>20.0</td>\n",
       "      <td>73.3</td>\n",
       "      <td>1466.0</td>\n",
       "    </tr>\n",
       "  </tbody>\n",
       "</table>\n",
       "<p>5 rows × 367 columns</p>\n",
       "</div>"
      ],
      "text/plain": [
       "                       ParticipantGroupID  GroupID GroupHeadCase  CaseID  \\\n",
       "0  3681CC0F-2F38-470D-879A-40FE3E7FF7F2-4        4           NaN       2   \n",
       "1  3681CC0F-2F38-470D-879A-40FE3E7FF7F2-4        4           NaN       4   \n",
       "2  3681CC0F-2F38-470D-879A-40FE3E7FF7F2-4        4           NaN      11   \n",
       "3  3681CC0F-2F38-470D-879A-40FE3E7FF7F2-4        4           NaN       5   \n",
       "4  3918FC46-E3DE-4479-9219-619DA2FC9AAC-6        6           YES       1   \n",
       "\n",
       "   GroupCaseCount  GroupPrisonCaseCount GroupCaseStart GroupCaseEnd  \\\n",
       "0              30                  12.0     23/08/2012   21/09/2017   \n",
       "1              30                  12.0     23/08/2012   21/09/2017   \n",
       "2              30                  12.0     23/08/2012   21/09/2017   \n",
       "3              30                  12.0     23/08/2012   21/09/2017   \n",
       "4               8                   1.0     20/05/2015   21/09/2017   \n",
       "\n",
       "   GroupDaysToEnd                         ParticipantID     ...       \\\n",
       "0            1856  3681CC0F-2F38-470D-879A-40FE3E7FF7F2     ...        \n",
       "1            1856  3681CC0F-2F38-470D-879A-40FE3E7FF7F2     ...        \n",
       "2            1856  3681CC0F-2F38-470D-879A-40FE3E7FF7F2     ...        \n",
       "3            1856  3681CC0F-2F38-470D-879A-40FE3E7FF7F2     ...        \n",
       "4             856  3918FC46-E3DE-4479-9219-619DA2FC9AAC     ...        \n",
       "\n",
       "   MinSumTrl HearingsComToTrial MinMeanComTrl MinSumComTrl HearingsComToFinal  \\\n",
       "0      198.0                NaN           NaN          NaN                NaN   \n",
       "1      230.0                NaN           NaN          NaN                NaN   \n",
       "2      239.0                NaN           NaN          NaN                NaN   \n",
       "3      306.0                NaN           NaN          NaN                NaN   \n",
       "4     1002.0               17.0     53.529412        910.0               20.0   \n",
       "\n",
       "  MinMeanComFnl MinSumComFnl HearingsTrlToFinal MinMeanTrlFnl MinSumTrlFnl  \n",
       "0           NaN          NaN                NaN           NaN          NaN  \n",
       "1           NaN          NaN                NaN           NaN          NaN  \n",
       "2           NaN          NaN                NaN           NaN          NaN  \n",
       "3           NaN          NaN                NaN           NaN          NaN  \n",
       "4          73.3       1466.0               20.0          73.3       1466.0  \n",
       "\n",
       "[5 rows x 367 columns]"
      ]
     },
     "execution_count": 13,
     "metadata": {},
     "output_type": "execute_result"
    }
   ],
   "source": [
    "dfC.head()"
   ]
  },
  {
   "cell_type": "code",
   "execution_count": 14,
   "metadata": {},
   "outputs": [
    {
     "name": "stdout",
     "output_type": "stream",
     "text": [
      "Dataframe -  rows: 1145  columns: 13\n"
     ]
    }
   ],
   "source": [
    "print(\"Dataframe -  rows:\",dfB.shape[0],\" columns:\", df.shape[1])"
   ]
  },
  {
   "cell_type": "markdown",
   "metadata": {},
   "source": [
    "### Basic displays"
   ]
  },
  {
   "cell_type": "code",
   "execution_count": 15,
   "metadata": {},
   "outputs": [
    {
     "name": "stdout",
     "output_type": "stream",
     "text": [
      "<class 'pandas.core.frame.DataFrame'>\n",
      "RangeIndex: 100 entries, 0 to 99\n",
      "Data columns (total 13 columns):\n",
      "DecisionFY        100 non-null object\n",
      "DecisionDate      100 non-null datetime64[ns]\n",
      "TOMS_ID           100 non-null object\n",
      "Ethnicity         100 non-null object\n",
      "MatterType        100 non-null object\n",
      "ReviewType        100 non-null object\n",
      "ReviewReason      100 non-null object\n",
      "ReleaseType       100 non-null object\n",
      "ReviewSequence    100 non-null int64\n",
      "EED               91 non-null datetime64[ns]\n",
      "Outcome           100 non-null object\n",
      "ReasonSequence    100 non-null int64\n",
      "Reason            100 non-null object\n",
      "dtypes: datetime64[ns](2), int64(2), object(9)\n",
      "memory usage: 10.2+ KB\n"
     ]
    }
   ],
   "source": [
    "df.shape\n",
    "df.describe()\n",
    "df.head()\n",
    "df.info()"
   ]
  },
  {
   "cell_type": "markdown",
   "metadata": {},
   "source": [
    "### Missing data"
   ]
  },
  {
   "cell_type": "code",
   "execution_count": 16,
   "metadata": {},
   "outputs": [
    {
     "data": {
      "text/plain": [
       "9"
      ]
     },
     "execution_count": 16,
     "metadata": {},
     "output_type": "execute_result"
    }
   ],
   "source": [
    "# Use sum to get a count of the number of nulls not count\n",
    "df['EED'].isnull().sum()"
   ]
  },
  {
   "cell_type": "code",
   "execution_count": 17,
   "metadata": {},
   "outputs": [
    {
     "data": {
      "text/plain": [
       "EED               9\n",
       "Reason            0\n",
       "ReasonSequence    0\n",
       "Outcome           0\n",
       "ReviewSequence    0\n",
       "ReleaseType       0\n",
       "ReviewReason      0\n",
       "ReviewType        0\n",
       "MatterType        0\n",
       "Ethnicity         0\n",
       "TOMS_ID           0\n",
       "DecisionDate      0\n",
       "DecisionFY        0\n",
       "dtype: int64"
      ]
     },
     "metadata": {},
     "output_type": "display_data"
    }
   ],
   "source": [
    "# get the number of missing data points per column\n",
    "missing_values_count =  df.isnull().sum()\n",
    "# look at the # of missing points in the first ten columns\n",
    "display_all(missing_values_count.sort_values(ascending=False))"
   ]
  },
  {
   "cell_type": "code",
   "execution_count": 18,
   "metadata": {},
   "outputs": [
    {
     "data": {
      "text/plain": [
       "0.6923076923076923"
      ]
     },
     "execution_count": 18,
     "metadata": {},
     "output_type": "execute_result"
    }
   ],
   "source": [
    "# How many total missing values do we have?\n",
    "total_cells = np.product(df.shape)\n",
    "total_missing = missing_values_count.sum()\n",
    "\n",
    "# percent of data that is missing\n",
    "(total_missing/total_cells) * 100"
   ]
  },
  {
   "cell_type": "markdown",
   "metadata": {},
   "source": [
    "### Drop columns / rows"
   ]
  },
  {
   "cell_type": "code",
   "execution_count": 19,
   "metadata": {},
   "outputs": [],
   "source": [
    "# Drop a particular column\n",
    "dfA.drop(['Unnamed: 2','Unnamed: 3','Unnamed: 4','Unnamed: 5','Unnamed: 6',\n",
    "        'Unnamed: 7', 'Unnamed: 8'], axis=1, inplace=True)"
   ]
  },
  {
   "cell_type": "code",
   "execution_count": 20,
   "metadata": {},
   "outputs": [],
   "source": [
    "# remove all columns with at least one missing value\n",
    "#train.dropna(axis=1, inplace = True)"
   ]
  },
  {
   "cell_type": "code",
   "execution_count": 21,
   "metadata": {},
   "outputs": [],
   "source": [
    "# Use axis =0, to delete rows with missing values\n",
    "#df.dropna(axis=0, inplace = True)"
   ]
  },
  {
   "cell_type": "code",
   "execution_count": 22,
   "metadata": {},
   "outputs": [],
   "source": [
    "# Drop na's for a specific subset, e.g column 'XXX' \n",
    "#df.dropna(subset =['XXX'], inplace = True)"
   ]
  },
  {
   "cell_type": "markdown",
   "metadata": {},
   "source": [
    "### Set Index"
   ]
  },
  {
   "cell_type": "code",
   "execution_count": 23,
   "metadata": {},
   "outputs": [],
   "source": [
    "# Set the date as an index for timeseries plotting\n",
    "dfA.set_index('CensusDate', inplace=True)"
   ]
  },
  {
   "cell_type": "code",
   "execution_count": 24,
   "metadata": {},
   "outputs": [
    {
     "data": {
      "text/plain": [
       "<matplotlib.axes._subplots.AxesSubplot at 0x1f88e63e320>"
      ]
     },
     "execution_count": 24,
     "metadata": {},
     "output_type": "execute_result"
    },
    {
     "data": {
      "image/png": "[encoded data removed]",
      "text/plain": [
       "<matplotlib.figure.Figure at 0x1f88e5e3e80>"
      ]
     },
     "metadata": {},
     "output_type": "display_data"
    }
   ],
   "source": [
    "### Basic Plot\n",
    "dfA['DistinctPersons'].plot()"
   ]
  },
  {
   "cell_type": "markdown",
   "metadata": {},
   "source": [
    "### Sorting a DataFrame"
   ]
  },
  {
   "cell_type": "code",
   "execution_count": 27,
   "metadata": {},
   "outputs": [],
   "source": [
    "# Can sort a dataset by many columns and sort ascending or descending for each column\n",
    "#df.sort_values('DecisionDate', ascending = False)\n",
    "#df.sort_values(['DecisionDate','TOMS_ID'], ascending = [True, False])"
   ]
  },
  {
   "cell_type": "markdown",
   "metadata": {},
   "source": [
    "### Filtering Data"
   ]
  },
  {
   "cell_type": "code",
   "execution_count": 28,
   "metadata": {},
   "outputs": [
    {
     "data": {
      "text/html": [
       "<div>\n",
       "<style scoped>\n",
       "    .dataframe tbody tr th:only-of-type {\n",
       "        vertical-align: middle;\n",
       "    }\n",
       "\n",
       "    .dataframe tbody tr th {\n",
       "        vertical-align: top;\n",
       "    }\n",
       "\n",
       "    .dataframe thead th {\n",
       "        text-align: right;\n",
       "    }\n",
       "</style>\n",
       "<table border=\"1\" class=\"dataframe\">\n",
       "  <thead>\n",
       "    <tr style=\"text-align: right;\">\n",
       "      <th></th>\n",
       "      <th>DecisionFY</th>\n",
       "      <th>DecisionDate</th>\n",
       "      <th>TOMS_ID</th>\n",
       "      <th>Ethnicity</th>\n",
       "      <th>MatterType</th>\n",
       "      <th>ReviewType</th>\n",
       "      <th>ReviewReason</th>\n",
       "      <th>ReleaseType</th>\n",
       "      <th>ReviewSequence</th>\n",
       "      <th>EED</th>\n",
       "      <th>Outcome</th>\n",
       "      <th>ReasonSequence</th>\n",
       "      <th>Reason</th>\n",
       "    </tr>\n",
       "  </thead>\n",
       "  <tbody>\n",
       "    <tr>\n",
       "      <th>0</th>\n",
       "      <td>2010/11</td>\n",
       "      <td>2010-07-01</td>\n",
       "      <td>B1073836</td>\n",
       "      <td>ABORIGINAL</td>\n",
       "      <td>Parole</td>\n",
       "      <td>Parole</td>\n",
       "      <td>Parole Application</td>\n",
       "      <td>Discretionary</td>\n",
       "      <td>1</td>\n",
       "      <td>2010-07-31</td>\n",
       "      <td>Denied</td>\n",
       "      <td>1</td>\n",
       "      <td>Serious and violent nature of current offences.</td>\n",
       "    </tr>\n",
       "    <tr>\n",
       "      <th>1</th>\n",
       "      <td>2010/11</td>\n",
       "      <td>2010-07-01</td>\n",
       "      <td>B1073836</td>\n",
       "      <td>ABORIGINAL</td>\n",
       "      <td>Parole</td>\n",
       "      <td>Parole</td>\n",
       "      <td>Parole Application</td>\n",
       "      <td>Discretionary</td>\n",
       "      <td>1</td>\n",
       "      <td>2010-07-31</td>\n",
       "      <td>Denied</td>\n",
       "      <td>2</td>\n",
       "      <td>Extensive criminal history including violence,...</td>\n",
       "    </tr>\n",
       "    <tr>\n",
       "      <th>2</th>\n",
       "      <td>2010/11</td>\n",
       "      <td>2010-07-01</td>\n",
       "      <td>B1073836</td>\n",
       "      <td>ABORIGINAL</td>\n",
       "      <td>Parole</td>\n",
       "      <td>Parole</td>\n",
       "      <td>Parole Application</td>\n",
       "      <td>Discretionary</td>\n",
       "      <td>1</td>\n",
       "      <td>2010-07-31</td>\n",
       "      <td>Denied</td>\n",
       "      <td>3</td>\n",
       "      <td>Entrenched history of poly-substance abuse whi...</td>\n",
       "    </tr>\n",
       "    <tr>\n",
       "      <th>3</th>\n",
       "      <td>2010/11</td>\n",
       "      <td>2010-07-01</td>\n",
       "      <td>B1073836</td>\n",
       "      <td>ABORIGINAL</td>\n",
       "      <td>Parole</td>\n",
       "      <td>Parole</td>\n",
       "      <td>Parole Application</td>\n",
       "      <td>Discretionary</td>\n",
       "      <td>1</td>\n",
       "      <td>2010-07-31</td>\n",
       "      <td>Denied</td>\n",
       "      <td>4</td>\n",
       "      <td>Unaddressed offending behaviour (substance abu...</td>\n",
       "    </tr>\n",
       "    <tr>\n",
       "      <th>4</th>\n",
       "      <td>2010/11</td>\n",
       "      <td>2010-07-01</td>\n",
       "      <td>B1073836</td>\n",
       "      <td>ABORIGINAL</td>\n",
       "      <td>Parole</td>\n",
       "      <td>Parole</td>\n",
       "      <td>Parole Application</td>\n",
       "      <td>Discretionary</td>\n",
       "      <td>1</td>\n",
       "      <td>2010-07-31</td>\n",
       "      <td>Denied</td>\n",
       "      <td>5</td>\n",
       "      <td>Parole in 2002 and 2003 breached by re-offending.</td>\n",
       "    </tr>\n",
       "  </tbody>\n",
       "</table>\n",
       "</div>"
      ],
      "text/plain": [
       "  DecisionFY DecisionDate   TOMS_ID   Ethnicity MatterType ReviewType  \\\n",
       "0    2010/11   2010-07-01  B1073836  ABORIGINAL     Parole     Parole   \n",
       "1    2010/11   2010-07-01  B1073836  ABORIGINAL     Parole     Parole   \n",
       "2    2010/11   2010-07-01  B1073836  ABORIGINAL     Parole     Parole   \n",
       "3    2010/11   2010-07-01  B1073836  ABORIGINAL     Parole     Parole   \n",
       "4    2010/11   2010-07-01  B1073836  ABORIGINAL     Parole     Parole   \n",
       "\n",
       "         ReviewReason    ReleaseType  ReviewSequence        EED Outcome  \\\n",
       "0  Parole Application  Discretionary               1 2010-07-31  Denied   \n",
       "1  Parole Application  Discretionary               1 2010-07-31  Denied   \n",
       "2  Parole Application  Discretionary               1 2010-07-31  Denied   \n",
       "3  Parole Application  Discretionary               1 2010-07-31  Denied   \n",
       "4  Parole Application  Discretionary               1 2010-07-31  Denied   \n",
       "\n",
       "   ReasonSequence                                             Reason  \n",
       "0               1    Serious and violent nature of current offences.  \n",
       "1               2  Extensive criminal history including violence,...  \n",
       "2               3  Entrenched history of poly-substance abuse whi...  \n",
       "3               4  Unaddressed offending behaviour (substance abu...  \n",
       "4               5  Parole in 2002 and 2003 breached by re-offending.  "
      ]
     },
     "execution_count": 28,
     "metadata": {},
     "output_type": "execute_result"
    }
   ],
   "source": [
    "# You can filter on the dataset by using a mask\n",
    "# The example below\n",
    "mask = (df['Outcome'] == 'Denied')\n",
    "df[mask].head()"
   ]
  },
  {
   "cell_type": "markdown",
   "metadata": {},
   "source": [
    "### Data conversions"
   ]
  },
  {
   "cell_type": "code",
   "execution_count": 29,
   "metadata": {},
   "outputs": [
    {
     "data": {
      "text/plain": [
       "DecisionFY                object\n",
       "DecisionDate      datetime64[ns]\n",
       "TOMS_ID                   object\n",
       "Ethnicity                 object\n",
       "MatterType                object\n",
       "ReviewType                object\n",
       "ReviewReason              object\n",
       "ReleaseType               object\n",
       "ReviewSequence             int64\n",
       "EED               datetime64[ns]\n",
       "Outcome                   object\n",
       "ReasonSequence             int64\n",
       "Reason                    object\n",
       "dtype: object"
      ]
     },
     "execution_count": 29,
     "metadata": {},
     "output_type": "execute_result"
    }
   ],
   "source": [
    "# To get a list of the DataFrame data types\n",
    "df.dtypes"
   ]
  },
  {
   "cell_type": "code",
   "execution_count": 30,
   "metadata": {},
   "outputs": [],
   "source": [
    "# Convert the 'Reason' column to a String\n",
    "# I coverted this to a String as some of the values were causing errors due to being considered floats\n",
    "df['Reason'] = df['Reason'].astype(str, inplace = True)"
   ]
  },
  {
   "cell_type": "markdown",
   "metadata": {},
   "source": [
    "### Create a new column through concatenation"
   ]
  },
  {
   "cell_type": "code",
   "execution_count": 31,
   "metadata": {},
   "outputs": [],
   "source": [
    "# Create a new column called 'DecisionDateString' which is 'DecisionDate' concatenated to the Toms_ID\n",
    "df['DecisionDateString'] = df['DecisionDate'].astype(str) + df['TOMS_ID']"
   ]
  },
  {
   "cell_type": "markdown",
   "metadata": {},
   "source": [
    "### Counts"
   ]
  },
  {
   "cell_type": "code",
   "execution_count": 32,
   "metadata": {},
   "outputs": [
    {
     "name": "stdout",
     "output_type": "stream",
     "text": [
      "<class 'pandas.core.frame.DataFrame'>\n",
      "RangeIndex: 100 entries, 0 to 99\n",
      "Data columns (total 14 columns):\n",
      "DecisionFY            100 non-null object\n",
      "DecisionDate          100 non-null datetime64[ns]\n",
      "TOMS_ID               100 non-null object\n",
      "Ethnicity             100 non-null object\n",
      "MatterType            100 non-null object\n",
      "ReviewType            100 non-null object\n",
      "ReviewReason          100 non-null object\n",
      "ReleaseType           100 non-null object\n",
      "ReviewSequence        100 non-null int64\n",
      "EED                   91 non-null datetime64[ns]\n",
      "Outcome               100 non-null object\n",
      "ReasonSequence        100 non-null int64\n",
      "Reason                100 non-null object\n",
      "DecisionDateString    100 non-null object\n",
      "dtypes: datetime64[ns](2), int64(2), object(10)\n",
      "memory usage: 11.0+ KB\n"
     ]
    }
   ],
   "source": [
    "# This will give the counts for individual columns\n",
    "df.info()"
   ]
  },
  {
   "cell_type": "code",
   "execution_count": 33,
   "metadata": {},
   "outputs": [
    {
     "data": {
      "text/plain": [
       "100"
      ]
     },
     "execution_count": 33,
     "metadata": {},
     "output_type": "execute_result"
    }
   ],
   "source": [
    "# This will give the count for a specific column\n",
    "df['TOMS_ID'].count()"
   ]
  },
  {
   "cell_type": "code",
   "execution_count": 34,
   "metadata": {},
   "outputs": [
    {
     "data": {
      "text/plain": [
       "B1367371    3\n",
       "I1989386    3\n",
       "E0980752    3\n",
       "J1386468    1\n",
       "D2038251    1\n",
       "Name: TOMS_ID, dtype: int64"
      ]
     },
     "execution_count": 34,
     "metadata": {},
     "output_type": "execute_result"
    }
   ],
   "source": [
    "# This give the value count for each TOMS_ID\n",
    "df['TOMS_ID'].value_counts().tail()"
   ]
  },
  {
   "cell_type": "code",
   "execution_count": 35,
   "metadata": {},
   "outputs": [
    {
     "data": {
      "text/plain": [
       "I2120066    0.10\n",
       "E1408378    0.09\n",
       "E1055794    0.09\n",
       "B1354006    0.08\n",
       "E0871348    0.07\n",
       "Name: TOMS_ID, dtype: float64"
      ]
     },
     "execution_count": 35,
     "metadata": {},
     "output_type": "execute_result"
    }
   ],
   "source": [
    "# Use 'normalize=True' to express as a percentage\n",
    "df['TOMS_ID'].value_counts(normalize=True).head()"
   ]
  },
  {
   "cell_type": "code",
   "execution_count": 36,
   "metadata": {},
   "outputs": [
    {
     "data": {
      "text/plain": [
       "<matplotlib.axes._subplots.AxesSubplot at 0x1f88e886908>"
      ]
     },
     "execution_count": 36,
     "metadata": {},
     "output_type": "execute_result"
    },
    {
     "data": {
      "image/png": "[encoded data removed]",
      "text/plain": [
       "<matplotlib.figure.Figure at 0x1f88e34fa90>"
      ]
     },
     "metadata": {},
     "output_type": "display_data"
    }
   ],
   "source": [
    "# Quick count visualisation\n",
    "df['TOMS_ID'].value_counts().tail(5).plot(kind='bar')"
   ]
  },
  {
   "cell_type": "code",
   "execution_count": 37,
   "metadata": {},
   "outputs": [
    {
     "data": {
      "text/html": [
       "<div>\n",
       "<style scoped>\n",
       "    .dataframe tbody tr th:only-of-type {\n",
       "        vertical-align: middle;\n",
       "    }\n",
       "\n",
       "    .dataframe tbody tr th {\n",
       "        vertical-align: top;\n",
       "    }\n",
       "\n",
       "    .dataframe thead th {\n",
       "        text-align: right;\n",
       "    }\n",
       "</style>\n",
       "<table border=\"1\" class=\"dataframe\">\n",
       "  <thead>\n",
       "    <tr style=\"text-align: right;\">\n",
       "      <th></th>\n",
       "      <th>ParticipantGroupID</th>\n",
       "      <th>GroupID</th>\n",
       "      <th>GroupHeadCase</th>\n",
       "      <th>CaseID</th>\n",
       "      <th>GroupCaseCount</th>\n",
       "      <th>GroupPrisonCaseCount</th>\n",
       "      <th>GroupCaseStart</th>\n",
       "      <th>GroupCaseEnd</th>\n",
       "      <th>GroupDaysToEnd</th>\n",
       "      <th>ParticipantID</th>\n",
       "      <th>SID</th>\n",
       "      <th>SLK</th>\n",
       "      <th>DOB</th>\n",
       "      <th>Gender</th>\n",
       "      <th>Indigeneity</th>\n",
       "      <th>ChargeID</th>\n",
       "      <th>OTSubSection</th>\n",
       "      <th>OTSection</th>\n",
       "      <th>LegislationName</th>\n",
       "      <th>OffenceType</th>\n",
       "      <th>ANZSOCCode</th>\n",
       "      <th>ANZSOCOffenceType</th>\n",
       "      <th>nationalOffenceIndex</th>\n",
       "      <th>IsSimple</th>\n",
       "      <th>LowerCourtCaseID</th>\n",
       "      <th>LC_Jurisdiction</th>\n",
       "      <th>HigherCourtCaseID</th>\n",
       "      <th>HC_Jurisdiction</th>\n",
       "      <th>FirstActualHearingDate</th>\n",
       "      <th>FirstHearingCustody</th>\n",
       "      <th>FirstHearingMinutes</th>\n",
       "      <th>LodgementDate</th>\n",
       "      <th>LodgementJurisdiction</th>\n",
       "      <th>MOFCode</th>\n",
       "      <th>FinalisationDate</th>\n",
       "      <th>DaysToFinalise</th>\n",
       "      <th>FirstHearingPlea</th>\n",
       "      <th>PreCommittalPlea</th>\n",
       "      <th>PreCommittalPleaChange</th>\n",
       "      <th>PreCommittalPleaChangeDate</th>\n",
       "      <th>PreCommittalPleaDelay</th>\n",
       "      <th>HadCommittalHearing</th>\n",
       "      <th>CommittalDate</th>\n",
       "      <th>CommittalDelay</th>\n",
       "      <th>CommittalPlea</th>\n",
       "      <th>CommittalPleaChange</th>\n",
       "      <th>IsCommitted</th>\n",
       "      <th>CommittalReason</th>\n",
       "      <th>CommittedTo</th>\n",
       "      <th>CommittalHearingMinutes</th>\n",
       "      <th>PreTrialPlea</th>\n",
       "      <th>PreTrialPleaDate</th>\n",
       "      <th>PreTrialPleaChange</th>\n",
       "      <th>PreTrialPleaDelay</th>\n",
       "      <th>TrialFirstDate</th>\n",
       "      <th>TrialStart</th>\n",
       "      <th>TrialEnd</th>\n",
       "      <th>TrialDays</th>\n",
       "      <th>TrialDelay</th>\n",
       "      <th>TrialStatus</th>\n",
       "      <th>TrialJurisdiction</th>\n",
       "      <th>TrialPlea</th>\n",
       "      <th>TrialOutcome</th>\n",
       "      <th>TimeToTrial</th>\n",
       "      <th>TrialMinutes</th>\n",
       "      <th>PostTrialPleaDate</th>\n",
       "      <th>PostTrialPlea</th>\n",
       "      <th>PostTrialPleaChange</th>\n",
       "      <th>PostTrialPleaDelay</th>\n",
       "      <th>Withdrawn</th>\n",
       "      <th>WithdrawDate</th>\n",
       "      <th>WithdrawnAt</th>\n",
       "      <th>WithdrawDelay</th>\n",
       "      <th>SentenceDate</th>\n",
       "      <th>SentenceStart</th>\n",
       "      <th>SentenceDelay</th>\n",
       "      <th>SentenceHearingMinutes</th>\n",
       "      <th>SentenceJurisdiction</th>\n",
       "      <th>SentenceType</th>\n",
       "      <th>IsSentencedCustodial</th>\n",
       "      <th>FirstInCase</th>\n",
       "      <th>IsHeadSentence</th>\n",
       "      <th>SentenceDays</th>\n",
       "      <th>AdjustedSentenceDays</th>\n",
       "      <th>SentenceExpiryDate</th>\n",
       "      <th>DischargeDate</th>\n",
       "      <th>ReleaseType</th>\n",
       "      <th>FromTOMS</th>\n",
       "      <th>GroupUseSentence</th>\n",
       "      <th>GroupSentenceFrom</th>\n",
       "      <th>GroupSentenceNotRemand</th>\n",
       "      <th>GroupSentenceEnd</th>\n",
       "      <th>GroupMaxSentence</th>\n",
       "      <th>GroupSentenceDays</th>\n",
       "      <th>GroupPropServed</th>\n",
       "      <th>GroupPropServedAdjusted</th>\n",
       "      <th>GroupAdjustedMaxSentenceDays</th>\n",
       "      <th>GroupAdjustedSentenceDays</th>\n",
       "      <th>GroupRemandDays</th>\n",
       "      <th>GroupUseRemand</th>\n",
       "      <th>GroupRemandProp</th>\n",
       "      <th>IsRemanded</th>\n",
       "      <th>RemandReceptions</th>\n",
       "      <th>PrisonReceptions</th>\n",
       "      <th>StillInPrison</th>\n",
       "      <th>IsEligibleForParole</th>\n",
       "      <th>SuspensionDays</th>\n",
       "      <th>SuspensionExpiryDate</th>\n",
       "      <th>Fines</th>\n",
       "      <th>Costs</th>\n",
       "      <th>OtherFinancialPenalties</th>\n",
       "      <th>HasFinancialPenalty</th>\n",
       "      <th>SentenceIsParoleBreach</th>\n",
       "      <th>GroupParoleCount</th>\n",
       "      <th>GroupHadParoleHearing</th>\n",
       "      <th>GroupFirstParoleHearing</th>\n",
       "      <th>GroupParoleLength</th>\n",
       "      <th>GroupAvgParoleDelay</th>\n",
       "      <th>GroupParoleBreach</th>\n",
       "      <th>GroupAvgParoleBreachDelay</th>\n",
       "      <th>GroupAvgParoleBreachStay</th>\n",
       "      <th>GroupParoleEligibleDuration</th>\n",
       "      <th>IsBreached</th>\n",
       "      <th>BreachCount</th>\n",
       "      <th>FirstBreachDate</th>\n",
       "      <th>FirstBreachDelay</th>\n",
       "      <th>BreachSentenceDate</th>\n",
       "      <th>LastBreachDelay</th>\n",
       "      <th>BreachSentenceType</th>\n",
       "      <th>BreachSentenceDays</th>\n",
       "      <th>BreachSentenceExpiryDate</th>\n",
       "      <th>BreachIsEligibleForParole</th>\n",
       "      <th>BreachSuspensionDays</th>\n",
       "      <th>BreachSuspensionExpiryDate</th>\n",
       "      <th>BreachFines</th>\n",
       "      <th>BreachCosts</th>\n",
       "      <th>BreachOtherFinancialPenalties</th>\n",
       "      <th>BreachSentenceStart</th>\n",
       "      <th>BreachSentenceNotRemanded</th>\n",
       "      <th>BreachDischargeDate</th>\n",
       "      <th>BreachReleaseType</th>\n",
       "      <th>BreachImprisonmentInclude</th>\n",
       "      <th>LC_MOFCode</th>\n",
       "      <th>LC_MOFDescription</th>\n",
       "      <th>LC_FinalisationDate</th>\n",
       "      <th>HC_MOFCode</th>\n",
       "      <th>HC_MOFDescription</th>\n",
       "      <th>HC_FinalisationDate</th>\n",
       "      <th>AdjustedCaseHearingsToFinaliseMC</th>\n",
       "      <th>AdjustedCaseHearingsToFinaliseDC</th>\n",
       "      <th>AdjustedCaseHearingsToFinaliseSC</th>\n",
       "      <th>UniqueHearingAdjustmentMC</th>\n",
       "      <th>UniqueHearingAdjustmentDC</th>\n",
       "      <th>UniqueHearingAdjustmentSC</th>\n",
       "      <th>GroupCommittals</th>\n",
       "      <th>GroupUniqueCommittals</th>\n",
       "      <th>UniqueCommittalAdjustment</th>\n",
       "      <th>GroupPTrialsMC</th>\n",
       "      <th>GroupNTrialsMC</th>\n",
       "      <th>GroupPTrialMCMinMean</th>\n",
       "      <th>GroupNTrialMCMinMean</th>\n",
       "      <th>GroupPTrialMCMinSum</th>\n",
       "      <th>GroupNTrialMCMinSum</th>\n",
       "      <th>GroupPTrialMCDayMean</th>\n",
       "      <th>GroupNTrialMCDayMean</th>\n",
       "      <th>GroupPTrialMCDaySum</th>\n",
       "      <th>GroupNTrialMCDaySum</th>\n",
       "      <th>GroupPTrialsDC</th>\n",
       "      <th>GroupNTrialsDC</th>\n",
       "      <th>GroupPTrialDCMinMean</th>\n",
       "      <th>GroupNTrialDCMinMean</th>\n",
       "      <th>GroupPTrialDCMinSum</th>\n",
       "      <th>GroupNTrialDCMinSum</th>\n",
       "      <th>GroupPTrialDCDayMean</th>\n",
       "      <th>GroupNTrialDCDayMean</th>\n",
       "      <th>GroupPTrialDCDaySum</th>\n",
       "      <th>GroupNTrialDCDaySum</th>\n",
       "      <th>GroupPTrialsSC</th>\n",
       "      <th>GroupNTrialsSC</th>\n",
       "      <th>GroupPTrialSCMinMean</th>\n",
       "      <th>GroupNTrialSCMinMean</th>\n",
       "      <th>GroupPTrialSCMinSum</th>\n",
       "      <th>GroupNTrialSCMinSum</th>\n",
       "      <th>GroupPTrialSCDayMean</th>\n",
       "      <th>GroupNTrialSCDayMean</th>\n",
       "      <th>GroupPTrialSCDaySum</th>\n",
       "      <th>GroupNTrialSCDaySum</th>\n",
       "      <th>GroupUniquePTrialsMC</th>\n",
       "      <th>GroupUniqueNTrialsMC</th>\n",
       "      <th>UniquePTrialAdjustmentMC</th>\n",
       "      <th>UniqueNTrialAdjustmentMC</th>\n",
       "      <th>GroupUniquePTrialMCMinMean</th>\n",
       "      <th>GroupUniqueNTrialMCMinMean</th>\n",
       "      <th>GroupUniquePTrialMCMinSum</th>\n",
       "      <th>GroupUniqueNTrialMCMinSum</th>\n",
       "      <th>GroupUniquePTrialMCDayMean</th>\n",
       "      <th>GroupUniqueNTrialMCDayMean</th>\n",
       "      <th>GroupUniquePTrialMCDaySum</th>\n",
       "      <th>GroupUniqueNTrialMCDaySum</th>\n",
       "      <th>GroupUniquePTrialsDC</th>\n",
       "      <th>GroupUniqueNTrialsDC</th>\n",
       "      <th>UniquePTrialAdjustmentDC</th>\n",
       "      <th>UniqueNTrialAdjustmentDC</th>\n",
       "      <th>GroupUniquePTrialDCMinMean</th>\n",
       "      <th>GroupUniqueNTrialDCMinMean</th>\n",
       "      <th>GroupUniquePTrialDCMinSum</th>\n",
       "      <th>GroupUniqueNTrialDCMinSum</th>\n",
       "      <th>GroupUniquePTrialDCDayMean</th>\n",
       "      <th>GroupUniqueNTrialDCDayMean</th>\n",
       "      <th>GroupUniquePTrialDCDaySum</th>\n",
       "      <th>GroupUniqueNTrialDCDaySum</th>\n",
       "      <th>GroupUniquePTrialsSC</th>\n",
       "      <th>GroupUniqueNTrialsSC</th>\n",
       "      <th>UniquePTrialAdjustmentSC</th>\n",
       "      <th>UniqueNTrialAdjustmentSC</th>\n",
       "      <th>GroupUniquePTrialSCMinMean</th>\n",
       "      <th>GroupUniqueNTrialSCMinMean</th>\n",
       "      <th>GroupUniquePTrialSCMinSum</th>\n",
       "      <th>GroupUniqueNTrialSCMinSum</th>\n",
       "      <th>GroupUniquePTrialSCDayMean</th>\n",
       "      <th>GroupUniqueNTrialSCDayMean</th>\n",
       "      <th>GroupUniquePTrialSCDaySum</th>\n",
       "      <th>GroupUniqueNTrialSCDaySum</th>\n",
       "      <th>OtherPTrialMC</th>\n",
       "      <th>OtherNTrialMC</th>\n",
       "      <th>OtherPTrialMCMinMean</th>\n",
       "      <th>OtherNTrialMCMinMean</th>\n",
       "      <th>OtherPTrialMCDayMean</th>\n",
       "      <th>OtherNTrialMCDayMean</th>\n",
       "      <th>OtherPTrialMCMinSum</th>\n",
       "      <th>OtherNTrialMCMinSum</th>\n",
       "      <th>OtherPTrialMCDaySum</th>\n",
       "      <th>OtherNTrialMCDaySum</th>\n",
       "      <th>GroupOtherPTrialMCMinMean</th>\n",
       "      <th>GroupOtherNTrialMCMinMean</th>\n",
       "      <th>GroupOtherPTrialMCDayMean</th>\n",
       "      <th>GroupOtherNTrialMCDayMean</th>\n",
       "      <th>GroupOtherPTrialMCMinSum</th>\n",
       "      <th>GroupOtherNTrialMCMinSum</th>\n",
       "      <th>GroupOtherPTrialMCDaySum</th>\n",
       "      <th>GroupOtherNTrialMCDaySum</th>\n",
       "      <th>OtherPTrialDC</th>\n",
       "      <th>OtherNTrialDC</th>\n",
       "      <th>OtherPTrialDCMinMean</th>\n",
       "      <th>OtherNTrialDCMinMean</th>\n",
       "      <th>OtherPTrialDCDayMean</th>\n",
       "      <th>OtherNTrialDCDayMean</th>\n",
       "      <th>OtherPTrialDCMinSum</th>\n",
       "      <th>OtherNTrialDCMinSum</th>\n",
       "      <th>OtherPTrialDCDaySum</th>\n",
       "      <th>OtherNTrialDCDaySum</th>\n",
       "      <th>GroupOtherPTrialDCMinMean</th>\n",
       "      <th>GroupOtherNTrialDCMinMean</th>\n",
       "      <th>GroupOtherPTrialDCDayMean</th>\n",
       "      <th>GroupOtherNTrialDCDayMean</th>\n",
       "      <th>GroupOtherPTrialDCMinSum</th>\n",
       "      <th>GroupOtherNTrialDCMinSum</th>\n",
       "      <th>GroupOtherPTrialDCDaySum</th>\n",
       "      <th>GroupOtherNTrialDCDaySum</th>\n",
       "      <th>OtherPTrialSC</th>\n",
       "      <th>OtherNTrialSC</th>\n",
       "      <th>OtherPTrialSCMinMean</th>\n",
       "      <th>OtherNTrialSCMinMean</th>\n",
       "      <th>OtherPTrialSCDayMean</th>\n",
       "      <th>OtherNTrialSCDayMean</th>\n",
       "      <th>OtherPTrialSCMinSum</th>\n",
       "      <th>OtherNTrialSCMinSum</th>\n",
       "      <th>OtherPTrialSCDaySum</th>\n",
       "      <th>OtherNTrialSCDaySum</th>\n",
       "      <th>GroupOtherPTrialSCMinMean</th>\n",
       "      <th>GroupOtherNTrialSCMinMean</th>\n",
       "      <th>GroupOtherPTrialSCDayMean</th>\n",
       "      <th>GroupOtherNTrialSCDayMean</th>\n",
       "      <th>GroupOtherPTrialSCMinSum</th>\n",
       "      <th>GroupOtherNTrialSCMinSum</th>\n",
       "      <th>GroupOtherPTrialSCDaySum</th>\n",
       "      <th>GroupOtherNTrialSCDaySum</th>\n",
       "      <th>GroupOtherPTrialsMC</th>\n",
       "      <th>GroupOtherNTrialsMC</th>\n",
       "      <th>GroupUniqueOtherPTrialsMC</th>\n",
       "      <th>GroupUniqueOtherNTrialsMC</th>\n",
       "      <th>UniqueOtherPMCAdjustment</th>\n",
       "      <th>UniqueOtherNMCAdjustment</th>\n",
       "      <th>GroupUniqueOtherPTrialMCMinMean</th>\n",
       "      <th>GroupUniqueOtherNTrialMCMinMean</th>\n",
       "      <th>GroupUniqueOtherPTrialMCMinSum</th>\n",
       "      <th>GroupUniqueOtherNTrialMCMinSum</th>\n",
       "      <th>GroupUniqueOtherPTrialMCDayMean</th>\n",
       "      <th>GroupUniqueOtherNTrialMCDayMean</th>\n",
       "      <th>GroupUniqueOtherPTrialMCDaySum</th>\n",
       "      <th>GroupUniqueOtherNTrialMCDaySum</th>\n",
       "      <th>GroupOtherPTrialsDC</th>\n",
       "      <th>GroupOtherNTrialsDC</th>\n",
       "      <th>GroupUniqueOtherPTrialsDC</th>\n",
       "      <th>GroupUniqueOtherNTrialsDC</th>\n",
       "      <th>UniqueOtherPDCAdjustment</th>\n",
       "      <th>UniqueOtherNDCAdjustment</th>\n",
       "      <th>GroupUniqueOtherPTrialDCMinMean</th>\n",
       "      <th>GroupUniqueOtherNTrialDCMinMean</th>\n",
       "      <th>GroupUniqueOtherPTrialDCMinSum</th>\n",
       "      <th>GroupUniqueOtherNTrialDCMinSum</th>\n",
       "      <th>GroupUniqueOtherPTrialDCDayMean</th>\n",
       "      <th>GroupUniqueOtherNTrialDCDayMean</th>\n",
       "      <th>GroupUniqueOtherPTrialDCDaySum</th>\n",
       "      <th>GroupUniqueOtherNTrialDCDaySum</th>\n",
       "      <th>GroupOtherPTrialsSC</th>\n",
       "      <th>GroupOtherNTrialsSC</th>\n",
       "      <th>GroupUniqueOtherPTrialsSC</th>\n",
       "      <th>GroupUniqueOtherNTrialsSC</th>\n",
       "      <th>UniqueOtherPSCAdjustment</th>\n",
       "      <th>UniqueOtherNSCAdjustment</th>\n",
       "      <th>GroupUniqueOtherPTrialSCMinMean</th>\n",
       "      <th>GroupUniqueOtherNTrialSCMinMean</th>\n",
       "      <th>GroupUniqueOtherPTrialSCMinSum</th>\n",
       "      <th>GroupUniqueOtherNTrialSCMinSum</th>\n",
       "      <th>GroupUniqueOtherPTrialSCDayMean</th>\n",
       "      <th>GroupUniqueOtherNTrialSCDayMean</th>\n",
       "      <th>GroupUniqueOtherPTrialSCDaySum</th>\n",
       "      <th>GroupUniqueOtherNTrialSCDaySum</th>\n",
       "      <th>GroupSentenceMC</th>\n",
       "      <th>GroupSentenceDC</th>\n",
       "      <th>GroupSentenceSC</th>\n",
       "      <th>GroupUniqueSentenceMC</th>\n",
       "      <th>GroupUniqueSentenceDC</th>\n",
       "      <th>GroupUniqueSentenceSC</th>\n",
       "      <th>GroupSentMCMeanMin</th>\n",
       "      <th>GroupSentMCSumMin</th>\n",
       "      <th>GroupSentDCMeanMin</th>\n",
       "      <th>GroupSentDCSumMin</th>\n",
       "      <th>GroupSentSCMeanMin</th>\n",
       "      <th>GroupSentSCSumMin</th>\n",
       "      <th>UniqueSentenceAdjustmentMC</th>\n",
       "      <th>UniqueSentenceAdjustmentDC</th>\n",
       "      <th>UniqueSentenceAdjustmentSC</th>\n",
       "      <th>HearingsToFinaliseMC</th>\n",
       "      <th>MinMeanAllMC</th>\n",
       "      <th>MinSumAllMC</th>\n",
       "      <th>UniqueGroupHearingsMC</th>\n",
       "      <th>MinMeanUniqueMC</th>\n",
       "      <th>MinSumUniqueMC</th>\n",
       "      <th>HearingsToFinaliseDC</th>\n",
       "      <th>MinMeanDC</th>\n",
       "      <th>MinSumDC</th>\n",
       "      <th>HearingsToFinaliseSC</th>\n",
       "      <th>MinMeanSC</th>\n",
       "      <th>MinSumSC</th>\n",
       "      <th>UniqueGroupHearingsDC</th>\n",
       "      <th>MinMeanUniqueDC</th>\n",
       "      <th>MinSumUniqueDC</th>\n",
       "      <th>UniqueGroupHearingsSC</th>\n",
       "      <th>MinMeanUniqueSC</th>\n",
       "      <th>MinSumUniqueSC</th>\n",
       "      <th>HearingsToCommittal</th>\n",
       "      <th>MinMeanCom</th>\n",
       "      <th>MinSumCom</th>\n",
       "      <th>HearingsToTrial</th>\n",
       "      <th>MinMeanTrl</th>\n",
       "      <th>MinSumTrl</th>\n",
       "      <th>HearingsComToTrial</th>\n",
       "      <th>MinMeanComTrl</th>\n",
       "      <th>MinSumComTrl</th>\n",
       "      <th>HearingsComToFinal</th>\n",
       "      <th>MinMeanComFnl</th>\n",
       "      <th>MinSumComFnl</th>\n",
       "      <th>HearingsTrlToFinal</th>\n",
       "      <th>MinMeanTrlFnl</th>\n",
       "      <th>MinSumTrlFnl</th>\n",
       "    </tr>\n",
       "  </thead>\n",
       "  <tbody>\n",
       "    <tr>\n",
       "      <th>0</th>\n",
       "      <td>3681CC0F-2F38-470D-879A-40FE3E7FF7F2-4</td>\n",
       "      <td>4</td>\n",
       "      <td>NaN</td>\n",
       "      <td>2</td>\n",
       "      <td>30</td>\n",
       "      <td>12.0</td>\n",
       "      <td>23/08/2012</td>\n",
       "      <td>21/09/2017</td>\n",
       "      <td>1856</td>\n",
       "      <td>3681CC0F-2F38-470D-879A-40FE3E7FF7F2</td>\n",
       "      <td>10124861</td>\n",
       "      <td>TOFLE210719892</td>\n",
       "      <td>21/07/1989</td>\n",
       "      <td>Female</td>\n",
       "      <td>Non-Indigenous</td>\n",
       "      <td>1EB1201D-E34B-4A2E-89F3-D57D0E09AB88</td>\n",
       "      <td>(1)(c)</td>\n",
       "      <td>409</td>\n",
       "      <td>Criminal Code (WA)</td>\n",
       "      <td>(Att) Gains Benefit by Fraud</td>\n",
       "      <td>911</td>\n",
       "      <td>Obtain benefit by deception</td>\n",
       "      <td>60</td>\n",
       "      <td>YES</td>\n",
       "      <td>MC-JO-2921896-20150211</td>\n",
       "      <td>MC</td>\n",
       "      <td>NaN</td>\n",
       "      <td>NaN</td>\n",
       "      <td>11/02/2015</td>\n",
       "      <td>NaN</td>\n",
       "      <td>5.0</td>\n",
       "      <td>11/02/2015</td>\n",
       "      <td>MC</td>\n",
       "      <td>112</td>\n",
       "      <td>21/09/2017</td>\n",
       "      <td>953</td>\n",
       "      <td>NOT GUILTY</td>\n",
       "      <td>NaN</td>\n",
       "      <td>NaN</td>\n",
       "      <td>NaN</td>\n",
       "      <td>NaN</td>\n",
       "      <td>NO</td>\n",
       "      <td>NaN</td>\n",
       "      <td>NaN</td>\n",
       "      <td>NaN</td>\n",
       "      <td>NaN</td>\n",
       "      <td>NaN</td>\n",
       "      <td>NaN</td>\n",
       "      <td>NaN</td>\n",
       "      <td>NaN</td>\n",
       "      <td>NaN</td>\n",
       "      <td>NaN</td>\n",
       "      <td>NaN</td>\n",
       "      <td>NaN</td>\n",
       "      <td>19/08/2016</td>\n",
       "      <td>5/12/2016</td>\n",
       "      <td>5/12/2016</td>\n",
       "      <td>1.0</td>\n",
       "      <td>663.0</td>\n",
       "      <td>Did not Proceed</td>\n",
       "      <td>MC</td>\n",
       "      <td>NOT GUILTY</td>\n",
       "      <td>NaN</td>\n",
       "      <td>663.0</td>\n",
       "      <td>32.0</td>\n",
       "      <td>21/09/2017</td>\n",
       "      <td>GUILTY</td>\n",
       "      <td>YES</td>\n",
       "      <td>290.0</td>\n",
       "      <td>NO</td>\n",
       "      <td>NaN</td>\n",
       "      <td>NaN</td>\n",
       "      <td>NaN</td>\n",
       "      <td>21/09/2017</td>\n",
       "      <td>27/06/2017</td>\n",
       "      <td>290</td>\n",
       "      <td>13.0</td>\n",
       "      <td>MC</td>\n",
       "      <td>Imprisonment</td>\n",
       "      <td>YES</td>\n",
       "      <td>NaN</td>\n",
       "      <td>NaN</td>\n",
       "      <td>366.0</td>\n",
       "      <td>279</td>\n",
       "      <td>26/06/2018</td>\n",
       "      <td>26/06/2018</td>\n",
       "      <td>NaN</td>\n",
       "      <td>YES</td>\n",
       "      <td>NaN</td>\n",
       "      <td>27/06/2017</td>\n",
       "      <td>19/09/2017</td>\n",
       "      <td>26/06/2018</td>\n",
       "      <td>26/06/2018</td>\n",
       "      <td>365.0</td>\n",
       "      <td>NaN</td>\n",
       "      <td>NaN</td>\n",
       "      <td>281.0</td>\n",
       "      <td>281.0</td>\n",
       "      <td>87.0</td>\n",
       "      <td>NaN</td>\n",
       "      <td>0.046875</td>\n",
       "      <td>YES</td>\n",
       "      <td>2</td>\n",
       "      <td>3</td>\n",
       "      <td>YES</td>\n",
       "      <td>Y</td>\n",
       "      <td>NaN</td>\n",
       "      <td>NaN</td>\n",
       "      <td>300.0</td>\n",
       "      <td>0.0</td>\n",
       "      <td>4540.0</td>\n",
       "      <td>YES</td>\n",
       "      <td>NO</td>\n",
       "      <td>NaN</td>\n",
       "      <td>NO</td>\n",
       "      <td>NaN</td>\n",
       "      <td>NaN</td>\n",
       "      <td>NaN</td>\n",
       "      <td>NaN</td>\n",
       "      <td>NaN</td>\n",
       "      <td>NaN</td>\n",
       "      <td>NaN</td>\n",
       "      <td>NaN</td>\n",
       "      <td>NaN</td>\n",
       "      <td>NaN</td>\n",
       "      <td>NaN</td>\n",
       "      <td>NaN</td>\n",
       "      <td>NaN</td>\n",
       "      <td>NaN</td>\n",
       "      <td>NaN</td>\n",
       "      <td>NaN</td>\n",
       "      <td>NaN</td>\n",
       "      <td>NaN</td>\n",
       "      <td>NaN</td>\n",
       "      <td>NaN</td>\n",
       "      <td>NaN</td>\n",
       "      <td>NaN</td>\n",
       "      <td>NaN</td>\n",
       "      <td>NaN</td>\n",
       "      <td>NaN</td>\n",
       "      <td>NaN</td>\n",
       "      <td>NaN</td>\n",
       "      <td>112.0</td>\n",
       "      <td>Guilty plea by defendant</td>\n",
       "      <td>21/09/2017</td>\n",
       "      <td>NaN</td>\n",
       "      <td>NaN</td>\n",
       "      <td>NaN</td>\n",
       "      <td>5.289421</td>\n",
       "      <td>NaN</td>\n",
       "      <td>NaN</td>\n",
       "      <td>0.211577</td>\n",
       "      <td>1.0</td>\n",
       "      <td>NaN</td>\n",
       "      <td>6.0</td>\n",
       "      <td>1.0</td>\n",
       "      <td>0.166667</td>\n",
       "      <td>5.0</td>\n",
       "      <td>13.0</td>\n",
       "      <td>NaN</td>\n",
       "      <td>32.0</td>\n",
       "      <td>NaN</td>\n",
       "      <td>416.0</td>\n",
       "      <td>1.0</td>\n",
       "      <td>1.0</td>\n",
       "      <td>5.0</td>\n",
       "      <td>13.0</td>\n",
       "      <td>1.0</td>\n",
       "      <td>NaN</td>\n",
       "      <td>1400.0</td>\n",
       "      <td>NaN</td>\n",
       "      <td>1400.0</td>\n",
       "      <td>NaN</td>\n",
       "      <td>4.0</td>\n",
       "      <td>NaN</td>\n",
       "      <td>4.0</td>\n",
       "      <td>NaN</td>\n",
       "      <td>NaN</td>\n",
       "      <td>NaN</td>\n",
       "      <td>NaN</td>\n",
       "      <td>NaN</td>\n",
       "      <td>NaN</td>\n",
       "      <td>NaN</td>\n",
       "      <td>NaN</td>\n",
       "      <td>NaN</td>\n",
       "      <td>NaN</td>\n",
       "      <td>NaN</td>\n",
       "      <td>2.0</td>\n",
       "      <td>1.0</td>\n",
       "      <td>0.4</td>\n",
       "      <td>0.076923</td>\n",
       "      <td>NaN</td>\n",
       "      <td>32.0</td>\n",
       "      <td>NaN</td>\n",
       "      <td>32.0</td>\n",
       "      <td>1.0</td>\n",
       "      <td>1.0</td>\n",
       "      <td>2.0</td>\n",
       "      <td>1.0</td>\n",
       "      <td>1.0</td>\n",
       "      <td>NaN</td>\n",
       "      <td>1.0</td>\n",
       "      <td>NaN</td>\n",
       "      <td>1400.0</td>\n",
       "      <td>NaN</td>\n",
       "      <td>1400.0</td>\n",
       "      <td>NaN</td>\n",
       "      <td>4.0</td>\n",
       "      <td>NaN</td>\n",
       "      <td>4.0</td>\n",
       "      <td>NaN</td>\n",
       "      <td>NaN</td>\n",
       "      <td>NaN</td>\n",
       "      <td>NaN</td>\n",
       "      <td>NaN</td>\n",
       "      <td>NaN</td>\n",
       "      <td>NaN</td>\n",
       "      <td>NaN</td>\n",
       "      <td>NaN</td>\n",
       "      <td>NaN</td>\n",
       "      <td>NaN</td>\n",
       "      <td>NaN</td>\n",
       "      <td>NaN</td>\n",
       "      <td>0.0</td>\n",
       "      <td>1.0</td>\n",
       "      <td>NaN</td>\n",
       "      <td>4.0</td>\n",
       "      <td>NaN</td>\n",
       "      <td>1.0</td>\n",
       "      <td>NaN</td>\n",
       "      <td>4.0</td>\n",
       "      <td>NaN</td>\n",
       "      <td>1.0</td>\n",
       "      <td>0.0</td>\n",
       "      <td>4.0</td>\n",
       "      <td>1.0</td>\n",
       "      <td>1.0</td>\n",
       "      <td>0.0</td>\n",
       "      <td>8.0</td>\n",
       "      <td>1.0</td>\n",
       "      <td>2.0</td>\n",
       "      <td>0.0</td>\n",
       "      <td>0.0</td>\n",
       "      <td>NaN</td>\n",
       "      <td>NaN</td>\n",
       "      <td>NaN</td>\n",
       "      <td>NaN</td>\n",
       "      <td>NaN</td>\n",
       "      <td>NaN</td>\n",
       "      <td>NaN</td>\n",
       "      <td>NaN</td>\n",
       "      <td>791.0</td>\n",
       "      <td>0.0</td>\n",
       "      <td>3.0</td>\n",
       "      <td>0.0</td>\n",
       "      <td>791.0</td>\n",
       "      <td>0.0</td>\n",
       "      <td>3.0</td>\n",
       "      <td>0.0</td>\n",
       "      <td>0.0</td>\n",
       "      <td>0.0</td>\n",
       "      <td>NaN</td>\n",
       "      <td>NaN</td>\n",
       "      <td>NaN</td>\n",
       "      <td>NaN</td>\n",
       "      <td>NaN</td>\n",
       "      <td>NaN</td>\n",
       "      <td>NaN</td>\n",
       "      <td>NaN</td>\n",
       "      <td>0.0</td>\n",
       "      <td>0.0</td>\n",
       "      <td>0.0</td>\n",
       "      <td>0.0</td>\n",
       "      <td>0.0</td>\n",
       "      <td>0.0</td>\n",
       "      <td>0.0</td>\n",
       "      <td>0.0</td>\n",
       "      <td>1.0</td>\n",
       "      <td>2.0</td>\n",
       "      <td>1.0</td>\n",
       "      <td>1.0</td>\n",
       "      <td>1.0</td>\n",
       "      <td>0.5</td>\n",
       "      <td>NaN</td>\n",
       "      <td>4.0</td>\n",
       "      <td>NaN</td>\n",
       "      <td>4.0</td>\n",
       "      <td>1.0</td>\n",
       "      <td>1.0</td>\n",
       "      <td>1.0</td>\n",
       "      <td>1.0</td>\n",
       "      <td>1.0</td>\n",
       "      <td>0.0</td>\n",
       "      <td>1.0</td>\n",
       "      <td>0.0</td>\n",
       "      <td>1.0</td>\n",
       "      <td>NaN</td>\n",
       "      <td>791.0</td>\n",
       "      <td>NaN</td>\n",
       "      <td>791.0</td>\n",
       "      <td>NaN</td>\n",
       "      <td>3.0</td>\n",
       "      <td>NaN</td>\n",
       "      <td>3.0</td>\n",
       "      <td>NaN</td>\n",
       "      <td>0.0</td>\n",
       "      <td>0.0</td>\n",
       "      <td>0.0</td>\n",
       "      <td>0.0</td>\n",
       "      <td>NaN</td>\n",
       "      <td>NaN</td>\n",
       "      <td>NaN</td>\n",
       "      <td>NaN</td>\n",
       "      <td>NaN</td>\n",
       "      <td>NaN</td>\n",
       "      <td>NaN</td>\n",
       "      <td>NaN</td>\n",
       "      <td>NaN</td>\n",
       "      <td>NaN</td>\n",
       "      <td>26.0</td>\n",
       "      <td>NaN</td>\n",
       "      <td>NaN</td>\n",
       "      <td>7.0</td>\n",
       "      <td>NaN</td>\n",
       "      <td>NaN</td>\n",
       "      <td>NaN</td>\n",
       "      <td>NaN</td>\n",
       "      <td>NaN</td>\n",
       "      <td>NaN</td>\n",
       "      <td>NaN</td>\n",
       "      <td>NaN</td>\n",
       "      <td>0.269231</td>\n",
       "      <td>NaN</td>\n",
       "      <td>NaN</td>\n",
       "      <td>25.0</td>\n",
       "      <td>19.200000</td>\n",
       "      <td>480.0</td>\n",
       "      <td>106.0</td>\n",
       "      <td>16.553846</td>\n",
       "      <td>1076.0</td>\n",
       "      <td>NaN</td>\n",
       "      <td>NaN</td>\n",
       "      <td>NaN</td>\n",
       "      <td>NaN</td>\n",
       "      <td>NaN</td>\n",
       "      <td>NaN</td>\n",
       "      <td>5.0</td>\n",
       "      <td>447.6</td>\n",
       "      <td>2238.0</td>\n",
       "      <td>NaN</td>\n",
       "      <td>NaN</td>\n",
       "      <td>NaN</td>\n",
       "      <td>NaN</td>\n",
       "      <td>NaN</td>\n",
       "      <td>NaN</td>\n",
       "      <td>14.0</td>\n",
       "      <td>14.142857</td>\n",
       "      <td>198.0</td>\n",
       "      <td>NaN</td>\n",
       "      <td>NaN</td>\n",
       "      <td>NaN</td>\n",
       "      <td>NaN</td>\n",
       "      <td>NaN</td>\n",
       "      <td>NaN</td>\n",
       "      <td>NaN</td>\n",
       "      <td>NaN</td>\n",
       "      <td>NaN</td>\n",
       "    </tr>\n",
       "    <tr>\n",
       "      <th>1</th>\n",
       "      <td>3681CC0F-2F38-470D-879A-40FE3E7FF7F2-4</td>\n",
       "      <td>4</td>\n",
       "      <td>NaN</td>\n",
       "      <td>4</td>\n",
       "      <td>30</td>\n",
       "      <td>12.0</td>\n",
       "      <td>23/08/2012</td>\n",
       "      <td>21/09/2017</td>\n",
       "      <td>1856</td>\n",
       "      <td>3681CC0F-2F38-470D-879A-40FE3E7FF7F2</td>\n",
       "      <td>10124861</td>\n",
       "      <td>TOFLE210719892</td>\n",
       "      <td>21/07/1989</td>\n",
       "      <td>Female</td>\n",
       "      <td>Non-Indigenous</td>\n",
       "      <td>68464E23-591C-4683-8BCA-A05AF76C3D34</td>\n",
       "      <td>(1)(c)</td>\n",
       "      <td>409</td>\n",
       "      <td>Criminal Code (WA)</td>\n",
       "      <td>Gains Benefit by Fraud.</td>\n",
       "      <td>911</td>\n",
       "      <td>Obtain benefit by deception</td>\n",
       "      <td>60</td>\n",
       "      <td>YES</td>\n",
       "      <td>MC-MI-2921896-20150602</td>\n",
       "      <td>MC</td>\n",
       "      <td>NaN</td>\n",
       "      <td>NaN</td>\n",
       "      <td>2/06/2015</td>\n",
       "      <td>NaN</td>\n",
       "      <td>2.0</td>\n",
       "      <td>2/06/2015</td>\n",
       "      <td>MC</td>\n",
       "      <td>112</td>\n",
       "      <td>21/09/2017</td>\n",
       "      <td>842</td>\n",
       "      <td>NOT GUILTY</td>\n",
       "      <td>NaN</td>\n",
       "      <td>NaN</td>\n",
       "      <td>NaN</td>\n",
       "      <td>NaN</td>\n",
       "      <td>NO</td>\n",
       "      <td>NaN</td>\n",
       "      <td>NaN</td>\n",
       "      <td>NaN</td>\n",
       "      <td>NaN</td>\n",
       "      <td>NaN</td>\n",
       "      <td>NaN</td>\n",
       "      <td>NaN</td>\n",
       "      <td>NaN</td>\n",
       "      <td>NaN</td>\n",
       "      <td>NaN</td>\n",
       "      <td>NaN</td>\n",
       "      <td>NaN</td>\n",
       "      <td>5/12/2016</td>\n",
       "      <td>5/12/2016</td>\n",
       "      <td>5/12/2016</td>\n",
       "      <td>1.0</td>\n",
       "      <td>552.0</td>\n",
       "      <td>Did not Proceed</td>\n",
       "      <td>MC</td>\n",
       "      <td>NOT GUILTY</td>\n",
       "      <td>NaN</td>\n",
       "      <td>552.0</td>\n",
       "      <td>32.0</td>\n",
       "      <td>21/09/2017</td>\n",
       "      <td>GUILTY</td>\n",
       "      <td>YES</td>\n",
       "      <td>290.0</td>\n",
       "      <td>NO</td>\n",
       "      <td>NaN</td>\n",
       "      <td>NaN</td>\n",
       "      <td>NaN</td>\n",
       "      <td>21/09/2017</td>\n",
       "      <td>27/06/2017</td>\n",
       "      <td>290</td>\n",
       "      <td>13.0</td>\n",
       "      <td>MC</td>\n",
       "      <td>Imprisonment</td>\n",
       "      <td>YES</td>\n",
       "      <td>NaN</td>\n",
       "      <td>NaN</td>\n",
       "      <td>366.0</td>\n",
       "      <td>279</td>\n",
       "      <td>26/06/2018</td>\n",
       "      <td>26/06/2018</td>\n",
       "      <td>NaN</td>\n",
       "      <td>YES</td>\n",
       "      <td>NaN</td>\n",
       "      <td>27/06/2017</td>\n",
       "      <td>19/09/2017</td>\n",
       "      <td>26/06/2018</td>\n",
       "      <td>26/06/2018</td>\n",
       "      <td>365.0</td>\n",
       "      <td>NaN</td>\n",
       "      <td>NaN</td>\n",
       "      <td>281.0</td>\n",
       "      <td>281.0</td>\n",
       "      <td>87.0</td>\n",
       "      <td>NaN</td>\n",
       "      <td>0.046875</td>\n",
       "      <td>YES</td>\n",
       "      <td>2</td>\n",
       "      <td>3</td>\n",
       "      <td>YES</td>\n",
       "      <td>Y</td>\n",
       "      <td>NaN</td>\n",
       "      <td>NaN</td>\n",
       "      <td>300.0</td>\n",
       "      <td>0.0</td>\n",
       "      <td>4540.0</td>\n",
       "      <td>YES</td>\n",
       "      <td>NO</td>\n",
       "      <td>NaN</td>\n",
       "      <td>NO</td>\n",
       "      <td>NaN</td>\n",
       "      <td>NaN</td>\n",
       "      <td>NaN</td>\n",
       "      <td>NaN</td>\n",
       "      <td>NaN</td>\n",
       "      <td>NaN</td>\n",
       "      <td>NaN</td>\n",
       "      <td>NaN</td>\n",
       "      <td>NaN</td>\n",
       "      <td>NaN</td>\n",
       "      <td>NaN</td>\n",
       "      <td>NaN</td>\n",
       "      <td>NaN</td>\n",
       "      <td>NaN</td>\n",
       "      <td>NaN</td>\n",
       "      <td>NaN</td>\n",
       "      <td>NaN</td>\n",
       "      <td>NaN</td>\n",
       "      <td>NaN</td>\n",
       "      <td>NaN</td>\n",
       "      <td>NaN</td>\n",
       "      <td>NaN</td>\n",
       "      <td>NaN</td>\n",
       "      <td>NaN</td>\n",
       "      <td>NaN</td>\n",
       "      <td>NaN</td>\n",
       "      <td>NaN</td>\n",
       "      <td>112.0</td>\n",
       "      <td>Guilty plea by defendant</td>\n",
       "      <td>21/09/2017</td>\n",
       "      <td>NaN</td>\n",
       "      <td>NaN</td>\n",
       "      <td>NaN</td>\n",
       "      <td>5.924152</td>\n",
       "      <td>NaN</td>\n",
       "      <td>NaN</td>\n",
       "      <td>0.211577</td>\n",
       "      <td>1.0</td>\n",
       "      <td>NaN</td>\n",
       "      <td>6.0</td>\n",
       "      <td>1.0</td>\n",
       "      <td>0.166667</td>\n",
       "      <td>5.0</td>\n",
       "      <td>13.0</td>\n",
       "      <td>NaN</td>\n",
       "      <td>32.0</td>\n",
       "      <td>NaN</td>\n",
       "      <td>416.0</td>\n",
       "      <td>1.0</td>\n",
       "      <td>1.0</td>\n",
       "      <td>5.0</td>\n",
       "      <td>13.0</td>\n",
       "      <td>1.0</td>\n",
       "      <td>NaN</td>\n",
       "      <td>1400.0</td>\n",
       "      <td>NaN</td>\n",
       "      <td>1400.0</td>\n",
       "      <td>NaN</td>\n",
       "      <td>4.0</td>\n",
       "      <td>NaN</td>\n",
       "      <td>4.0</td>\n",
       "      <td>NaN</td>\n",
       "      <td>NaN</td>\n",
       "      <td>NaN</td>\n",
       "      <td>NaN</td>\n",
       "      <td>NaN</td>\n",
       "      <td>NaN</td>\n",
       "      <td>NaN</td>\n",
       "      <td>NaN</td>\n",
       "      <td>NaN</td>\n",
       "      <td>NaN</td>\n",
       "      <td>NaN</td>\n",
       "      <td>2.0</td>\n",
       "      <td>1.0</td>\n",
       "      <td>0.4</td>\n",
       "      <td>0.076923</td>\n",
       "      <td>NaN</td>\n",
       "      <td>32.0</td>\n",
       "      <td>NaN</td>\n",
       "      <td>32.0</td>\n",
       "      <td>1.0</td>\n",
       "      <td>1.0</td>\n",
       "      <td>2.0</td>\n",
       "      <td>1.0</td>\n",
       "      <td>1.0</td>\n",
       "      <td>NaN</td>\n",
       "      <td>1.0</td>\n",
       "      <td>NaN</td>\n",
       "      <td>1400.0</td>\n",
       "      <td>NaN</td>\n",
       "      <td>1400.0</td>\n",
       "      <td>NaN</td>\n",
       "      <td>4.0</td>\n",
       "      <td>NaN</td>\n",
       "      <td>4.0</td>\n",
       "      <td>NaN</td>\n",
       "      <td>NaN</td>\n",
       "      <td>NaN</td>\n",
       "      <td>NaN</td>\n",
       "      <td>NaN</td>\n",
       "      <td>NaN</td>\n",
       "      <td>NaN</td>\n",
       "      <td>NaN</td>\n",
       "      <td>NaN</td>\n",
       "      <td>NaN</td>\n",
       "      <td>NaN</td>\n",
       "      <td>NaN</td>\n",
       "      <td>NaN</td>\n",
       "      <td>0.0</td>\n",
       "      <td>0.0</td>\n",
       "      <td>NaN</td>\n",
       "      <td>NaN</td>\n",
       "      <td>NaN</td>\n",
       "      <td>NaN</td>\n",
       "      <td>NaN</td>\n",
       "      <td>NaN</td>\n",
       "      <td>NaN</td>\n",
       "      <td>NaN</td>\n",
       "      <td>0.0</td>\n",
       "      <td>4.0</td>\n",
       "      <td>1.0</td>\n",
       "      <td>1.0</td>\n",
       "      <td>0.0</td>\n",
       "      <td>8.0</td>\n",
       "      <td>1.0</td>\n",
       "      <td>2.0</td>\n",
       "      <td>0.0</td>\n",
       "      <td>0.0</td>\n",
       "      <td>NaN</td>\n",
       "      <td>NaN</td>\n",
       "      <td>NaN</td>\n",
       "      <td>NaN</td>\n",
       "      <td>NaN</td>\n",
       "      <td>NaN</td>\n",
       "      <td>NaN</td>\n",
       "      <td>NaN</td>\n",
       "      <td>791.0</td>\n",
       "      <td>0.0</td>\n",
       "      <td>3.0</td>\n",
       "      <td>0.0</td>\n",
       "      <td>791.0</td>\n",
       "      <td>0.0</td>\n",
       "      <td>3.0</td>\n",
       "      <td>0.0</td>\n",
       "      <td>0.0</td>\n",
       "      <td>0.0</td>\n",
       "      <td>NaN</td>\n",
       "      <td>NaN</td>\n",
       "      <td>NaN</td>\n",
       "      <td>NaN</td>\n",
       "      <td>NaN</td>\n",
       "      <td>NaN</td>\n",
       "      <td>NaN</td>\n",
       "      <td>NaN</td>\n",
       "      <td>0.0</td>\n",
       "      <td>0.0</td>\n",
       "      <td>0.0</td>\n",
       "      <td>0.0</td>\n",
       "      <td>0.0</td>\n",
       "      <td>0.0</td>\n",
       "      <td>0.0</td>\n",
       "      <td>0.0</td>\n",
       "      <td>1.0</td>\n",
       "      <td>2.0</td>\n",
       "      <td>1.0</td>\n",
       "      <td>1.0</td>\n",
       "      <td>1.0</td>\n",
       "      <td>0.5</td>\n",
       "      <td>NaN</td>\n",
       "      <td>4.0</td>\n",
       "      <td>NaN</td>\n",
       "      <td>4.0</td>\n",
       "      <td>1.0</td>\n",
       "      <td>1.0</td>\n",
       "      <td>1.0</td>\n",
       "      <td>1.0</td>\n",
       "      <td>1.0</td>\n",
       "      <td>0.0</td>\n",
       "      <td>1.0</td>\n",
       "      <td>0.0</td>\n",
       "      <td>1.0</td>\n",
       "      <td>NaN</td>\n",
       "      <td>791.0</td>\n",
       "      <td>NaN</td>\n",
       "      <td>791.0</td>\n",
       "      <td>NaN</td>\n",
       "      <td>3.0</td>\n",
       "      <td>NaN</td>\n",
       "      <td>3.0</td>\n",
       "      <td>NaN</td>\n",
       "      <td>0.0</td>\n",
       "      <td>0.0</td>\n",
       "      <td>0.0</td>\n",
       "      <td>0.0</td>\n",
       "      <td>NaN</td>\n",
       "      <td>NaN</td>\n",
       "      <td>NaN</td>\n",
       "      <td>NaN</td>\n",
       "      <td>NaN</td>\n",
       "      <td>NaN</td>\n",
       "      <td>NaN</td>\n",
       "      <td>NaN</td>\n",
       "      <td>NaN</td>\n",
       "      <td>NaN</td>\n",
       "      <td>26.0</td>\n",
       "      <td>NaN</td>\n",
       "      <td>NaN</td>\n",
       "      <td>7.0</td>\n",
       "      <td>NaN</td>\n",
       "      <td>NaN</td>\n",
       "      <td>NaN</td>\n",
       "      <td>NaN</td>\n",
       "      <td>NaN</td>\n",
       "      <td>NaN</td>\n",
       "      <td>NaN</td>\n",
       "      <td>NaN</td>\n",
       "      <td>0.269231</td>\n",
       "      <td>NaN</td>\n",
       "      <td>NaN</td>\n",
       "      <td>28.0</td>\n",
       "      <td>18.285714</td>\n",
       "      <td>512.0</td>\n",
       "      <td>106.0</td>\n",
       "      <td>16.553846</td>\n",
       "      <td>1076.0</td>\n",
       "      <td>NaN</td>\n",
       "      <td>NaN</td>\n",
       "      <td>NaN</td>\n",
       "      <td>NaN</td>\n",
       "      <td>NaN</td>\n",
       "      <td>NaN</td>\n",
       "      <td>5.0</td>\n",
       "      <td>447.6</td>\n",
       "      <td>2238.0</td>\n",
       "      <td>NaN</td>\n",
       "      <td>NaN</td>\n",
       "      <td>NaN</td>\n",
       "      <td>NaN</td>\n",
       "      <td>NaN</td>\n",
       "      <td>NaN</td>\n",
       "      <td>17.0</td>\n",
       "      <td>13.529412</td>\n",
       "      <td>230.0</td>\n",
       "      <td>NaN</td>\n",
       "      <td>NaN</td>\n",
       "      <td>NaN</td>\n",
       "      <td>NaN</td>\n",
       "      <td>NaN</td>\n",
       "      <td>NaN</td>\n",
       "      <td>NaN</td>\n",
       "      <td>NaN</td>\n",
       "      <td>NaN</td>\n",
       "    </tr>\n",
       "    <tr>\n",
       "      <th>2</th>\n",
       "      <td>3681CC0F-2F38-470D-879A-40FE3E7FF7F2-4</td>\n",
       "      <td>4</td>\n",
       "      <td>NaN</td>\n",
       "      <td>11</td>\n",
       "      <td>30</td>\n",
       "      <td>12.0</td>\n",
       "      <td>23/08/2012</td>\n",
       "      <td>21/09/2017</td>\n",
       "      <td>1856</td>\n",
       "      <td>3681CC0F-2F38-470D-879A-40FE3E7FF7F2</td>\n",
       "      <td>10124861</td>\n",
       "      <td>TOFLE210719892</td>\n",
       "      <td>21/07/1989</td>\n",
       "      <td>Female</td>\n",
       "      <td>Non-Indigenous</td>\n",
       "      <td>439DAB6F-0405-4E6C-8DF1-675F439B6D77</td>\n",
       "      <td>-1</td>\n",
       "      <td>134.1</td>\n",
       "      <td>Criminal Code Act 1995 (Cth)</td>\n",
       "      <td>By deception dishonestly obtained property bel...</td>\n",
       "      <td>999</td>\n",
       "      <td>Other fraud and deception offences, nec</td>\n",
       "      <td>66</td>\n",
       "      <td>YES</td>\n",
       "      <td>MC-JO-2921896-20150803</td>\n",
       "      <td>MC</td>\n",
       "      <td>NaN</td>\n",
       "      <td>NaN</td>\n",
       "      <td>3/08/2015</td>\n",
       "      <td>NaN</td>\n",
       "      <td>5.0</td>\n",
       "      <td>3/08/2015</td>\n",
       "      <td>MC</td>\n",
       "      <td>112</td>\n",
       "      <td>21/09/2017</td>\n",
       "      <td>780</td>\n",
       "      <td>NOT GUILTY</td>\n",
       "      <td>NaN</td>\n",
       "      <td>NaN</td>\n",
       "      <td>NaN</td>\n",
       "      <td>NaN</td>\n",
       "      <td>NO</td>\n",
       "      <td>NaN</td>\n",
       "      <td>NaN</td>\n",
       "      <td>NaN</td>\n",
       "      <td>NaN</td>\n",
       "      <td>NaN</td>\n",
       "      <td>NaN</td>\n",
       "      <td>NaN</td>\n",
       "      <td>NaN</td>\n",
       "      <td>NaN</td>\n",
       "      <td>NaN</td>\n",
       "      <td>NaN</td>\n",
       "      <td>NaN</td>\n",
       "      <td>5/12/2016</td>\n",
       "      <td>5/12/2016</td>\n",
       "      <td>5/12/2016</td>\n",
       "      <td>1.0</td>\n",
       "      <td>490.0</td>\n",
       "      <td>Did not Proceed</td>\n",
       "      <td>MC</td>\n",
       "      <td>NOT GUILTY</td>\n",
       "      <td>NaN</td>\n",
       "      <td>490.0</td>\n",
       "      <td>32.0</td>\n",
       "      <td>21/09/2017</td>\n",
       "      <td>GUILTY</td>\n",
       "      <td>YES</td>\n",
       "      <td>290.0</td>\n",
       "      <td>NO</td>\n",
       "      <td>NaN</td>\n",
       "      <td>NaN</td>\n",
       "      <td>NaN</td>\n",
       "      <td>21/09/2017</td>\n",
       "      <td>27/06/2017</td>\n",
       "      <td>290</td>\n",
       "      <td>13.0</td>\n",
       "      <td>MC</td>\n",
       "      <td>Imprisonment</td>\n",
       "      <td>YES</td>\n",
       "      <td>NaN</td>\n",
       "      <td>NaN</td>\n",
       "      <td>366.0</td>\n",
       "      <td>279</td>\n",
       "      <td>26/06/2018</td>\n",
       "      <td>26/06/2018</td>\n",
       "      <td>NaN</td>\n",
       "      <td>YES</td>\n",
       "      <td>NaN</td>\n",
       "      <td>27/06/2017</td>\n",
       "      <td>19/09/2017</td>\n",
       "      <td>26/06/2018</td>\n",
       "      <td>26/06/2018</td>\n",
       "      <td>365.0</td>\n",
       "      <td>NaN</td>\n",
       "      <td>NaN</td>\n",
       "      <td>281.0</td>\n",
       "      <td>281.0</td>\n",
       "      <td>87.0</td>\n",
       "      <td>NaN</td>\n",
       "      <td>0.046875</td>\n",
       "      <td>YES</td>\n",
       "      <td>2</td>\n",
       "      <td>3</td>\n",
       "      <td>YES</td>\n",
       "      <td>Y</td>\n",
       "      <td>NaN</td>\n",
       "      <td>NaN</td>\n",
       "      <td>300.0</td>\n",
       "      <td>0.0</td>\n",
       "      <td>4540.0</td>\n",
       "      <td>YES</td>\n",
       "      <td>NO</td>\n",
       "      <td>NaN</td>\n",
       "      <td>NO</td>\n",
       "      <td>NaN</td>\n",
       "      <td>NaN</td>\n",
       "      <td>NaN</td>\n",
       "      <td>NaN</td>\n",
       "      <td>NaN</td>\n",
       "      <td>NaN</td>\n",
       "      <td>NaN</td>\n",
       "      <td>NaN</td>\n",
       "      <td>NaN</td>\n",
       "      <td>NaN</td>\n",
       "      <td>NaN</td>\n",
       "      <td>NaN</td>\n",
       "      <td>NaN</td>\n",
       "      <td>NaN</td>\n",
       "      <td>NaN</td>\n",
       "      <td>NaN</td>\n",
       "      <td>NaN</td>\n",
       "      <td>NaN</td>\n",
       "      <td>NaN</td>\n",
       "      <td>NaN</td>\n",
       "      <td>NaN</td>\n",
       "      <td>NaN</td>\n",
       "      <td>NaN</td>\n",
       "      <td>NaN</td>\n",
       "      <td>NaN</td>\n",
       "      <td>NaN</td>\n",
       "      <td>NaN</td>\n",
       "      <td>112.0</td>\n",
       "      <td>Guilty plea by defendant</td>\n",
       "      <td>21/09/2017</td>\n",
       "      <td>NaN</td>\n",
       "      <td>NaN</td>\n",
       "      <td>NaN</td>\n",
       "      <td>5.712575</td>\n",
       "      <td>NaN</td>\n",
       "      <td>NaN</td>\n",
       "      <td>0.211577</td>\n",
       "      <td>1.0</td>\n",
       "      <td>NaN</td>\n",
       "      <td>6.0</td>\n",
       "      <td>1.0</td>\n",
       "      <td>0.166667</td>\n",
       "      <td>5.0</td>\n",
       "      <td>13.0</td>\n",
       "      <td>NaN</td>\n",
       "      <td>32.0</td>\n",
       "      <td>NaN</td>\n",
       "      <td>416.0</td>\n",
       "      <td>1.0</td>\n",
       "      <td>1.0</td>\n",
       "      <td>5.0</td>\n",
       "      <td>13.0</td>\n",
       "      <td>1.0</td>\n",
       "      <td>NaN</td>\n",
       "      <td>1400.0</td>\n",
       "      <td>NaN</td>\n",
       "      <td>1400.0</td>\n",
       "      <td>NaN</td>\n",
       "      <td>4.0</td>\n",
       "      <td>NaN</td>\n",
       "      <td>4.0</td>\n",
       "      <td>NaN</td>\n",
       "      <td>NaN</td>\n",
       "      <td>NaN</td>\n",
       "      <td>NaN</td>\n",
       "      <td>NaN</td>\n",
       "      <td>NaN</td>\n",
       "      <td>NaN</td>\n",
       "      <td>NaN</td>\n",
       "      <td>NaN</td>\n",
       "      <td>NaN</td>\n",
       "      <td>NaN</td>\n",
       "      <td>2.0</td>\n",
       "      <td>1.0</td>\n",
       "      <td>0.4</td>\n",
       "      <td>0.076923</td>\n",
       "      <td>NaN</td>\n",
       "      <td>32.0</td>\n",
       "      <td>NaN</td>\n",
       "      <td>32.0</td>\n",
       "      <td>1.0</td>\n",
       "      <td>1.0</td>\n",
       "      <td>2.0</td>\n",
       "      <td>1.0</td>\n",
       "      <td>1.0</td>\n",
       "      <td>NaN</td>\n",
       "      <td>1.0</td>\n",
       "      <td>NaN</td>\n",
       "      <td>1400.0</td>\n",
       "      <td>NaN</td>\n",
       "      <td>1400.0</td>\n",
       "      <td>NaN</td>\n",
       "      <td>4.0</td>\n",
       "      <td>NaN</td>\n",
       "      <td>4.0</td>\n",
       "      <td>NaN</td>\n",
       "      <td>NaN</td>\n",
       "      <td>NaN</td>\n",
       "      <td>NaN</td>\n",
       "      <td>NaN</td>\n",
       "      <td>NaN</td>\n",
       "      <td>NaN</td>\n",
       "      <td>NaN</td>\n",
       "      <td>NaN</td>\n",
       "      <td>NaN</td>\n",
       "      <td>NaN</td>\n",
       "      <td>NaN</td>\n",
       "      <td>NaN</td>\n",
       "      <td>0.0</td>\n",
       "      <td>0.0</td>\n",
       "      <td>NaN</td>\n",
       "      <td>NaN</td>\n",
       "      <td>NaN</td>\n",
       "      <td>NaN</td>\n",
       "      <td>NaN</td>\n",
       "      <td>NaN</td>\n",
       "      <td>NaN</td>\n",
       "      <td>NaN</td>\n",
       "      <td>0.0</td>\n",
       "      <td>4.0</td>\n",
       "      <td>1.0</td>\n",
       "      <td>1.0</td>\n",
       "      <td>0.0</td>\n",
       "      <td>8.0</td>\n",
       "      <td>1.0</td>\n",
       "      <td>2.0</td>\n",
       "      <td>0.0</td>\n",
       "      <td>0.0</td>\n",
       "      <td>NaN</td>\n",
       "      <td>NaN</td>\n",
       "      <td>NaN</td>\n",
       "      <td>NaN</td>\n",
       "      <td>NaN</td>\n",
       "      <td>NaN</td>\n",
       "      <td>NaN</td>\n",
       "      <td>NaN</td>\n",
       "      <td>791.0</td>\n",
       "      <td>0.0</td>\n",
       "      <td>3.0</td>\n",
       "      <td>0.0</td>\n",
       "      <td>791.0</td>\n",
       "      <td>0.0</td>\n",
       "      <td>3.0</td>\n",
       "      <td>0.0</td>\n",
       "      <td>0.0</td>\n",
       "      <td>0.0</td>\n",
       "      <td>NaN</td>\n",
       "      <td>NaN</td>\n",
       "      <td>NaN</td>\n",
       "      <td>NaN</td>\n",
       "      <td>NaN</td>\n",
       "      <td>NaN</td>\n",
       "      <td>NaN</td>\n",
       "      <td>NaN</td>\n",
       "      <td>0.0</td>\n",
       "      <td>0.0</td>\n",
       "      <td>0.0</td>\n",
       "      <td>0.0</td>\n",
       "      <td>0.0</td>\n",
       "      <td>0.0</td>\n",
       "      <td>0.0</td>\n",
       "      <td>0.0</td>\n",
       "      <td>1.0</td>\n",
       "      <td>2.0</td>\n",
       "      <td>1.0</td>\n",
       "      <td>1.0</td>\n",
       "      <td>1.0</td>\n",
       "      <td>0.5</td>\n",
       "      <td>NaN</td>\n",
       "      <td>4.0</td>\n",
       "      <td>NaN</td>\n",
       "      <td>4.0</td>\n",
       "      <td>1.0</td>\n",
       "      <td>1.0</td>\n",
       "      <td>1.0</td>\n",
       "      <td>1.0</td>\n",
       "      <td>1.0</td>\n",
       "      <td>0.0</td>\n",
       "      <td>1.0</td>\n",
       "      <td>0.0</td>\n",
       "      <td>1.0</td>\n",
       "      <td>NaN</td>\n",
       "      <td>791.0</td>\n",
       "      <td>NaN</td>\n",
       "      <td>791.0</td>\n",
       "      <td>NaN</td>\n",
       "      <td>3.0</td>\n",
       "      <td>NaN</td>\n",
       "      <td>3.0</td>\n",
       "      <td>NaN</td>\n",
       "      <td>0.0</td>\n",
       "      <td>0.0</td>\n",
       "      <td>0.0</td>\n",
       "      <td>0.0</td>\n",
       "      <td>NaN</td>\n",
       "      <td>NaN</td>\n",
       "      <td>NaN</td>\n",
       "      <td>NaN</td>\n",
       "      <td>NaN</td>\n",
       "      <td>NaN</td>\n",
       "      <td>NaN</td>\n",
       "      <td>NaN</td>\n",
       "      <td>NaN</td>\n",
       "      <td>NaN</td>\n",
       "      <td>26.0</td>\n",
       "      <td>NaN</td>\n",
       "      <td>NaN</td>\n",
       "      <td>7.0</td>\n",
       "      <td>NaN</td>\n",
       "      <td>NaN</td>\n",
       "      <td>NaN</td>\n",
       "      <td>NaN</td>\n",
       "      <td>NaN</td>\n",
       "      <td>NaN</td>\n",
       "      <td>NaN</td>\n",
       "      <td>NaN</td>\n",
       "      <td>0.269231</td>\n",
       "      <td>NaN</td>\n",
       "      <td>NaN</td>\n",
       "      <td>27.0</td>\n",
       "      <td>19.296296</td>\n",
       "      <td>521.0</td>\n",
       "      <td>106.0</td>\n",
       "      <td>16.553846</td>\n",
       "      <td>1076.0</td>\n",
       "      <td>NaN</td>\n",
       "      <td>NaN</td>\n",
       "      <td>NaN</td>\n",
       "      <td>NaN</td>\n",
       "      <td>NaN</td>\n",
       "      <td>NaN</td>\n",
       "      <td>5.0</td>\n",
       "      <td>447.6</td>\n",
       "      <td>2238.0</td>\n",
       "      <td>NaN</td>\n",
       "      <td>NaN</td>\n",
       "      <td>NaN</td>\n",
       "      <td>NaN</td>\n",
       "      <td>NaN</td>\n",
       "      <td>NaN</td>\n",
       "      <td>16.0</td>\n",
       "      <td>14.937500</td>\n",
       "      <td>239.0</td>\n",
       "      <td>NaN</td>\n",
       "      <td>NaN</td>\n",
       "      <td>NaN</td>\n",
       "      <td>NaN</td>\n",
       "      <td>NaN</td>\n",
       "      <td>NaN</td>\n",
       "      <td>NaN</td>\n",
       "      <td>NaN</td>\n",
       "      <td>NaN</td>\n",
       "    </tr>\n",
       "    <tr>\n",
       "      <th>3</th>\n",
       "      <td>3681CC0F-2F38-470D-879A-40FE3E7FF7F2-4</td>\n",
       "      <td>4</td>\n",
       "      <td>NaN</td>\n",
       "      <td>5</td>\n",
       "      <td>30</td>\n",
       "      <td>12.0</td>\n",
       "      <td>23/08/2012</td>\n",
       "      <td>21/09/2017</td>\n",
       "      <td>1856</td>\n",
       "      <td>3681CC0F-2F38-470D-879A-40FE3E7FF7F2</td>\n",
       "      <td>10124861</td>\n",
       "      <td>TOFLE210719892</td>\n",
       "      <td>21/07/1989</td>\n",
       "      <td>Female</td>\n",
       "      <td>Non-Indigenous</td>\n",
       "      <td>BB24CF00-91E9-432B-B64E-2FFA6592D2E1</td>\n",
       "      <td>(1)(c)</td>\n",
       "      <td>409</td>\n",
       "      <td>Criminal Code (WA)</td>\n",
       "      <td>(Att) Gains Benefit by Fraud</td>\n",
       "      <td>911</td>\n",
       "      <td>Obtain benefit by deception</td>\n",
       "      <td>60</td>\n",
       "      <td>YES</td>\n",
       "      <td>MC-PE-2921896-20150821</td>\n",
       "      <td>MC</td>\n",
       "      <td>NaN</td>\n",
       "      <td>NaN</td>\n",
       "      <td>21/08/2015</td>\n",
       "      <td>NaN</td>\n",
       "      <td>10.0</td>\n",
       "      <td>21/08/2015</td>\n",
       "      <td>MC</td>\n",
       "      <td>112</td>\n",
       "      <td>21/09/2017</td>\n",
       "      <td>762</td>\n",
       "      <td>NOT GUILTY</td>\n",
       "      <td>NaN</td>\n",
       "      <td>NaN</td>\n",
       "      <td>NaN</td>\n",
       "      <td>NaN</td>\n",
       "      <td>NO</td>\n",
       "      <td>NaN</td>\n",
       "      <td>NaN</td>\n",
       "      <td>NaN</td>\n",
       "      <td>NaN</td>\n",
       "      <td>NaN</td>\n",
       "      <td>NaN</td>\n",
       "      <td>NaN</td>\n",
       "      <td>NaN</td>\n",
       "      <td>NaN</td>\n",
       "      <td>NaN</td>\n",
       "      <td>NaN</td>\n",
       "      <td>NaN</td>\n",
       "      <td>5/12/2016</td>\n",
       "      <td>5/12/2016</td>\n",
       "      <td>5/12/2016</td>\n",
       "      <td>1.0</td>\n",
       "      <td>472.0</td>\n",
       "      <td>Did not Proceed</td>\n",
       "      <td>MC</td>\n",
       "      <td>GUILTY</td>\n",
       "      <td>NaN</td>\n",
       "      <td>472.0</td>\n",
       "      <td>32.0</td>\n",
       "      <td>NaN</td>\n",
       "      <td>NaN</td>\n",
       "      <td>NaN</td>\n",
       "      <td>NaN</td>\n",
       "      <td>NO</td>\n",
       "      <td>NaN</td>\n",
       "      <td>NaN</td>\n",
       "      <td>NaN</td>\n",
       "      <td>21/09/2017</td>\n",
       "      <td>27/06/2017</td>\n",
       "      <td>290</td>\n",
       "      <td>13.0</td>\n",
       "      <td>MC</td>\n",
       "      <td>Imprisonment</td>\n",
       "      <td>YES</td>\n",
       "      <td>NaN</td>\n",
       "      <td>NaN</td>\n",
       "      <td>366.0</td>\n",
       "      <td>279</td>\n",
       "      <td>26/06/2018</td>\n",
       "      <td>26/06/2018</td>\n",
       "      <td>NaN</td>\n",
       "      <td>YES</td>\n",
       "      <td>NaN</td>\n",
       "      <td>27/06/2017</td>\n",
       "      <td>19/09/2017</td>\n",
       "      <td>26/06/2018</td>\n",
       "      <td>26/06/2018</td>\n",
       "      <td>365.0</td>\n",
       "      <td>NaN</td>\n",
       "      <td>NaN</td>\n",
       "      <td>281.0</td>\n",
       "      <td>281.0</td>\n",
       "      <td>87.0</td>\n",
       "      <td>NaN</td>\n",
       "      <td>0.046875</td>\n",
       "      <td>YES</td>\n",
       "      <td>2</td>\n",
       "      <td>3</td>\n",
       "      <td>YES</td>\n",
       "      <td>Y</td>\n",
       "      <td>NaN</td>\n",
       "      <td>NaN</td>\n",
       "      <td>300.0</td>\n",
       "      <td>0.0</td>\n",
       "      <td>4540.0</td>\n",
       "      <td>YES</td>\n",
       "      <td>NO</td>\n",
       "      <td>NaN</td>\n",
       "      <td>NO</td>\n",
       "      <td>NaN</td>\n",
       "      <td>NaN</td>\n",
       "      <td>NaN</td>\n",
       "      <td>NaN</td>\n",
       "      <td>NaN</td>\n",
       "      <td>NaN</td>\n",
       "      <td>NaN</td>\n",
       "      <td>NaN</td>\n",
       "      <td>NaN</td>\n",
       "      <td>NaN</td>\n",
       "      <td>NaN</td>\n",
       "      <td>NaN</td>\n",
       "      <td>NaN</td>\n",
       "      <td>NaN</td>\n",
       "      <td>NaN</td>\n",
       "      <td>NaN</td>\n",
       "      <td>NaN</td>\n",
       "      <td>NaN</td>\n",
       "      <td>NaN</td>\n",
       "      <td>NaN</td>\n",
       "      <td>NaN</td>\n",
       "      <td>NaN</td>\n",
       "      <td>NaN</td>\n",
       "      <td>NaN</td>\n",
       "      <td>NaN</td>\n",
       "      <td>NaN</td>\n",
       "      <td>NaN</td>\n",
       "      <td>112.0</td>\n",
       "      <td>Guilty plea by defendant</td>\n",
       "      <td>21/09/2017</td>\n",
       "      <td>NaN</td>\n",
       "      <td>NaN</td>\n",
       "      <td>NaN</td>\n",
       "      <td>6.135729</td>\n",
       "      <td>NaN</td>\n",
       "      <td>NaN</td>\n",
       "      <td>0.211577</td>\n",
       "      <td>1.0</td>\n",
       "      <td>NaN</td>\n",
       "      <td>6.0</td>\n",
       "      <td>1.0</td>\n",
       "      <td>0.166667</td>\n",
       "      <td>5.0</td>\n",
       "      <td>13.0</td>\n",
       "      <td>NaN</td>\n",
       "      <td>32.0</td>\n",
       "      <td>NaN</td>\n",
       "      <td>416.0</td>\n",
       "      <td>1.0</td>\n",
       "      <td>1.0</td>\n",
       "      <td>5.0</td>\n",
       "      <td>13.0</td>\n",
       "      <td>1.0</td>\n",
       "      <td>NaN</td>\n",
       "      <td>1400.0</td>\n",
       "      <td>NaN</td>\n",
       "      <td>1400.0</td>\n",
       "      <td>NaN</td>\n",
       "      <td>4.0</td>\n",
       "      <td>NaN</td>\n",
       "      <td>4.0</td>\n",
       "      <td>NaN</td>\n",
       "      <td>NaN</td>\n",
       "      <td>NaN</td>\n",
       "      <td>NaN</td>\n",
       "      <td>NaN</td>\n",
       "      <td>NaN</td>\n",
       "      <td>NaN</td>\n",
       "      <td>NaN</td>\n",
       "      <td>NaN</td>\n",
       "      <td>NaN</td>\n",
       "      <td>NaN</td>\n",
       "      <td>2.0</td>\n",
       "      <td>1.0</td>\n",
       "      <td>0.4</td>\n",
       "      <td>0.076923</td>\n",
       "      <td>NaN</td>\n",
       "      <td>32.0</td>\n",
       "      <td>NaN</td>\n",
       "      <td>32.0</td>\n",
       "      <td>1.0</td>\n",
       "      <td>1.0</td>\n",
       "      <td>2.0</td>\n",
       "      <td>1.0</td>\n",
       "      <td>1.0</td>\n",
       "      <td>NaN</td>\n",
       "      <td>1.0</td>\n",
       "      <td>NaN</td>\n",
       "      <td>1400.0</td>\n",
       "      <td>NaN</td>\n",
       "      <td>1400.0</td>\n",
       "      <td>NaN</td>\n",
       "      <td>4.0</td>\n",
       "      <td>NaN</td>\n",
       "      <td>4.0</td>\n",
       "      <td>NaN</td>\n",
       "      <td>NaN</td>\n",
       "      <td>NaN</td>\n",
       "      <td>NaN</td>\n",
       "      <td>NaN</td>\n",
       "      <td>NaN</td>\n",
       "      <td>NaN</td>\n",
       "      <td>NaN</td>\n",
       "      <td>NaN</td>\n",
       "      <td>NaN</td>\n",
       "      <td>NaN</td>\n",
       "      <td>NaN</td>\n",
       "      <td>NaN</td>\n",
       "      <td>0.0</td>\n",
       "      <td>0.0</td>\n",
       "      <td>NaN</td>\n",
       "      <td>NaN</td>\n",
       "      <td>NaN</td>\n",
       "      <td>NaN</td>\n",
       "      <td>NaN</td>\n",
       "      <td>NaN</td>\n",
       "      <td>NaN</td>\n",
       "      <td>NaN</td>\n",
       "      <td>0.0</td>\n",
       "      <td>4.0</td>\n",
       "      <td>1.0</td>\n",
       "      <td>1.0</td>\n",
       "      <td>0.0</td>\n",
       "      <td>8.0</td>\n",
       "      <td>1.0</td>\n",
       "      <td>2.0</td>\n",
       "      <td>0.0</td>\n",
       "      <td>0.0</td>\n",
       "      <td>NaN</td>\n",
       "      <td>NaN</td>\n",
       "      <td>NaN</td>\n",
       "      <td>NaN</td>\n",
       "      <td>NaN</td>\n",
       "      <td>NaN</td>\n",
       "      <td>NaN</td>\n",
       "      <td>NaN</td>\n",
       "      <td>791.0</td>\n",
       "      <td>0.0</td>\n",
       "      <td>3.0</td>\n",
       "      <td>0.0</td>\n",
       "      <td>791.0</td>\n",
       "      <td>0.0</td>\n",
       "      <td>3.0</td>\n",
       "      <td>0.0</td>\n",
       "      <td>0.0</td>\n",
       "      <td>0.0</td>\n",
       "      <td>NaN</td>\n",
       "      <td>NaN</td>\n",
       "      <td>NaN</td>\n",
       "      <td>NaN</td>\n",
       "      <td>NaN</td>\n",
       "      <td>NaN</td>\n",
       "      <td>NaN</td>\n",
       "      <td>NaN</td>\n",
       "      <td>0.0</td>\n",
       "      <td>0.0</td>\n",
       "      <td>0.0</td>\n",
       "      <td>0.0</td>\n",
       "      <td>0.0</td>\n",
       "      <td>0.0</td>\n",
       "      <td>0.0</td>\n",
       "      <td>0.0</td>\n",
       "      <td>1.0</td>\n",
       "      <td>2.0</td>\n",
       "      <td>1.0</td>\n",
       "      <td>1.0</td>\n",
       "      <td>1.0</td>\n",
       "      <td>0.5</td>\n",
       "      <td>NaN</td>\n",
       "      <td>4.0</td>\n",
       "      <td>NaN</td>\n",
       "      <td>4.0</td>\n",
       "      <td>1.0</td>\n",
       "      <td>1.0</td>\n",
       "      <td>1.0</td>\n",
       "      <td>1.0</td>\n",
       "      <td>1.0</td>\n",
       "      <td>0.0</td>\n",
       "      <td>1.0</td>\n",
       "      <td>0.0</td>\n",
       "      <td>1.0</td>\n",
       "      <td>NaN</td>\n",
       "      <td>791.0</td>\n",
       "      <td>NaN</td>\n",
       "      <td>791.0</td>\n",
       "      <td>NaN</td>\n",
       "      <td>3.0</td>\n",
       "      <td>NaN</td>\n",
       "      <td>3.0</td>\n",
       "      <td>NaN</td>\n",
       "      <td>0.0</td>\n",
       "      <td>0.0</td>\n",
       "      <td>0.0</td>\n",
       "      <td>0.0</td>\n",
       "      <td>NaN</td>\n",
       "      <td>NaN</td>\n",
       "      <td>NaN</td>\n",
       "      <td>NaN</td>\n",
       "      <td>NaN</td>\n",
       "      <td>NaN</td>\n",
       "      <td>NaN</td>\n",
       "      <td>NaN</td>\n",
       "      <td>NaN</td>\n",
       "      <td>NaN</td>\n",
       "      <td>26.0</td>\n",
       "      <td>NaN</td>\n",
       "      <td>NaN</td>\n",
       "      <td>7.0</td>\n",
       "      <td>NaN</td>\n",
       "      <td>NaN</td>\n",
       "      <td>NaN</td>\n",
       "      <td>NaN</td>\n",
       "      <td>NaN</td>\n",
       "      <td>NaN</td>\n",
       "      <td>NaN</td>\n",
       "      <td>NaN</td>\n",
       "      <td>0.269231</td>\n",
       "      <td>NaN</td>\n",
       "      <td>NaN</td>\n",
       "      <td>29.0</td>\n",
       "      <td>20.275862</td>\n",
       "      <td>588.0</td>\n",
       "      <td>106.0</td>\n",
       "      <td>16.553846</td>\n",
       "      <td>1076.0</td>\n",
       "      <td>NaN</td>\n",
       "      <td>NaN</td>\n",
       "      <td>NaN</td>\n",
       "      <td>NaN</td>\n",
       "      <td>NaN</td>\n",
       "      <td>NaN</td>\n",
       "      <td>5.0</td>\n",
       "      <td>447.6</td>\n",
       "      <td>2238.0</td>\n",
       "      <td>NaN</td>\n",
       "      <td>NaN</td>\n",
       "      <td>NaN</td>\n",
       "      <td>NaN</td>\n",
       "      <td>NaN</td>\n",
       "      <td>NaN</td>\n",
       "      <td>18.0</td>\n",
       "      <td>17.000000</td>\n",
       "      <td>306.0</td>\n",
       "      <td>NaN</td>\n",
       "      <td>NaN</td>\n",
       "      <td>NaN</td>\n",
       "      <td>NaN</td>\n",
       "      <td>NaN</td>\n",
       "      <td>NaN</td>\n",
       "      <td>NaN</td>\n",
       "      <td>NaN</td>\n",
       "      <td>NaN</td>\n",
       "    </tr>\n",
       "    <tr>\n",
       "      <th>4</th>\n",
       "      <td>3918FC46-E3DE-4479-9219-619DA2FC9AAC-6</td>\n",
       "      <td>6</td>\n",
       "      <td>YES</td>\n",
       "      <td>1</td>\n",
       "      <td>8</td>\n",
       "      <td>1.0</td>\n",
       "      <td>20/05/2015</td>\n",
       "      <td>21/09/2017</td>\n",
       "      <td>856</td>\n",
       "      <td>3918FC46-E3DE-4479-9219-619DA2FC9AAC</td>\n",
       "      <td>2165012</td>\n",
       "      <td>AYOAM101219932</td>\n",
       "      <td>10/12/1993</td>\n",
       "      <td>Female</td>\n",
       "      <td>Indigenous</td>\n",
       "      <td>36A89998-9037-4E19-8D70-582B5349BCDE</td>\n",
       "      <td>(c) &amp; (d)</td>\n",
       "      <td>392</td>\n",
       "      <td>Criminal Code (WA)</td>\n",
       "      <td>Aggravated Armed Robbery</td>\n",
       "      <td>611</td>\n",
       "      <td>Aggravated robbery</td>\n",
       "      <td>25</td>\n",
       "      <td>NO</td>\n",
       "      <td>MC-JO-3039157-20151027</td>\n",
       "      <td>MC</td>\n",
       "      <td>INS PER 202/2016-3039157</td>\n",
       "      <td>SC</td>\n",
       "      <td>27/10/2015</td>\n",
       "      <td>Remand</td>\n",
       "      <td>15.0</td>\n",
       "      <td>27/10/2015</td>\n",
       "      <td>MC</td>\n",
       "      <td>111</td>\n",
       "      <td>29/08/2017</td>\n",
       "      <td>672</td>\n",
       "      <td>NOT GUILTY</td>\n",
       "      <td>NOT GUILTY</td>\n",
       "      <td>NO</td>\n",
       "      <td>NaN</td>\n",
       "      <td>NaN</td>\n",
       "      <td>YES</td>\n",
       "      <td>6/07/2016</td>\n",
       "      <td>253.0</td>\n",
       "      <td>NOT GUILTY</td>\n",
       "      <td>NO</td>\n",
       "      <td>YES</td>\n",
       "      <td>Trial</td>\n",
       "      <td>SC</td>\n",
       "      <td>0.0</td>\n",
       "      <td>NaN</td>\n",
       "      <td>NaN</td>\n",
       "      <td>NaN</td>\n",
       "      <td>NaN</td>\n",
       "      <td>26/06/2017</td>\n",
       "      <td>27/06/2017</td>\n",
       "      <td>27/06/2017</td>\n",
       "      <td>1.0</td>\n",
       "      <td>356.0</td>\n",
       "      <td>Proceeded</td>\n",
       "      <td>SC</td>\n",
       "      <td>NOT GUILTY</td>\n",
       "      <td>GUILTY</td>\n",
       "      <td>356.0</td>\n",
       "      <td>326.0</td>\n",
       "      <td>NaN</td>\n",
       "      <td>NaN</td>\n",
       "      <td>NaN</td>\n",
       "      <td>NaN</td>\n",
       "      <td>NO</td>\n",
       "      <td>NaN</td>\n",
       "      <td>NaN</td>\n",
       "      <td>NaN</td>\n",
       "      <td>29/08/2017</td>\n",
       "      <td>10/08/2016</td>\n",
       "      <td>63</td>\n",
       "      <td>165.0</td>\n",
       "      <td>SC</td>\n",
       "      <td>Imprisonment</td>\n",
       "      <td>YES</td>\n",
       "      <td>YES</td>\n",
       "      <td>YES</td>\n",
       "      <td>1278.0</td>\n",
       "      <td>893</td>\n",
       "      <td>7/02/2020</td>\n",
       "      <td>7/02/2020</td>\n",
       "      <td>NaN</td>\n",
       "      <td>YES</td>\n",
       "      <td>YES</td>\n",
       "      <td>10/08/2016</td>\n",
       "      <td>29/08/2017</td>\n",
       "      <td>7/02/2020</td>\n",
       "      <td>7/02/2020</td>\n",
       "      <td>1277.0</td>\n",
       "      <td>NaN</td>\n",
       "      <td>NaN</td>\n",
       "      <td>893.0</td>\n",
       "      <td>893.0</td>\n",
       "      <td>381.0</td>\n",
       "      <td>YES</td>\n",
       "      <td>0.445093</td>\n",
       "      <td>YES</td>\n",
       "      <td>7</td>\n",
       "      <td>8</td>\n",
       "      <td>YES</td>\n",
       "      <td>Y</td>\n",
       "      <td>NaN</td>\n",
       "      <td>NaN</td>\n",
       "      <td>0.0</td>\n",
       "      <td>0.0</td>\n",
       "      <td>0.0</td>\n",
       "      <td>NaN</td>\n",
       "      <td>NO</td>\n",
       "      <td>NaN</td>\n",
       "      <td>NO</td>\n",
       "      <td>NaN</td>\n",
       "      <td>NaN</td>\n",
       "      <td>NaN</td>\n",
       "      <td>NaN</td>\n",
       "      <td>NaN</td>\n",
       "      <td>NaN</td>\n",
       "      <td>NaN</td>\n",
       "      <td>NaN</td>\n",
       "      <td>NaN</td>\n",
       "      <td>NaN</td>\n",
       "      <td>NaN</td>\n",
       "      <td>NaN</td>\n",
       "      <td>NaN</td>\n",
       "      <td>NaN</td>\n",
       "      <td>NaN</td>\n",
       "      <td>NaN</td>\n",
       "      <td>NaN</td>\n",
       "      <td>NaN</td>\n",
       "      <td>NaN</td>\n",
       "      <td>NaN</td>\n",
       "      <td>NaN</td>\n",
       "      <td>NaN</td>\n",
       "      <td>NaN</td>\n",
       "      <td>NaN</td>\n",
       "      <td>NaN</td>\n",
       "      <td>NaN</td>\n",
       "      <td>NaN</td>\n",
       "      <td>211.0</td>\n",
       "      <td>Committed for trial</td>\n",
       "      <td>6/07/2016</td>\n",
       "      <td>111.0</td>\n",
       "      <td>Guilty finding by court</td>\n",
       "      <td>29/08/2017</td>\n",
       "      <td>5.080645</td>\n",
       "      <td>NaN</td>\n",
       "      <td>15.0</td>\n",
       "      <td>0.241935</td>\n",
       "      <td>NaN</td>\n",
       "      <td>1.0</td>\n",
       "      <td>6.0</td>\n",
       "      <td>2.0</td>\n",
       "      <td>0.333333</td>\n",
       "      <td>NaN</td>\n",
       "      <td>NaN</td>\n",
       "      <td>NaN</td>\n",
       "      <td>NaN</td>\n",
       "      <td>NaN</td>\n",
       "      <td>NaN</td>\n",
       "      <td>NaN</td>\n",
       "      <td>NaN</td>\n",
       "      <td>NaN</td>\n",
       "      <td>NaN</td>\n",
       "      <td>NaN</td>\n",
       "      <td>NaN</td>\n",
       "      <td>NaN</td>\n",
       "      <td>NaN</td>\n",
       "      <td>NaN</td>\n",
       "      <td>NaN</td>\n",
       "      <td>NaN</td>\n",
       "      <td>NaN</td>\n",
       "      <td>NaN</td>\n",
       "      <td>NaN</td>\n",
       "      <td>1.0</td>\n",
       "      <td>0.0</td>\n",
       "      <td>326.0</td>\n",
       "      <td>NaN</td>\n",
       "      <td>326.0</td>\n",
       "      <td>NaN</td>\n",
       "      <td>1.0</td>\n",
       "      <td>NaN</td>\n",
       "      <td>1.0</td>\n",
       "      <td>NaN</td>\n",
       "      <td>NaN</td>\n",
       "      <td>NaN</td>\n",
       "      <td>NaN</td>\n",
       "      <td>NaN</td>\n",
       "      <td>NaN</td>\n",
       "      <td>NaN</td>\n",
       "      <td>NaN</td>\n",
       "      <td>NaN</td>\n",
       "      <td>NaN</td>\n",
       "      <td>NaN</td>\n",
       "      <td>NaN</td>\n",
       "      <td>NaN</td>\n",
       "      <td>NaN</td>\n",
       "      <td>NaN</td>\n",
       "      <td>NaN</td>\n",
       "      <td>NaN</td>\n",
       "      <td>NaN</td>\n",
       "      <td>NaN</td>\n",
       "      <td>NaN</td>\n",
       "      <td>NaN</td>\n",
       "      <td>NaN</td>\n",
       "      <td>NaN</td>\n",
       "      <td>NaN</td>\n",
       "      <td>NaN</td>\n",
       "      <td>1.0</td>\n",
       "      <td>0.0</td>\n",
       "      <td>1.0</td>\n",
       "      <td>NaN</td>\n",
       "      <td>326.0</td>\n",
       "      <td>NaN</td>\n",
       "      <td>326.0</td>\n",
       "      <td>NaN</td>\n",
       "      <td>1.0</td>\n",
       "      <td>NaN</td>\n",
       "      <td>1.0</td>\n",
       "      <td>NaN</td>\n",
       "      <td>0.0</td>\n",
       "      <td>0.0</td>\n",
       "      <td>NaN</td>\n",
       "      <td>NaN</td>\n",
       "      <td>NaN</td>\n",
       "      <td>NaN</td>\n",
       "      <td>NaN</td>\n",
       "      <td>NaN</td>\n",
       "      <td>NaN</td>\n",
       "      <td>NaN</td>\n",
       "      <td>0.0</td>\n",
       "      <td>0.0</td>\n",
       "      <td>0.0</td>\n",
       "      <td>0.0</td>\n",
       "      <td>0.0</td>\n",
       "      <td>0.0</td>\n",
       "      <td>0.0</td>\n",
       "      <td>0.0</td>\n",
       "      <td>0.0</td>\n",
       "      <td>0.0</td>\n",
       "      <td>NaN</td>\n",
       "      <td>NaN</td>\n",
       "      <td>NaN</td>\n",
       "      <td>NaN</td>\n",
       "      <td>NaN</td>\n",
       "      <td>NaN</td>\n",
       "      <td>NaN</td>\n",
       "      <td>NaN</td>\n",
       "      <td>0.0</td>\n",
       "      <td>0.0</td>\n",
       "      <td>0.0</td>\n",
       "      <td>0.0</td>\n",
       "      <td>0.0</td>\n",
       "      <td>0.0</td>\n",
       "      <td>0.0</td>\n",
       "      <td>0.0</td>\n",
       "      <td>1.0</td>\n",
       "      <td>0.0</td>\n",
       "      <td>388.0</td>\n",
       "      <td>NaN</td>\n",
       "      <td>3.0</td>\n",
       "      <td>NaN</td>\n",
       "      <td>388.0</td>\n",
       "      <td>NaN</td>\n",
       "      <td>3.0</td>\n",
       "      <td>NaN</td>\n",
       "      <td>388.0</td>\n",
       "      <td>0.0</td>\n",
       "      <td>3.0</td>\n",
       "      <td>0.0</td>\n",
       "      <td>388.0</td>\n",
       "      <td>0.0</td>\n",
       "      <td>3.0</td>\n",
       "      <td>0.0</td>\n",
       "      <td>0.0</td>\n",
       "      <td>0.0</td>\n",
       "      <td>0.0</td>\n",
       "      <td>0.0</td>\n",
       "      <td>NaN</td>\n",
       "      <td>NaN</td>\n",
       "      <td>NaN</td>\n",
       "      <td>NaN</td>\n",
       "      <td>NaN</td>\n",
       "      <td>NaN</td>\n",
       "      <td>NaN</td>\n",
       "      <td>NaN</td>\n",
       "      <td>NaN</td>\n",
       "      <td>NaN</td>\n",
       "      <td>0.0</td>\n",
       "      <td>0.0</td>\n",
       "      <td>0.0</td>\n",
       "      <td>0.0</td>\n",
       "      <td>NaN</td>\n",
       "      <td>NaN</td>\n",
       "      <td>NaN</td>\n",
       "      <td>NaN</td>\n",
       "      <td>NaN</td>\n",
       "      <td>NaN</td>\n",
       "      <td>NaN</td>\n",
       "      <td>NaN</td>\n",
       "      <td>NaN</td>\n",
       "      <td>NaN</td>\n",
       "      <td>1.0</td>\n",
       "      <td>0.0</td>\n",
       "      <td>1.0</td>\n",
       "      <td>0.0</td>\n",
       "      <td>1.0</td>\n",
       "      <td>NaN</td>\n",
       "      <td>388.0</td>\n",
       "      <td>NaN</td>\n",
       "      <td>388.0</td>\n",
       "      <td>NaN</td>\n",
       "      <td>3.0</td>\n",
       "      <td>NaN</td>\n",
       "      <td>3.0</td>\n",
       "      <td>NaN</td>\n",
       "      <td>7.0</td>\n",
       "      <td>NaN</td>\n",
       "      <td>1.0</td>\n",
       "      <td>3.0</td>\n",
       "      <td>NaN</td>\n",
       "      <td>1.0</td>\n",
       "      <td>11.666667</td>\n",
       "      <td>35.0</td>\n",
       "      <td>NaN</td>\n",
       "      <td>NaN</td>\n",
       "      <td>165.0</td>\n",
       "      <td>165.0</td>\n",
       "      <td>0.428571</td>\n",
       "      <td>NaN</td>\n",
       "      <td>1.0</td>\n",
       "      <td>21.0</td>\n",
       "      <td>4.750000</td>\n",
       "      <td>95.0</td>\n",
       "      <td>45.0</td>\n",
       "      <td>19.205882</td>\n",
       "      <td>653.0</td>\n",
       "      <td>NaN</td>\n",
       "      <td>NaN</td>\n",
       "      <td>NaN</td>\n",
       "      <td>15.0</td>\n",
       "      <td>97.533333</td>\n",
       "      <td>1463.0</td>\n",
       "      <td>NaN</td>\n",
       "      <td>NaN</td>\n",
       "      <td>NaN</td>\n",
       "      <td>15.0</td>\n",
       "      <td>121.916667</td>\n",
       "      <td>1463.0</td>\n",
       "      <td>17.0</td>\n",
       "      <td>5.75</td>\n",
       "      <td>92.0</td>\n",
       "      <td>33.0</td>\n",
       "      <td>31.312500</td>\n",
       "      <td>1002.0</td>\n",
       "      <td>17.0</td>\n",
       "      <td>53.529412</td>\n",
       "      <td>910.0</td>\n",
       "      <td>20.0</td>\n",
       "      <td>73.3</td>\n",
       "      <td>1466.0</td>\n",
       "      <td>20.0</td>\n",
       "      <td>73.3</td>\n",
       "      <td>1466.0</td>\n",
       "    </tr>\n",
       "  </tbody>\n",
       "</table>\n",
       "</div>"
      ],
      "text/plain": [
       "                       ParticipantGroupID  GroupID GroupHeadCase  CaseID  \\\n",
       "0  3681CC0F-2F38-470D-879A-40FE3E7FF7F2-4        4           NaN       2   \n",
       "1  3681CC0F-2F38-470D-879A-40FE3E7FF7F2-4        4           NaN       4   \n",
       "2  3681CC0F-2F38-470D-879A-40FE3E7FF7F2-4        4           NaN      11   \n",
       "3  3681CC0F-2F38-470D-879A-40FE3E7FF7F2-4        4           NaN       5   \n",
       "4  3918FC46-E3DE-4479-9219-619DA2FC9AAC-6        6           YES       1   \n",
       "\n",
       "   GroupCaseCount  GroupPrisonCaseCount GroupCaseStart GroupCaseEnd  \\\n",
       "0              30                  12.0     23/08/2012   21/09/2017   \n",
       "1              30                  12.0     23/08/2012   21/09/2017   \n",
       "2              30                  12.0     23/08/2012   21/09/2017   \n",
       "3              30                  12.0     23/08/2012   21/09/2017   \n",
       "4               8                   1.0     20/05/2015   21/09/2017   \n",
       "\n",
       "   GroupDaysToEnd                         ParticipantID       SID  \\\n",
       "0            1856  3681CC0F-2F38-470D-879A-40FE3E7FF7F2  10124861   \n",
       "1            1856  3681CC0F-2F38-470D-879A-40FE3E7FF7F2  10124861   \n",
       "2            1856  3681CC0F-2F38-470D-879A-40FE3E7FF7F2  10124861   \n",
       "3            1856  3681CC0F-2F38-470D-879A-40FE3E7FF7F2  10124861   \n",
       "4             856  3918FC46-E3DE-4479-9219-619DA2FC9AAC   2165012   \n",
       "\n",
       "              SLK         DOB  Gender     Indigeneity  \\\n",
       "0  TOFLE210719892  21/07/1989  Female  Non-Indigenous   \n",
       "1  TOFLE210719892  21/07/1989  Female  Non-Indigenous   \n",
       "2  TOFLE210719892  21/07/1989  Female  Non-Indigenous   \n",
       "3  TOFLE210719892  21/07/1989  Female  Non-Indigenous   \n",
       "4  AYOAM101219932  10/12/1993  Female      Indigenous   \n",
       "\n",
       "                               ChargeID OTSubSection OTSection  \\\n",
       "0  1EB1201D-E34B-4A2E-89F3-D57D0E09AB88       (1)(c)       409   \n",
       "1  68464E23-591C-4683-8BCA-A05AF76C3D34       (1)(c)       409   \n",
       "2  439DAB6F-0405-4E6C-8DF1-675F439B6D77           -1     134.1   \n",
       "3  BB24CF00-91E9-432B-B64E-2FFA6592D2E1       (1)(c)       409   \n",
       "4  36A89998-9037-4E19-8D70-582B5349BCDE    (c) & (d)       392   \n",
       "\n",
       "                LegislationName  \\\n",
       "0            Criminal Code (WA)   \n",
       "1            Criminal Code (WA)   \n",
       "2  Criminal Code Act 1995 (Cth)   \n",
       "3            Criminal Code (WA)   \n",
       "4            Criminal Code (WA)   \n",
       "\n",
       "                                         OffenceType  ANZSOCCode  \\\n",
       "0                       (Att) Gains Benefit by Fraud         911   \n",
       "1                            Gains Benefit by Fraud.         911   \n",
       "2  By deception dishonestly obtained property bel...         999   \n",
       "3                       (Att) Gains Benefit by Fraud         911   \n",
       "4                           Aggravated Armed Robbery         611   \n",
       "\n",
       "                         ANZSOCOffenceType  nationalOffenceIndex IsSimple  \\\n",
       "0              Obtain benefit by deception                    60      YES   \n",
       "1              Obtain benefit by deception                    60      YES   \n",
       "2  Other fraud and deception offences, nec                    66      YES   \n",
       "3              Obtain benefit by deception                    60      YES   \n",
       "4                       Aggravated robbery                    25       NO   \n",
       "\n",
       "         LowerCourtCaseID LC_Jurisdiction         HigherCourtCaseID  \\\n",
       "0  MC-JO-2921896-20150211              MC                       NaN   \n",
       "1  MC-MI-2921896-20150602              MC                       NaN   \n",
       "2  MC-JO-2921896-20150803              MC                       NaN   \n",
       "3  MC-PE-2921896-20150821              MC                       NaN   \n",
       "4  MC-JO-3039157-20151027              MC  INS PER 202/2016-3039157   \n",
       "\n",
       "  HC_Jurisdiction FirstActualHearingDate FirstHearingCustody  \\\n",
       "0             NaN             11/02/2015                 NaN   \n",
       "1             NaN              2/06/2015                 NaN   \n",
       "2             NaN              3/08/2015                 NaN   \n",
       "3             NaN             21/08/2015                 NaN   \n",
       "4              SC             27/10/2015              Remand   \n",
       "\n",
       "   FirstHearingMinutes LodgementDate LodgementJurisdiction  MOFCode  \\\n",
       "0                  5.0    11/02/2015                    MC      112   \n",
       "1                  2.0     2/06/2015                    MC      112   \n",
       "2                  5.0     3/08/2015                    MC      112   \n",
       "3                 10.0    21/08/2015                    MC      112   \n",
       "4                 15.0    27/10/2015                    MC      111   \n",
       "\n",
       "  FinalisationDate  DaysToFinalise FirstHearingPlea PreCommittalPlea  \\\n",
       "0       21/09/2017             953       NOT GUILTY              NaN   \n",
       "1       21/09/2017             842       NOT GUILTY              NaN   \n",
       "2       21/09/2017             780       NOT GUILTY              NaN   \n",
       "3       21/09/2017             762       NOT GUILTY              NaN   \n",
       "4       29/08/2017             672       NOT GUILTY       NOT GUILTY   \n",
       "\n",
       "  PreCommittalPleaChange PreCommittalPleaChangeDate  PreCommittalPleaDelay  \\\n",
       "0                    NaN                        NaN                    NaN   \n",
       "1                    NaN                        NaN                    NaN   \n",
       "2                    NaN                        NaN                    NaN   \n",
       "3                    NaN                        NaN                    NaN   \n",
       "4                     NO                        NaN                    NaN   \n",
       "\n",
       "  HadCommittalHearing CommittalDate  CommittalDelay CommittalPlea  \\\n",
       "0                  NO           NaN             NaN           NaN   \n",
       "1                  NO           NaN             NaN           NaN   \n",
       "2                  NO           NaN             NaN           NaN   \n",
       "3                  NO           NaN             NaN           NaN   \n",
       "4                 YES     6/07/2016           253.0    NOT GUILTY   \n",
       "\n",
       "  CommittalPleaChange IsCommitted CommittalReason CommittedTo  \\\n",
       "0                 NaN         NaN             NaN         NaN   \n",
       "1                 NaN         NaN             NaN         NaN   \n",
       "2                 NaN         NaN             NaN         NaN   \n",
       "3                 NaN         NaN             NaN         NaN   \n",
       "4                  NO         YES           Trial          SC   \n",
       "\n",
       "   CommittalHearingMinutes PreTrialPlea PreTrialPleaDate PreTrialPleaChange  \\\n",
       "0                      NaN          NaN              NaN                NaN   \n",
       "1                      NaN          NaN              NaN                NaN   \n",
       "2                      NaN          NaN              NaN                NaN   \n",
       "3                      NaN          NaN              NaN                NaN   \n",
       "4                      0.0          NaN              NaN                NaN   \n",
       "\n",
       "   PreTrialPleaDelay TrialFirstDate  TrialStart    TrialEnd  TrialDays  \\\n",
       "0                NaN     19/08/2016   5/12/2016   5/12/2016        1.0   \n",
       "1                NaN      5/12/2016   5/12/2016   5/12/2016        1.0   \n",
       "2                NaN      5/12/2016   5/12/2016   5/12/2016        1.0   \n",
       "3                NaN      5/12/2016   5/12/2016   5/12/2016        1.0   \n",
       "4                NaN     26/06/2017  27/06/2017  27/06/2017        1.0   \n",
       "\n",
       "   TrialDelay      TrialStatus TrialJurisdiction   TrialPlea TrialOutcome  \\\n",
       "0       663.0  Did not Proceed                MC  NOT GUILTY          NaN   \n",
       "1       552.0  Did not Proceed                MC  NOT GUILTY          NaN   \n",
       "2       490.0  Did not Proceed                MC  NOT GUILTY          NaN   \n",
       "3       472.0  Did not Proceed                MC      GUILTY          NaN   \n",
       "4       356.0        Proceeded                SC  NOT GUILTY       GUILTY   \n",
       "\n",
       "   TimeToTrial  TrialMinutes PostTrialPleaDate PostTrialPlea  \\\n",
       "0        663.0          32.0        21/09/2017        GUILTY   \n",
       "1        552.0          32.0        21/09/2017        GUILTY   \n",
       "2        490.0          32.0        21/09/2017        GUILTY   \n",
       "3        472.0          32.0               NaN           NaN   \n",
       "4        356.0         326.0               NaN           NaN   \n",
       "\n",
       "  PostTrialPleaChange  PostTrialPleaDelay Withdrawn  WithdrawDate  \\\n",
       "0                 YES               290.0        NO           NaN   \n",
       "1                 YES               290.0        NO           NaN   \n",
       "2                 YES               290.0        NO           NaN   \n",
       "3                 NaN                 NaN        NO           NaN   \n",
       "4                 NaN                 NaN        NO           NaN   \n",
       "\n",
       "   WithdrawnAt  WithdrawDelay SentenceDate SentenceStart  SentenceDelay  \\\n",
       "0          NaN            NaN   21/09/2017    27/06/2017            290   \n",
       "1          NaN            NaN   21/09/2017    27/06/2017            290   \n",
       "2          NaN            NaN   21/09/2017    27/06/2017            290   \n",
       "3          NaN            NaN   21/09/2017    27/06/2017            290   \n",
       "4          NaN            NaN   29/08/2017    10/08/2016             63   \n",
       "\n",
       "   SentenceHearingMinutes SentenceJurisdiction  SentenceType  \\\n",
       "0                    13.0                   MC  Imprisonment   \n",
       "1                    13.0                   MC  Imprisonment   \n",
       "2                    13.0                   MC  Imprisonment   \n",
       "3                    13.0                   MC  Imprisonment   \n",
       "4                   165.0                   SC  Imprisonment   \n",
       "\n",
       "  IsSentencedCustodial FirstInCase IsHeadSentence  SentenceDays  \\\n",
       "0                  YES         NaN            NaN         366.0   \n",
       "1                  YES         NaN            NaN         366.0   \n",
       "2                  YES         NaN            NaN         366.0   \n",
       "3                  YES         NaN            NaN         366.0   \n",
       "4                  YES         YES            YES        1278.0   \n",
       "\n",
       "   AdjustedSentenceDays SentenceExpiryDate DischargeDate ReleaseType FromTOMS  \\\n",
       "0                   279         26/06/2018    26/06/2018         NaN      YES   \n",
       "1                   279         26/06/2018    26/06/2018         NaN      YES   \n",
       "2                   279         26/06/2018    26/06/2018         NaN      YES   \n",
       "3                   279         26/06/2018    26/06/2018         NaN      YES   \n",
       "4                   893          7/02/2020     7/02/2020         NaN      YES   \n",
       "\n",
       "  GroupUseSentence GroupSentenceFrom GroupSentenceNotRemand GroupSentenceEnd  \\\n",
       "0              NaN        27/06/2017             19/09/2017       26/06/2018   \n",
       "1              NaN        27/06/2017             19/09/2017       26/06/2018   \n",
       "2              NaN        27/06/2017             19/09/2017       26/06/2018   \n",
       "3              NaN        27/06/2017             19/09/2017       26/06/2018   \n",
       "4              YES        10/08/2016             29/08/2017        7/02/2020   \n",
       "\n",
       "  GroupMaxSentence  GroupSentenceDays  GroupPropServed  \\\n",
       "0       26/06/2018              365.0              NaN   \n",
       "1       26/06/2018              365.0              NaN   \n",
       "2       26/06/2018              365.0              NaN   \n",
       "3       26/06/2018              365.0              NaN   \n",
       "4        7/02/2020             1277.0              NaN   \n",
       "\n",
       "   GroupPropServedAdjusted  GroupAdjustedMaxSentenceDays  \\\n",
       "0                      NaN                         281.0   \n",
       "1                      NaN                         281.0   \n",
       "2                      NaN                         281.0   \n",
       "3                      NaN                         281.0   \n",
       "4                      NaN                         893.0   \n",
       "\n",
       "   GroupAdjustedSentenceDays  GroupRemandDays GroupUseRemand  GroupRemandProp  \\\n",
       "0                      281.0             87.0            NaN         0.046875   \n",
       "1                      281.0             87.0            NaN         0.046875   \n",
       "2                      281.0             87.0            NaN         0.046875   \n",
       "3                      281.0             87.0            NaN         0.046875   \n",
       "4                      893.0            381.0            YES         0.445093   \n",
       "\n",
       "  IsRemanded  RemandReceptions  PrisonReceptions StillInPrison  \\\n",
       "0        YES                 2                 3           YES   \n",
       "1        YES                 2                 3           YES   \n",
       "2        YES                 2                 3           YES   \n",
       "3        YES                 2                 3           YES   \n",
       "4        YES                 7                 8           YES   \n",
       "\n",
       "  IsEligibleForParole  SuspensionDays SuspensionExpiryDate  Fines  Costs  \\\n",
       "0                   Y             NaN                  NaN  300.0    0.0   \n",
       "1                   Y             NaN                  NaN  300.0    0.0   \n",
       "2                   Y             NaN                  NaN  300.0    0.0   \n",
       "3                   Y             NaN                  NaN  300.0    0.0   \n",
       "4                   Y             NaN                  NaN    0.0    0.0   \n",
       "\n",
       "   OtherFinancialPenalties HasFinancialPenalty SentenceIsParoleBreach  \\\n",
       "0                   4540.0                 YES                     NO   \n",
       "1                   4540.0                 YES                     NO   \n",
       "2                   4540.0                 YES                     NO   \n",
       "3                   4540.0                 YES                     NO   \n",
       "4                      0.0                 NaN                     NO   \n",
       "\n",
       "   GroupParoleCount GroupHadParoleHearing GroupFirstParoleHearing  \\\n",
       "0               NaN                    NO                     NaN   \n",
       "1               NaN                    NO                     NaN   \n",
       "2               NaN                    NO                     NaN   \n",
       "3               NaN                    NO                     NaN   \n",
       "4               NaN                    NO                     NaN   \n",
       "\n",
       "   GroupParoleLength  GroupAvgParoleDelay  GroupParoleBreach  \\\n",
       "0                NaN                  NaN                NaN   \n",
       "1                NaN                  NaN                NaN   \n",
       "2                NaN                  NaN                NaN   \n",
       "3                NaN                  NaN                NaN   \n",
       "4                NaN                  NaN                NaN   \n",
       "\n",
       "   GroupAvgParoleBreachDelay  GroupAvgParoleBreachStay  \\\n",
       "0                        NaN                       NaN   \n",
       "1                        NaN                       NaN   \n",
       "2                        NaN                       NaN   \n",
       "3                        NaN                       NaN   \n",
       "4                        NaN                       NaN   \n",
       "\n",
       "   GroupParoleEligibleDuration IsBreached  BreachCount FirstBreachDate  \\\n",
       "0                          NaN        NaN          NaN             NaN   \n",
       "1                          NaN        NaN          NaN             NaN   \n",
       "2                          NaN        NaN          NaN             NaN   \n",
       "3                          NaN        NaN          NaN             NaN   \n",
       "4                          NaN        NaN          NaN             NaN   \n",
       "\n",
       "   FirstBreachDelay BreachSentenceDate  LastBreachDelay BreachSentenceType  \\\n",
       "0               NaN                NaN              NaN                NaN   \n",
       "1               NaN                NaN              NaN                NaN   \n",
       "2               NaN                NaN              NaN                NaN   \n",
       "3               NaN                NaN              NaN                NaN   \n",
       "4               NaN                NaN              NaN                NaN   \n",
       "\n",
       "   BreachSentenceDays BreachSentenceExpiryDate  BreachIsEligibleForParole  \\\n",
       "0                 NaN                      NaN                        NaN   \n",
       "1                 NaN                      NaN                        NaN   \n",
       "2                 NaN                      NaN                        NaN   \n",
       "3                 NaN                      NaN                        NaN   \n",
       "4                 NaN                      NaN                        NaN   \n",
       "\n",
       "   BreachSuspensionDays BreachSuspensionExpiryDate  BreachFines  BreachCosts  \\\n",
       "0                   NaN                        NaN          NaN          NaN   \n",
       "1                   NaN                        NaN          NaN          NaN   \n",
       "2                   NaN                        NaN          NaN          NaN   \n",
       "3                   NaN                        NaN          NaN          NaN   \n",
       "4                   NaN                        NaN          NaN          NaN   \n",
       "\n",
       "   BreachOtherFinancialPenalties  BreachSentenceStart  \\\n",
       "0                            NaN                  NaN   \n",
       "1                            NaN                  NaN   \n",
       "2                            NaN                  NaN   \n",
       "3                            NaN                  NaN   \n",
       "4                            NaN                  NaN   \n",
       "\n",
       "   BreachSentenceNotRemanded  BreachDischargeDate  BreachReleaseType  \\\n",
       "0                        NaN                  NaN                NaN   \n",
       "1                        NaN                  NaN                NaN   \n",
       "2                        NaN                  NaN                NaN   \n",
       "3                        NaN                  NaN                NaN   \n",
       "4                        NaN                  NaN                NaN   \n",
       "\n",
       "   BreachImprisonmentInclude  LC_MOFCode         LC_MOFDescription  \\\n",
       "0                        NaN       112.0  Guilty plea by defendant   \n",
       "1                        NaN       112.0  Guilty plea by defendant   \n",
       "2                        NaN       112.0  Guilty plea by defendant   \n",
       "3                        NaN       112.0  Guilty plea by defendant   \n",
       "4                        NaN       211.0       Committed for trial   \n",
       "\n",
       "  LC_FinalisationDate  HC_MOFCode        HC_MOFDescription  \\\n",
       "0          21/09/2017         NaN                      NaN   \n",
       "1          21/09/2017         NaN                      NaN   \n",
       "2          21/09/2017         NaN                      NaN   \n",
       "3          21/09/2017         NaN                      NaN   \n",
       "4           6/07/2016       111.0  Guilty finding by court   \n",
       "\n",
       "  HC_FinalisationDate  AdjustedCaseHearingsToFinaliseMC  \\\n",
       "0                 NaN                          5.289421   \n",
       "1                 NaN                          5.924152   \n",
       "2                 NaN                          5.712575   \n",
       "3                 NaN                          6.135729   \n",
       "4          29/08/2017                          5.080645   \n",
       "\n",
       "   AdjustedCaseHearingsToFinaliseDC  AdjustedCaseHearingsToFinaliseSC  \\\n",
       "0                               NaN                               NaN   \n",
       "1                               NaN                               NaN   \n",
       "2                               NaN                               NaN   \n",
       "3                               NaN                               NaN   \n",
       "4                               NaN                              15.0   \n",
       "\n",
       "   UniqueHearingAdjustmentMC  UniqueHearingAdjustmentDC  \\\n",
       "0                   0.211577                        1.0   \n",
       "1                   0.211577                        1.0   \n",
       "2                   0.211577                        1.0   \n",
       "3                   0.211577                        1.0   \n",
       "4                   0.241935                        NaN   \n",
       "\n",
       "   UniqueHearingAdjustmentSC  GroupCommittals  GroupUniqueCommittals  \\\n",
       "0                        NaN              6.0                    1.0   \n",
       "1                        NaN              6.0                    1.0   \n",
       "2                        NaN              6.0                    1.0   \n",
       "3                        NaN              6.0                    1.0   \n",
       "4                        1.0              6.0                    2.0   \n",
       "\n",
       "   UniqueCommittalAdjustment  GroupPTrialsMC  GroupNTrialsMC  \\\n",
       "0                   0.166667             5.0            13.0   \n",
       "1                   0.166667             5.0            13.0   \n",
       "2                   0.166667             5.0            13.0   \n",
       "3                   0.166667             5.0            13.0   \n",
       "4                   0.333333             NaN             NaN   \n",
       "\n",
       "   GroupPTrialMCMinMean  GroupNTrialMCMinMean  GroupPTrialMCMinSum  \\\n",
       "0                   NaN                  32.0                  NaN   \n",
       "1                   NaN                  32.0                  NaN   \n",
       "2                   NaN                  32.0                  NaN   \n",
       "3                   NaN                  32.0                  NaN   \n",
       "4                   NaN                   NaN                  NaN   \n",
       "\n",
       "   GroupNTrialMCMinSum  GroupPTrialMCDayMean  GroupNTrialMCDayMean  \\\n",
       "0                416.0                   1.0                   1.0   \n",
       "1                416.0                   1.0                   1.0   \n",
       "2                416.0                   1.0                   1.0   \n",
       "3                416.0                   1.0                   1.0   \n",
       "4                  NaN                   NaN                   NaN   \n",
       "\n",
       "   GroupPTrialMCDaySum  GroupNTrialMCDaySum  GroupPTrialsDC  GroupNTrialsDC  \\\n",
       "0                  5.0                 13.0             1.0             NaN   \n",
       "1                  5.0                 13.0             1.0             NaN   \n",
       "2                  5.0                 13.0             1.0             NaN   \n",
       "3                  5.0                 13.0             1.0             NaN   \n",
       "4                  NaN                  NaN             NaN             NaN   \n",
       "\n",
       "   GroupPTrialDCMinMean  GroupNTrialDCMinMean  GroupPTrialDCMinSum  \\\n",
       "0                1400.0                   NaN               1400.0   \n",
       "1                1400.0                   NaN               1400.0   \n",
       "2                1400.0                   NaN               1400.0   \n",
       "3                1400.0                   NaN               1400.0   \n",
       "4                   NaN                   NaN                  NaN   \n",
       "\n",
       "   GroupNTrialDCMinSum  GroupPTrialDCDayMean  GroupNTrialDCDayMean  \\\n",
       "0                  NaN                   4.0                   NaN   \n",
       "1                  NaN                   4.0                   NaN   \n",
       "2                  NaN                   4.0                   NaN   \n",
       "3                  NaN                   4.0                   NaN   \n",
       "4                  NaN                   NaN                   NaN   \n",
       "\n",
       "   GroupPTrialDCDaySum  GroupNTrialDCDaySum  GroupPTrialsSC  GroupNTrialsSC  \\\n",
       "0                  4.0                  NaN             NaN             NaN   \n",
       "1                  4.0                  NaN             NaN             NaN   \n",
       "2                  4.0                  NaN             NaN             NaN   \n",
       "3                  4.0                  NaN             NaN             NaN   \n",
       "4                  NaN                  NaN             1.0             0.0   \n",
       "\n",
       "   GroupPTrialSCMinMean  GroupNTrialSCMinMean  GroupPTrialSCMinSum  \\\n",
       "0                   NaN                   NaN                  NaN   \n",
       "1                   NaN                   NaN                  NaN   \n",
       "2                   NaN                   NaN                  NaN   \n",
       "3                   NaN                   NaN                  NaN   \n",
       "4                 326.0                   NaN                326.0   \n",
       "\n",
       "   GroupNTrialSCMinSum  GroupPTrialSCDayMean  GroupNTrialSCDayMean  \\\n",
       "0                  NaN                   NaN                   NaN   \n",
       "1                  NaN                   NaN                   NaN   \n",
       "2                  NaN                   NaN                   NaN   \n",
       "3                  NaN                   NaN                   NaN   \n",
       "4                  NaN                   1.0                   NaN   \n",
       "\n",
       "   GroupPTrialSCDaySum  GroupNTrialSCDaySum  GroupUniquePTrialsMC  \\\n",
       "0                  NaN                  NaN                   2.0   \n",
       "1                  NaN                  NaN                   2.0   \n",
       "2                  NaN                  NaN                   2.0   \n",
       "3                  NaN                  NaN                   2.0   \n",
       "4                  1.0                  NaN                   NaN   \n",
       "\n",
       "   GroupUniqueNTrialsMC  UniquePTrialAdjustmentMC  UniqueNTrialAdjustmentMC  \\\n",
       "0                   1.0                       0.4                  0.076923   \n",
       "1                   1.0                       0.4                  0.076923   \n",
       "2                   1.0                       0.4                  0.076923   \n",
       "3                   1.0                       0.4                  0.076923   \n",
       "4                   NaN                       NaN                       NaN   \n",
       "\n",
       "   GroupUniquePTrialMCMinMean  GroupUniqueNTrialMCMinMean  \\\n",
       "0                         NaN                        32.0   \n",
       "1                         NaN                        32.0   \n",
       "2                         NaN                        32.0   \n",
       "3                         NaN                        32.0   \n",
       "4                         NaN                         NaN   \n",
       "\n",
       "   GroupUniquePTrialMCMinSum  GroupUniqueNTrialMCMinSum  \\\n",
       "0                        NaN                       32.0   \n",
       "1                        NaN                       32.0   \n",
       "2                        NaN                       32.0   \n",
       "3                        NaN                       32.0   \n",
       "4                        NaN                        NaN   \n",
       "\n",
       "   GroupUniquePTrialMCDayMean  GroupUniqueNTrialMCDayMean  \\\n",
       "0                         1.0                         1.0   \n",
       "1                         1.0                         1.0   \n",
       "2                         1.0                         1.0   \n",
       "3                         1.0                         1.0   \n",
       "4                         NaN                         NaN   \n",
       "\n",
       "   GroupUniquePTrialMCDaySum  GroupUniqueNTrialMCDaySum  GroupUniquePTrialsDC  \\\n",
       "0                        2.0                        1.0                   1.0   \n",
       "1                        2.0                        1.0                   1.0   \n",
       "2                        2.0                        1.0                   1.0   \n",
       "3                        2.0                        1.0                   1.0   \n",
       "4                        NaN                        NaN                   NaN   \n",
       "\n",
       "   GroupUniqueNTrialsDC  UniquePTrialAdjustmentDC  UniqueNTrialAdjustmentDC  \\\n",
       "0                   NaN                       1.0                       NaN   \n",
       "1                   NaN                       1.0                       NaN   \n",
       "2                   NaN                       1.0                       NaN   \n",
       "3                   NaN                       1.0                       NaN   \n",
       "4                   NaN                       NaN                       NaN   \n",
       "\n",
       "   GroupUniquePTrialDCMinMean  GroupUniqueNTrialDCMinMean  \\\n",
       "0                      1400.0                         NaN   \n",
       "1                      1400.0                         NaN   \n",
       "2                      1400.0                         NaN   \n",
       "3                      1400.0                         NaN   \n",
       "4                         NaN                         NaN   \n",
       "\n",
       "   GroupUniquePTrialDCMinSum  GroupUniqueNTrialDCMinSum  \\\n",
       "0                     1400.0                        NaN   \n",
       "1                     1400.0                        NaN   \n",
       "2                     1400.0                        NaN   \n",
       "3                     1400.0                        NaN   \n",
       "4                        NaN                        NaN   \n",
       "\n",
       "   GroupUniquePTrialDCDayMean  GroupUniqueNTrialDCDayMean  \\\n",
       "0                         4.0                         NaN   \n",
       "1                         4.0                         NaN   \n",
       "2                         4.0                         NaN   \n",
       "3                         4.0                         NaN   \n",
       "4                         NaN                         NaN   \n",
       "\n",
       "   GroupUniquePTrialDCDaySum  GroupUniqueNTrialDCDaySum  GroupUniquePTrialsSC  \\\n",
       "0                        4.0                        NaN                   NaN   \n",
       "1                        4.0                        NaN                   NaN   \n",
       "2                        4.0                        NaN                   NaN   \n",
       "3                        4.0                        NaN                   NaN   \n",
       "4                        NaN                        NaN                   1.0   \n",
       "\n",
       "   GroupUniqueNTrialsSC  UniquePTrialAdjustmentSC  UniqueNTrialAdjustmentSC  \\\n",
       "0                   NaN                       NaN                       NaN   \n",
       "1                   NaN                       NaN                       NaN   \n",
       "2                   NaN                       NaN                       NaN   \n",
       "3                   NaN                       NaN                       NaN   \n",
       "4                   0.0                       1.0                       NaN   \n",
       "\n",
       "   GroupUniquePTrialSCMinMean  GroupUniqueNTrialSCMinMean  \\\n",
       "0                         NaN                         NaN   \n",
       "1                         NaN                         NaN   \n",
       "2                         NaN                         NaN   \n",
       "3                         NaN                         NaN   \n",
       "4                       326.0                         NaN   \n",
       "\n",
       "   GroupUniquePTrialSCMinSum  GroupUniqueNTrialSCMinSum  \\\n",
       "0                        NaN                        NaN   \n",
       "1                        NaN                        NaN   \n",
       "2                        NaN                        NaN   \n",
       "3                        NaN                        NaN   \n",
       "4                      326.0                        NaN   \n",
       "\n",
       "   GroupUniquePTrialSCDayMean  GroupUniqueNTrialSCDayMean  \\\n",
       "0                         NaN                         NaN   \n",
       "1                         NaN                         NaN   \n",
       "2                         NaN                         NaN   \n",
       "3                         NaN                         NaN   \n",
       "4                         1.0                         NaN   \n",
       "\n",
       "   GroupUniquePTrialSCDaySum  GroupUniqueNTrialSCDaySum  OtherPTrialMC  \\\n",
       "0                        NaN                        NaN            0.0   \n",
       "1                        NaN                        NaN            0.0   \n",
       "2                        NaN                        NaN            0.0   \n",
       "3                        NaN                        NaN            0.0   \n",
       "4                        1.0                        NaN            0.0   \n",
       "\n",
       "   OtherNTrialMC  OtherPTrialMCMinMean  OtherNTrialMCMinMean  \\\n",
       "0            1.0                   NaN                   4.0   \n",
       "1            0.0                   NaN                   NaN   \n",
       "2            0.0                   NaN                   NaN   \n",
       "3            0.0                   NaN                   NaN   \n",
       "4            0.0                   NaN                   NaN   \n",
       "\n",
       "   OtherPTrialMCDayMean  OtherNTrialMCDayMean  OtherPTrialMCMinSum  \\\n",
       "0                   NaN                   1.0                  NaN   \n",
       "1                   NaN                   NaN                  NaN   \n",
       "2                   NaN                   NaN                  NaN   \n",
       "3                   NaN                   NaN                  NaN   \n",
       "4                   NaN                   NaN                  NaN   \n",
       "\n",
       "   OtherNTrialMCMinSum  OtherPTrialMCDaySum  OtherNTrialMCDaySum  \\\n",
       "0                  4.0                  NaN                  1.0   \n",
       "1                  NaN                  NaN                  NaN   \n",
       "2                  NaN                  NaN                  NaN   \n",
       "3                  NaN                  NaN                  NaN   \n",
       "4                  NaN                  NaN                  NaN   \n",
       "\n",
       "   GroupOtherPTrialMCMinMean  GroupOtherNTrialMCMinMean  \\\n",
       "0                        0.0                        4.0   \n",
       "1                        0.0                        4.0   \n",
       "2                        0.0                        4.0   \n",
       "3                        0.0                        4.0   \n",
       "4                        0.0                        0.0   \n",
       "\n",
       "   GroupOtherPTrialMCDayMean  GroupOtherNTrialMCDayMean  \\\n",
       "0                        1.0                        1.0   \n",
       "1                        1.0                        1.0   \n",
       "2                        1.0                        1.0   \n",
       "3                        1.0                        1.0   \n",
       "4                        0.0                        0.0   \n",
       "\n",
       "   GroupOtherPTrialMCMinSum  GroupOtherNTrialMCMinSum  \\\n",
       "0                       0.0                       8.0   \n",
       "1                       0.0                       8.0   \n",
       "2                       0.0                       8.0   \n",
       "3                       0.0                       8.0   \n",
       "4                       0.0                       0.0   \n",
       "\n",
       "   GroupOtherPTrialMCDaySum  GroupOtherNTrialMCDaySum  OtherPTrialDC  \\\n",
       "0                       1.0                       2.0            0.0   \n",
       "1                       1.0                       2.0            0.0   \n",
       "2                       1.0                       2.0            0.0   \n",
       "3                       1.0                       2.0            0.0   \n",
       "4                       0.0                       0.0            0.0   \n",
       "\n",
       "   OtherNTrialDC  OtherPTrialDCMinMean  OtherNTrialDCMinMean  \\\n",
       "0            0.0                   NaN                   NaN   \n",
       "1            0.0                   NaN                   NaN   \n",
       "2            0.0                   NaN                   NaN   \n",
       "3            0.0                   NaN                   NaN   \n",
       "4            0.0                   NaN                   NaN   \n",
       "\n",
       "   OtherPTrialDCDayMean  OtherNTrialDCDayMean  OtherPTrialDCMinSum  \\\n",
       "0                   NaN                   NaN                  NaN   \n",
       "1                   NaN                   NaN                  NaN   \n",
       "2                   NaN                   NaN                  NaN   \n",
       "3                   NaN                   NaN                  NaN   \n",
       "4                   NaN                   NaN                  NaN   \n",
       "\n",
       "   OtherNTrialDCMinSum  OtherPTrialDCDaySum  OtherNTrialDCDaySum  \\\n",
       "0                  NaN                  NaN                  NaN   \n",
       "1                  NaN                  NaN                  NaN   \n",
       "2                  NaN                  NaN                  NaN   \n",
       "3                  NaN                  NaN                  NaN   \n",
       "4                  NaN                  NaN                  NaN   \n",
       "\n",
       "   GroupOtherPTrialDCMinMean  GroupOtherNTrialDCMinMean  \\\n",
       "0                      791.0                        0.0   \n",
       "1                      791.0                        0.0   \n",
       "2                      791.0                        0.0   \n",
       "3                      791.0                        0.0   \n",
       "4                        0.0                        0.0   \n",
       "\n",
       "   GroupOtherPTrialDCDayMean  GroupOtherNTrialDCDayMean  \\\n",
       "0                        3.0                        0.0   \n",
       "1                        3.0                        0.0   \n",
       "2                        3.0                        0.0   \n",
       "3                        3.0                        0.0   \n",
       "4                        0.0                        0.0   \n",
       "\n",
       "   GroupOtherPTrialDCMinSum  GroupOtherNTrialDCMinSum  \\\n",
       "0                     791.0                       0.0   \n",
       "1                     791.0                       0.0   \n",
       "2                     791.0                       0.0   \n",
       "3                     791.0                       0.0   \n",
       "4                       0.0                       0.0   \n",
       "\n",
       "   GroupOtherPTrialDCDaySum  GroupOtherNTrialDCDaySum  OtherPTrialSC  \\\n",
       "0                       3.0                       0.0            0.0   \n",
       "1                       3.0                       0.0            0.0   \n",
       "2                       3.0                       0.0            0.0   \n",
       "3                       3.0                       0.0            0.0   \n",
       "4                       0.0                       0.0            1.0   \n",
       "\n",
       "   OtherNTrialSC  OtherPTrialSCMinMean  OtherNTrialSCMinMean  \\\n",
       "0            0.0                   NaN                   NaN   \n",
       "1            0.0                   NaN                   NaN   \n",
       "2            0.0                   NaN                   NaN   \n",
       "3            0.0                   NaN                   NaN   \n",
       "4            0.0                 388.0                   NaN   \n",
       "\n",
       "   OtherPTrialSCDayMean  OtherNTrialSCDayMean  OtherPTrialSCMinSum  \\\n",
       "0                   NaN                   NaN                  NaN   \n",
       "1                   NaN                   NaN                  NaN   \n",
       "2                   NaN                   NaN                  NaN   \n",
       "3                   NaN                   NaN                  NaN   \n",
       "4                   3.0                   NaN                388.0   \n",
       "\n",
       "   OtherNTrialSCMinSum  OtherPTrialSCDaySum  OtherNTrialSCDaySum  \\\n",
       "0                  NaN                  NaN                  NaN   \n",
       "1                  NaN                  NaN                  NaN   \n",
       "2                  NaN                  NaN                  NaN   \n",
       "3                  NaN                  NaN                  NaN   \n",
       "4                  NaN                  3.0                  NaN   \n",
       "\n",
       "   GroupOtherPTrialSCMinMean  GroupOtherNTrialSCMinMean  \\\n",
       "0                        0.0                        0.0   \n",
       "1                        0.0                        0.0   \n",
       "2                        0.0                        0.0   \n",
       "3                        0.0                        0.0   \n",
       "4                      388.0                        0.0   \n",
       "\n",
       "   GroupOtherPTrialSCDayMean  GroupOtherNTrialSCDayMean  \\\n",
       "0                        0.0                        0.0   \n",
       "1                        0.0                        0.0   \n",
       "2                        0.0                        0.0   \n",
       "3                        0.0                        0.0   \n",
       "4                        3.0                        0.0   \n",
       "\n",
       "   GroupOtherPTrialSCMinSum  GroupOtherNTrialSCMinSum  \\\n",
       "0                       0.0                       0.0   \n",
       "1                       0.0                       0.0   \n",
       "2                       0.0                       0.0   \n",
       "3                       0.0                       0.0   \n",
       "4                     388.0                       0.0   \n",
       "\n",
       "   GroupOtherPTrialSCDaySum  GroupOtherNTrialSCDaySum  GroupOtherPTrialsMC  \\\n",
       "0                       0.0                       0.0                  1.0   \n",
       "1                       0.0                       0.0                  1.0   \n",
       "2                       0.0                       0.0                  1.0   \n",
       "3                       0.0                       0.0                  1.0   \n",
       "4                       3.0                       0.0                  0.0   \n",
       "\n",
       "   GroupOtherNTrialsMC  GroupUniqueOtherPTrialsMC  GroupUniqueOtherNTrialsMC  \\\n",
       "0                  2.0                        1.0                        1.0   \n",
       "1                  2.0                        1.0                        1.0   \n",
       "2                  2.0                        1.0                        1.0   \n",
       "3                  2.0                        1.0                        1.0   \n",
       "4                  0.0                        0.0                        0.0   \n",
       "\n",
       "   UniqueOtherPMCAdjustment  UniqueOtherNMCAdjustment  \\\n",
       "0                       1.0                       0.5   \n",
       "1                       1.0                       0.5   \n",
       "2                       1.0                       0.5   \n",
       "3                       1.0                       0.5   \n",
       "4                       NaN                       NaN   \n",
       "\n",
       "   GroupUniqueOtherPTrialMCMinMean  GroupUniqueOtherNTrialMCMinMean  \\\n",
       "0                              NaN                              4.0   \n",
       "1                              NaN                              4.0   \n",
       "2                              NaN                              4.0   \n",
       "3                              NaN                              4.0   \n",
       "4                              NaN                              NaN   \n",
       "\n",
       "   GroupUniqueOtherPTrialMCMinSum  GroupUniqueOtherNTrialMCMinSum  \\\n",
       "0                             NaN                             4.0   \n",
       "1                             NaN                             4.0   \n",
       "2                             NaN                             4.0   \n",
       "3                             NaN                             4.0   \n",
       "4                             NaN                             NaN   \n",
       "\n",
       "   GroupUniqueOtherPTrialMCDayMean  GroupUniqueOtherNTrialMCDayMean  \\\n",
       "0                              1.0                              1.0   \n",
       "1                              1.0                              1.0   \n",
       "2                              1.0                              1.0   \n",
       "3                              1.0                              1.0   \n",
       "4                              NaN                              NaN   \n",
       "\n",
       "   GroupUniqueOtherPTrialMCDaySum  GroupUniqueOtherNTrialMCDaySum  \\\n",
       "0                             1.0                             1.0   \n",
       "1                             1.0                             1.0   \n",
       "2                             1.0                             1.0   \n",
       "3                             1.0                             1.0   \n",
       "4                             NaN                             NaN   \n",
       "\n",
       "   GroupOtherPTrialsDC  GroupOtherNTrialsDC  GroupUniqueOtherPTrialsDC  \\\n",
       "0                  1.0                  0.0                        1.0   \n",
       "1                  1.0                  0.0                        1.0   \n",
       "2                  1.0                  0.0                        1.0   \n",
       "3                  1.0                  0.0                        1.0   \n",
       "4                  0.0                  0.0                        0.0   \n",
       "\n",
       "   GroupUniqueOtherNTrialsDC  UniqueOtherPDCAdjustment  \\\n",
       "0                        0.0                       1.0   \n",
       "1                        0.0                       1.0   \n",
       "2                        0.0                       1.0   \n",
       "3                        0.0                       1.0   \n",
       "4                        0.0                       NaN   \n",
       "\n",
       "   UniqueOtherNDCAdjustment  GroupUniqueOtherPTrialDCMinMean  \\\n",
       "0                       NaN                            791.0   \n",
       "1                       NaN                            791.0   \n",
       "2                       NaN                            791.0   \n",
       "3                       NaN                            791.0   \n",
       "4                       NaN                              NaN   \n",
       "\n",
       "   GroupUniqueOtherNTrialDCMinMean  GroupUniqueOtherPTrialDCMinSum  \\\n",
       "0                              NaN                           791.0   \n",
       "1                              NaN                           791.0   \n",
       "2                              NaN                           791.0   \n",
       "3                              NaN                           791.0   \n",
       "4                              NaN                             NaN   \n",
       "\n",
       "   GroupUniqueOtherNTrialDCMinSum  GroupUniqueOtherPTrialDCDayMean  \\\n",
       "0                             NaN                              3.0   \n",
       "1                             NaN                              3.0   \n",
       "2                             NaN                              3.0   \n",
       "3                             NaN                              3.0   \n",
       "4                             NaN                              NaN   \n",
       "\n",
       "   GroupUniqueOtherNTrialDCDayMean  GroupUniqueOtherPTrialDCDaySum  \\\n",
       "0                              NaN                             3.0   \n",
       "1                              NaN                             3.0   \n",
       "2                              NaN                             3.0   \n",
       "3                              NaN                             3.0   \n",
       "4                              NaN                             NaN   \n",
       "\n",
       "   GroupUniqueOtherNTrialDCDaySum  GroupOtherPTrialsSC  GroupOtherNTrialsSC  \\\n",
       "0                             NaN                  0.0                  0.0   \n",
       "1                             NaN                  0.0                  0.0   \n",
       "2                             NaN                  0.0                  0.0   \n",
       "3                             NaN                  0.0                  0.0   \n",
       "4                             NaN                  1.0                  0.0   \n",
       "\n",
       "   GroupUniqueOtherPTrialsSC  GroupUniqueOtherNTrialsSC  \\\n",
       "0                        0.0                        0.0   \n",
       "1                        0.0                        0.0   \n",
       "2                        0.0                        0.0   \n",
       "3                        0.0                        0.0   \n",
       "4                        1.0                        0.0   \n",
       "\n",
       "   UniqueOtherPSCAdjustment  UniqueOtherNSCAdjustment  \\\n",
       "0                       NaN                       NaN   \n",
       "1                       NaN                       NaN   \n",
       "2                       NaN                       NaN   \n",
       "3                       NaN                       NaN   \n",
       "4                       1.0                       NaN   \n",
       "\n",
       "   GroupUniqueOtherPTrialSCMinMean  GroupUniqueOtherNTrialSCMinMean  \\\n",
       "0                              NaN                              NaN   \n",
       "1                              NaN                              NaN   \n",
       "2                              NaN                              NaN   \n",
       "3                              NaN                              NaN   \n",
       "4                            388.0                              NaN   \n",
       "\n",
       "   GroupUniqueOtherPTrialSCMinSum  GroupUniqueOtherNTrialSCMinSum  \\\n",
       "0                             NaN                             NaN   \n",
       "1                             NaN                             NaN   \n",
       "2                             NaN                             NaN   \n",
       "3                             NaN                             NaN   \n",
       "4                           388.0                             NaN   \n",
       "\n",
       "   GroupUniqueOtherPTrialSCDayMean  GroupUniqueOtherNTrialSCDayMean  \\\n",
       "0                              NaN                              NaN   \n",
       "1                              NaN                              NaN   \n",
       "2                              NaN                              NaN   \n",
       "3                              NaN                              NaN   \n",
       "4                              3.0                              NaN   \n",
       "\n",
       "   GroupUniqueOtherPTrialSCDaySum  GroupUniqueOtherNTrialSCDaySum  \\\n",
       "0                             NaN                             NaN   \n",
       "1                             NaN                             NaN   \n",
       "2                             NaN                             NaN   \n",
       "3                             NaN                             NaN   \n",
       "4                             3.0                             NaN   \n",
       "\n",
       "   GroupSentenceMC  GroupSentenceDC  GroupSentenceSC  GroupUniqueSentenceMC  \\\n",
       "0             26.0              NaN              NaN                    7.0   \n",
       "1             26.0              NaN              NaN                    7.0   \n",
       "2             26.0              NaN              NaN                    7.0   \n",
       "3             26.0              NaN              NaN                    7.0   \n",
       "4              7.0              NaN              1.0                    3.0   \n",
       "\n",
       "   GroupUniqueSentenceDC  GroupUniqueSentenceSC  GroupSentMCMeanMin  \\\n",
       "0                    NaN                    NaN                 NaN   \n",
       "1                    NaN                    NaN                 NaN   \n",
       "2                    NaN                    NaN                 NaN   \n",
       "3                    NaN                    NaN                 NaN   \n",
       "4                    NaN                    1.0           11.666667   \n",
       "\n",
       "   GroupSentMCSumMin  GroupSentDCMeanMin  GroupSentDCSumMin  \\\n",
       "0                NaN                 NaN                NaN   \n",
       "1                NaN                 NaN                NaN   \n",
       "2                NaN                 NaN                NaN   \n",
       "3                NaN                 NaN                NaN   \n",
       "4               35.0                 NaN                NaN   \n",
       "\n",
       "   GroupSentSCMeanMin  GroupSentSCSumMin  UniqueSentenceAdjustmentMC  \\\n",
       "0                 NaN                NaN                    0.269231   \n",
       "1                 NaN                NaN                    0.269231   \n",
       "2                 NaN                NaN                    0.269231   \n",
       "3                 NaN                NaN                    0.269231   \n",
       "4               165.0              165.0                    0.428571   \n",
       "\n",
       "   UniqueSentenceAdjustmentDC  UniqueSentenceAdjustmentSC  \\\n",
       "0                         NaN                         NaN   \n",
       "1                         NaN                         NaN   \n",
       "2                         NaN                         NaN   \n",
       "3                         NaN                         NaN   \n",
       "4                         NaN                         1.0   \n",
       "\n",
       "   HearingsToFinaliseMC  MinMeanAllMC  MinSumAllMC  UniqueGroupHearingsMC  \\\n",
       "0                  25.0     19.200000        480.0                  106.0   \n",
       "1                  28.0     18.285714        512.0                  106.0   \n",
       "2                  27.0     19.296296        521.0                  106.0   \n",
       "3                  29.0     20.275862        588.0                  106.0   \n",
       "4                  21.0      4.750000         95.0                   45.0   \n",
       "\n",
       "   MinMeanUniqueMC  MinSumUniqueMC  HearingsToFinaliseDC  MinMeanDC  MinSumDC  \\\n",
       "0        16.553846          1076.0                   NaN        NaN       NaN   \n",
       "1        16.553846          1076.0                   NaN        NaN       NaN   \n",
       "2        16.553846          1076.0                   NaN        NaN       NaN   \n",
       "3        16.553846          1076.0                   NaN        NaN       NaN   \n",
       "4        19.205882           653.0                   NaN        NaN       NaN   \n",
       "\n",
       "   HearingsToFinaliseSC  MinMeanSC  MinSumSC  UniqueGroupHearingsDC  \\\n",
       "0                   NaN        NaN       NaN                    5.0   \n",
       "1                   NaN        NaN       NaN                    5.0   \n",
       "2                   NaN        NaN       NaN                    5.0   \n",
       "3                   NaN        NaN       NaN                    5.0   \n",
       "4                  15.0  97.533333    1463.0                    NaN   \n",
       "\n",
       "   MinMeanUniqueDC  MinSumUniqueDC  UniqueGroupHearingsSC  MinMeanUniqueSC  \\\n",
       "0            447.6          2238.0                    NaN              NaN   \n",
       "1            447.6          2238.0                    NaN              NaN   \n",
       "2            447.6          2238.0                    NaN              NaN   \n",
       "3            447.6          2238.0                    NaN              NaN   \n",
       "4              NaN             NaN                   15.0       121.916667   \n",
       "\n",
       "   MinSumUniqueSC  HearingsToCommittal  MinMeanCom  MinSumCom  \\\n",
       "0             NaN                  NaN         NaN        NaN   \n",
       "1             NaN                  NaN         NaN        NaN   \n",
       "2             NaN                  NaN         NaN        NaN   \n",
       "3             NaN                  NaN         NaN        NaN   \n",
       "4          1463.0                 17.0        5.75       92.0   \n",
       "\n",
       "   HearingsToTrial  MinMeanTrl  MinSumTrl  HearingsComToTrial  MinMeanComTrl  \\\n",
       "0             14.0   14.142857      198.0                 NaN            NaN   \n",
       "1             17.0   13.529412      230.0                 NaN            NaN   \n",
       "2             16.0   14.937500      239.0                 NaN            NaN   \n",
       "3             18.0   17.000000      306.0                 NaN            NaN   \n",
       "4             33.0   31.312500     1002.0                17.0      53.529412   \n",
       "\n",
       "   MinSumComTrl  HearingsComToFinal  MinMeanComFnl  MinSumComFnl  \\\n",
       "0           NaN                 NaN            NaN           NaN   \n",
       "1           NaN                 NaN            NaN           NaN   \n",
       "2           NaN                 NaN            NaN           NaN   \n",
       "3           NaN                 NaN            NaN           NaN   \n",
       "4         910.0                20.0           73.3        1466.0   \n",
       "\n",
       "   HearingsTrlToFinal  MinMeanTrlFnl  MinSumTrlFnl  \n",
       "0                 NaN            NaN           NaN  \n",
       "1                 NaN            NaN           NaN  \n",
       "2                 NaN            NaN           NaN  \n",
       "3                 NaN            NaN           NaN  \n",
       "4                20.0           73.3        1466.0  "
      ]
     },
     "metadata": {},
     "output_type": "display_data"
    }
   ],
   "source": [
    "display_all(dfC.head())"
   ]
  },
  {
   "cell_type": "code",
   "execution_count": 38,
   "metadata": {},
   "outputs": [
    {
     "data": {
      "text/plain": [
       "Male      54\n",
       "Female    15\n",
       "Name: Gender, dtype: int64"
      ]
     },
     "execution_count": 38,
     "metadata": {},
     "output_type": "execute_result"
    }
   ],
   "source": [
    "# Get counts of particular column conditions\n",
    "dfC[dfC['SentenceType'] == 'Conditional Suspended Imprisonment Order']['Gender'].value_counts()\n",
    "# For percentages\n",
    "#dfC[dfC['SentenceType'] == 'Conditional Suspended Imprisonment Order']['Gender'].value_counts(normalize = True)"
   ]
  },
  {
   "cell_type": "code",
   "execution_count": 39,
   "metadata": {},
   "outputs": [
    {
     "data": {
      "text/plain": [
       "64"
      ]
     },
     "execution_count": 39,
     "metadata": {},
     "output_type": "execute_result"
    }
   ],
   "source": [
    "# The number of uniques in a column\n",
    "dfC['ParticipantID'][dfC['SentenceType'] =='Conditional Suspended Imprisonment Order'].nunique()"
   ]
  },
  {
   "cell_type": "code",
   "execution_count": 40,
   "metadata": {},
   "outputs": [
    {
     "data": {
      "text/plain": [
       "array(['B1073836', 'B1354006', 'B1367371', 'B1946404', 'D1859709',\n",
       "       'E0871348', 'E0921298', 'E0980752', 'E1055794', 'E1408378',\n",
       "       'E2059672', 'G1875921', 'I0910223', 'I1652633', 'I1989386',\n",
       "       'I2120066', 'J1386468', 'D2038251'], dtype=object)"
      ]
     },
     "execution_count": 40,
     "metadata": {},
     "output_type": "execute_result"
    }
   ],
   "source": [
    "# Print the unique Id's\n",
    "df['TOMS_ID'].unique()"
   ]
  },
  {
   "cell_type": "markdown",
   "metadata": {},
   "source": [
    "### Check for duplicates"
   ]
  },
  {
   "cell_type": "code",
   "execution_count": 41,
   "metadata": {},
   "outputs": [
    {
     "data": {
      "text/plain": [
       "5"
      ]
     },
     "execution_count": 41,
     "metadata": {},
     "output_type": "execute_result"
    }
   ],
   "source": [
    "# Check for duplicates\n",
    "# There are 5 duplicated Ids\n",
    "dfC['ParticipantID'][dfC['SentenceType'] =='Conditional Suspended Imprisonment Order'][dfC['ParticipantID'][dfC['SentenceType'] =='Conditional Suspended Imprisonment Order'].duplicated()].count()"
   ]
  },
  {
   "cell_type": "code",
   "execution_count": 42,
   "metadata": {},
   "outputs": [
    {
     "data": {
      "text/plain": [
       "array(['B1073836', 'B1354006', 'B1367371', 'B1946404', 'D1859709',\n",
       "       'E0871348', 'E0921298', 'E0980752', 'E1055794', 'E1408378',\n",
       "       'E2059672', 'G1875921', 'I0910223', 'I1652633', 'I1989386',\n",
       "       'I2120066'], dtype=object)"
      ]
     },
     "execution_count": 42,
     "metadata": {},
     "output_type": "execute_result"
    }
   ],
   "source": [
    "# Check for duplicates and list the uniques\n",
    "#[df['TOMS_ID'].duplicated()\n",
    "#df['TOMS_ID'][df['TOMS_ID'].duplicated() == True]\n",
    "# Note: False : Mark all duplicates as ``True``.\n",
    "df['TOMS_ID'][df['TOMS_ID'].duplicated(keep = False) == True].unique()"
   ]
  },
  {
   "cell_type": "code",
   "execution_count": 43,
   "metadata": {},
   "outputs": [
    {
     "data": {
      "text/plain": [
       "(array([ 43., 364., 133., 198.,  83.,  24.,  19., 109.,  18.,  72.]),\n",
       " array([  1. ,  16.4,  31.8,  47.2,  62.6,  78. ,  93.4, 108.8, 124.2,\n",
       "        139.6, 155. ]),\n",
       " <a list of 10 Patch objects>)"
      ]
     },
     "execution_count": 43,
     "metadata": {},
     "output_type": "execute_result"
    },
    {
     "data": {
      "image/png": "[encoded data removed]",
      "text/plain": [
       "<matplotlib.figure.Figure at 0x1f88e89d588>"
      ]
     },
     "metadata": {},
     "output_type": "display_data"
    }
   ],
   "source": [
    "# Basic plot\n",
    "plt.style.use('fivethirtyeight')\n",
    "plt.hist(dfC['nationalOffenceIndex'])"
   ]
  },
  {
   "cell_type": "markdown",
   "metadata": {},
   "source": [
    "### Groupby"
   ]
  },
  {
   "cell_type": "code",
   "execution_count": 44,
   "metadata": {},
   "outputs": [
    {
     "data": {
      "text/plain": [
       "SentenceType                              Gender\n",
       "Conditional Suspended Imprisonment Order  Male       54\n",
       "                                          Female     15\n",
       "Imprisonment                              Male      869\n",
       "                                          Female    125\n",
       "Name: Gender, dtype: int64"
      ]
     },
     "execution_count": 44,
     "metadata": {},
     "output_type": "execute_result"
    }
   ],
   "source": [
    "# Group data on particular columns\n",
    "dfC.groupby('SentenceType').Gender.value_counts()\n",
    "# Groupby expressed as a percentage\n",
    "#dfC.groupby('SentenceType').Gender.value_counts(normalize=True)"
   ]
  },
  {
   "cell_type": "code",
   "execution_count": 45,
   "metadata": {},
   "outputs": [],
   "source": [
    "# The 'agg' function below is used to aggregate text\n",
    "df2 = df.groupby(['DecisionDate', 'TOMS_ID']).agg({'Reason':lambda x:'| '.join(x)})"
   ]
  },
  {
   "cell_type": "code",
   "execution_count": 46,
   "metadata": {},
   "outputs": [],
   "source": [
    "# To select certain columns after a groupby E.g like TOMSID add another square bracket for the aggregation\n",
    "# Note this is an example \n",
    "#dfXX.groupby(['FinYearReceived'])['TOMSID'].count()"
   ]
  },
  {
   "cell_type": "code",
   "execution_count": null,
   "metadata": {},
   "outputs": [],
   "source": []
  },
  {
   "cell_type": "code",
   "execution_count": 47,
   "metadata": {},
   "outputs": [
    {
     "data": {
      "text/plain": [
       "DecisionDate  TOMS_ID \n",
       "2010-07-01    B1073836    Serious and violent nature of current offences...\n",
       "              B1354006    Serious and violent nature of current offence ...\n",
       "              B1367371    Repetitive nature of driving without a licence...\n",
       "              B1946404    Risk is sufficiently low to justify Release on...\n",
       "              D1859709    Serious and violent nature of current offences...\n",
       "              E0871348    Serious nature of current offences of driving ...\n",
       "              E0921298    Serious and violent nature of current offences...\n",
       "              E0980752    Serious nature of current offence.| Significan...\n",
       "              E1055794    Current offences include offence of driving wi...\n",
       "              E1408378    Serious and violent nature of current offences...\n",
       "              E2059672    The risk to the safety of the community is red...\n",
       "              G1875921    Serious and sexual nature of current offences ...\n",
       "              I0910223    Serous and repetitive nature of aggravated bur...\n",
       "              I1652633    Limited criminal history.| Risk to the safety ...\n",
       "              I1989386    Serious and sexual nature of current offence.|...\n",
       "              I2120066    Serous and violent nature of current offences,...\n",
       "              J1386468    Mandatory release under section 23(3)(b) Sente...\n",
       "2010-07-05    D2038251    Current violent offences which involves assaul...\n",
       "Name: Reason, dtype: object"
      ]
     },
     "metadata": {},
     "output_type": "display_data"
    }
   ],
   "source": [
    "display_all(df2['Reason'])"
   ]
  },
  {
   "cell_type": "markdown",
   "metadata": {},
   "source": [
    "### Aggregate Function"
   ]
  },
  {
   "cell_type": "markdown",
   "metadata": {},
   "source": [
    "#### Create a Test DataFrame"
   ]
  },
  {
   "cell_type": "code",
   "execution_count": 48,
   "metadata": {},
   "outputs": [],
   "source": [
    "df3 = pd.DataFrame([[1, 2, 3],\n",
    "                   [4, 5 ,6],\n",
    "                   [7, 8, 9],\n",
    "                   [np.nan, np.nan, np.nan]\n",
    "                   ], columns = ['A', 'B', 'C'])"
   ]
  },
  {
   "cell_type": "code",
   "execution_count": 49,
   "metadata": {},
   "outputs": [
    {
     "data": {
      "text/html": [
       "<div>\n",
       "<style scoped>\n",
       "    .dataframe tbody tr th:only-of-type {\n",
       "        vertical-align: middle;\n",
       "    }\n",
       "\n",
       "    .dataframe tbody tr th {\n",
       "        vertical-align: top;\n",
       "    }\n",
       "\n",
       "    .dataframe thead th {\n",
       "        text-align: right;\n",
       "    }\n",
       "</style>\n",
       "<table border=\"1\" class=\"dataframe\">\n",
       "  <thead>\n",
       "    <tr style=\"text-align: right;\">\n",
       "      <th></th>\n",
       "      <th>A</th>\n",
       "      <th>B</th>\n",
       "      <th>C</th>\n",
       "    </tr>\n",
       "  </thead>\n",
       "  <tbody>\n",
       "    <tr>\n",
       "      <th>0</th>\n",
       "      <td>1.0</td>\n",
       "      <td>2.0</td>\n",
       "      <td>3.0</td>\n",
       "    </tr>\n",
       "    <tr>\n",
       "      <th>1</th>\n",
       "      <td>4.0</td>\n",
       "      <td>5.0</td>\n",
       "      <td>6.0</td>\n",
       "    </tr>\n",
       "    <tr>\n",
       "      <th>2</th>\n",
       "      <td>7.0</td>\n",
       "      <td>8.0</td>\n",
       "      <td>9.0</td>\n",
       "    </tr>\n",
       "    <tr>\n",
       "      <th>3</th>\n",
       "      <td>NaN</td>\n",
       "      <td>NaN</td>\n",
       "      <td>NaN</td>\n",
       "    </tr>\n",
       "  </tbody>\n",
       "</table>\n",
       "</div>"
      ],
      "text/plain": [
       "     A    B    C\n",
       "0  1.0  2.0  3.0\n",
       "1  4.0  5.0  6.0\n",
       "2  7.0  8.0  9.0\n",
       "3  NaN  NaN  NaN"
      ]
     },
     "execution_count": 49,
     "metadata": {},
     "output_type": "execute_result"
    }
   ],
   "source": [
    "df3"
   ]
  },
  {
   "cell_type": "code",
   "execution_count": 50,
   "metadata": {},
   "outputs": [
    {
     "data": {
      "text/html": [
       "<div>\n",
       "<style scoped>\n",
       "    .dataframe tbody tr th:only-of-type {\n",
       "        vertical-align: middle;\n",
       "    }\n",
       "\n",
       "    .dataframe tbody tr th {\n",
       "        vertical-align: top;\n",
       "    }\n",
       "\n",
       "    .dataframe thead th {\n",
       "        text-align: right;\n",
       "    }\n",
       "</style>\n",
       "<table border=\"1\" class=\"dataframe\">\n",
       "  <thead>\n",
       "    <tr style=\"text-align: right;\">\n",
       "      <th></th>\n",
       "      <th>A</th>\n",
       "      <th>B</th>\n",
       "      <th>C</th>\n",
       "    </tr>\n",
       "  </thead>\n",
       "  <tbody>\n",
       "    <tr>\n",
       "      <th>sum</th>\n",
       "      <td>12.0</td>\n",
       "      <td>15.0</td>\n",
       "      <td>18.0</td>\n",
       "    </tr>\n",
       "  </tbody>\n",
       "</table>\n",
       "</div>"
      ],
      "text/plain": [
       "        A     B     C\n",
       "sum  12.0  15.0  18.0"
      ]
     },
     "execution_count": 50,
     "metadata": {},
     "output_type": "execute_result"
    }
   ],
   "source": [
    "# Aggregate numerically\n",
    "df3.agg(['sum'])"
   ]
  },
  {
   "cell_type": "code",
   "execution_count": 51,
   "metadata": {},
   "outputs": [],
   "source": [
    "df4 = pd.DataFrame([[1, 'A1', 'B1', 'C1'],\n",
    "                   [1, 'A2', 'B2', 'C2'],\n",
    "                   [2, 'D1', 'E1', 'F1'],\n",
    "                   [3, 'G1', 'H1', 'I1'],\n",
    "                   [3, 'G2', 'H2', 'I2'],\n",
    "                   ],\n",
    "                  columns = ['Name','Col1', 'Col2', 'Col3'])"
   ]
  },
  {
   "cell_type": "code",
   "execution_count": 52,
   "metadata": {},
   "outputs": [
    {
     "data": {
      "text/html": [
       "<div>\n",
       "<style scoped>\n",
       "    .dataframe tbody tr th:only-of-type {\n",
       "        vertical-align: middle;\n",
       "    }\n",
       "\n",
       "    .dataframe tbody tr th {\n",
       "        vertical-align: top;\n",
       "    }\n",
       "\n",
       "    .dataframe thead th {\n",
       "        text-align: right;\n",
       "    }\n",
       "</style>\n",
       "<table border=\"1\" class=\"dataframe\">\n",
       "  <thead>\n",
       "    <tr style=\"text-align: right;\">\n",
       "      <th></th>\n",
       "      <th>Name</th>\n",
       "      <th>Col1</th>\n",
       "      <th>Col2</th>\n",
       "      <th>Col3</th>\n",
       "    </tr>\n",
       "  </thead>\n",
       "  <tbody>\n",
       "    <tr>\n",
       "      <th>0</th>\n",
       "      <td>1</td>\n",
       "      <td>A1</td>\n",
       "      <td>B1</td>\n",
       "      <td>C1</td>\n",
       "    </tr>\n",
       "    <tr>\n",
       "      <th>1</th>\n",
       "      <td>1</td>\n",
       "      <td>A2</td>\n",
       "      <td>B2</td>\n",
       "      <td>C2</td>\n",
       "    </tr>\n",
       "    <tr>\n",
       "      <th>2</th>\n",
       "      <td>2</td>\n",
       "      <td>D1</td>\n",
       "      <td>E1</td>\n",
       "      <td>F1</td>\n",
       "    </tr>\n",
       "    <tr>\n",
       "      <th>3</th>\n",
       "      <td>3</td>\n",
       "      <td>G1</td>\n",
       "      <td>H1</td>\n",
       "      <td>I1</td>\n",
       "    </tr>\n",
       "    <tr>\n",
       "      <th>4</th>\n",
       "      <td>3</td>\n",
       "      <td>G2</td>\n",
       "      <td>H2</td>\n",
       "      <td>I2</td>\n",
       "    </tr>\n",
       "  </tbody>\n",
       "</table>\n",
       "</div>"
      ],
      "text/plain": [
       "   Name Col1 Col2 Col3\n",
       "0     1   A1   B1   C1\n",
       "1     1   A2   B2   C2\n",
       "2     2   D1   E1   F1\n",
       "3     3   G1   H1   I1\n",
       "4     3   G2   H2   I2"
      ]
     },
     "execution_count": 52,
     "metadata": {},
     "output_type": "execute_result"
    }
   ],
   "source": [
    "df4"
   ]
  },
  {
   "cell_type": "code",
   "execution_count": 53,
   "metadata": {},
   "outputs": [
    {
     "data": {
      "text/html": [
       "<div>\n",
       "<style scoped>\n",
       "    .dataframe tbody tr th:only-of-type {\n",
       "        vertical-align: middle;\n",
       "    }\n",
       "\n",
       "    .dataframe tbody tr th {\n",
       "        vertical-align: top;\n",
       "    }\n",
       "\n",
       "    .dataframe thead th {\n",
       "        text-align: right;\n",
       "    }\n",
       "</style>\n",
       "<table border=\"1\" class=\"dataframe\">\n",
       "  <thead>\n",
       "    <tr style=\"text-align: right;\">\n",
       "      <th></th>\n",
       "      <th>Col1</th>\n",
       "    </tr>\n",
       "    <tr>\n",
       "      <th>Name</th>\n",
       "      <th></th>\n",
       "    </tr>\n",
       "  </thead>\n",
       "  <tbody>\n",
       "    <tr>\n",
       "      <th>1</th>\n",
       "      <td>A1|A2</td>\n",
       "    </tr>\n",
       "    <tr>\n",
       "      <th>2</th>\n",
       "      <td>D1</td>\n",
       "    </tr>\n",
       "    <tr>\n",
       "      <th>3</th>\n",
       "      <td>G1|G2</td>\n",
       "    </tr>\n",
       "  </tbody>\n",
       "</table>\n",
       "</div>"
      ],
      "text/plain": [
       "       Col1\n",
       "Name       \n",
       "1     A1|A2\n",
       "2        D1\n",
       "3     G1|G2"
      ]
     },
     "execution_count": 53,
     "metadata": {},
     "output_type": "execute_result"
    }
   ],
   "source": [
    "# Aggregate text\n",
    "df4.groupby('Name').agg({'Col1':lambda x:'|'.join(x)})"
   ]
  },
  {
   "cell_type": "markdown",
   "metadata": {},
   "source": [
    "### Transpose data"
   ]
  },
  {
   "cell_type": "code",
   "execution_count": 54,
   "metadata": {},
   "outputs": [
    {
     "data": {
      "text/plain": [
       "{'col1': [1, 2, 3], 'col2': [3, 4, 5]}"
      ]
     },
     "execution_count": 54,
     "metadata": {},
     "output_type": "execute_result"
    }
   ],
   "source": [
    "d1 = {'col1': [1, 2,3], 'col2': [3, 4, 5]};d1"
   ]
  },
  {
   "cell_type": "code",
   "execution_count": 55,
   "metadata": {},
   "outputs": [
    {
     "data": {
      "text/plain": [
       "{'col1': [1, 2, 3], 'col2': [3, 4, 5]}"
      ]
     },
     "metadata": {},
     "output_type": "display_data"
    }
   ],
   "source": [
    "display_all(d1)"
   ]
  },
  {
   "cell_type": "code",
   "execution_count": 56,
   "metadata": {},
   "outputs": [
    {
     "data": {
      "text/plain": [
       "dict"
      ]
     },
     "execution_count": 56,
     "metadata": {},
     "output_type": "execute_result"
    }
   ],
   "source": [
    "type(d1)"
   ]
  },
  {
   "cell_type": "code",
   "execution_count": 57,
   "metadata": {},
   "outputs": [],
   "source": [
    "df1 = pd.DataFrame(data=d1)"
   ]
  },
  {
   "cell_type": "code",
   "execution_count": 58,
   "metadata": {},
   "outputs": [
    {
     "data": {
      "text/plain": [
       "pandas.core.frame.DataFrame"
      ]
     },
     "execution_count": 58,
     "metadata": {},
     "output_type": "execute_result"
    }
   ],
   "source": [
    "type(df1)"
   ]
  },
  {
   "cell_type": "code",
   "execution_count": 59,
   "metadata": {},
   "outputs": [
    {
     "data": {
      "text/html": [
       "<div>\n",
       "<style scoped>\n",
       "    .dataframe tbody tr th:only-of-type {\n",
       "        vertical-align: middle;\n",
       "    }\n",
       "\n",
       "    .dataframe tbody tr th {\n",
       "        vertical-align: top;\n",
       "    }\n",
       "\n",
       "    .dataframe thead th {\n",
       "        text-align: right;\n",
       "    }\n",
       "</style>\n",
       "<table border=\"1\" class=\"dataframe\">\n",
       "  <thead>\n",
       "    <tr style=\"text-align: right;\">\n",
       "      <th></th>\n",
       "      <th>col1</th>\n",
       "      <th>col2</th>\n",
       "    </tr>\n",
       "  </thead>\n",
       "  <tbody>\n",
       "    <tr>\n",
       "      <th>0</th>\n",
       "      <td>1</td>\n",
       "      <td>3</td>\n",
       "    </tr>\n",
       "    <tr>\n",
       "      <th>1</th>\n",
       "      <td>2</td>\n",
       "      <td>4</td>\n",
       "    </tr>\n",
       "    <tr>\n",
       "      <th>2</th>\n",
       "      <td>3</td>\n",
       "      <td>5</td>\n",
       "    </tr>\n",
       "  </tbody>\n",
       "</table>\n",
       "</div>"
      ],
      "text/plain": [
       "   col1  col2\n",
       "0     1     3\n",
       "1     2     4\n",
       "2     3     5"
      ]
     },
     "execution_count": 59,
     "metadata": {},
     "output_type": "execute_result"
    }
   ],
   "source": [
    "df1"
   ]
  },
  {
   "cell_type": "code",
   "execution_count": 60,
   "metadata": {},
   "outputs": [
    {
     "data": {
      "text/html": [
       "<div>\n",
       "<style scoped>\n",
       "    .dataframe tbody tr th:only-of-type {\n",
       "        vertical-align: middle;\n",
       "    }\n",
       "\n",
       "    .dataframe tbody tr th {\n",
       "        vertical-align: top;\n",
       "    }\n",
       "\n",
       "    .dataframe thead th {\n",
       "        text-align: right;\n",
       "    }\n",
       "</style>\n",
       "<table border=\"1\" class=\"dataframe\">\n",
       "  <thead>\n",
       "    <tr style=\"text-align: right;\">\n",
       "      <th></th>\n",
       "      <th>0</th>\n",
       "      <th>1</th>\n",
       "      <th>2</th>\n",
       "    </tr>\n",
       "  </thead>\n",
       "  <tbody>\n",
       "    <tr>\n",
       "      <th>col1</th>\n",
       "      <td>1</td>\n",
       "      <td>2</td>\n",
       "      <td>3</td>\n",
       "    </tr>\n",
       "    <tr>\n",
       "      <th>col2</th>\n",
       "      <td>3</td>\n",
       "      <td>4</td>\n",
       "      <td>5</td>\n",
       "    </tr>\n",
       "  </tbody>\n",
       "</table>\n",
       "</div>"
      ],
      "text/plain": [
       "      0  1  2\n",
       "col1  1  2  3\n",
       "col2  3  4  5"
      ]
     },
     "execution_count": 60,
     "metadata": {},
     "output_type": "execute_result"
    }
   ],
   "source": [
    "df1_transposed = df1.T;df1_transposed"
   ]
  },
  {
   "cell_type": "code",
   "execution_count": 61,
   "metadata": {},
   "outputs": [
    {
     "data": {
      "text/plain": [
       "0    int64\n",
       "1    int64\n",
       "2    int64\n",
       "dtype: object"
      ]
     },
     "execution_count": 61,
     "metadata": {},
     "output_type": "execute_result"
    }
   ],
   "source": [
    "df1_transposed.dtypes"
   ]
  },
  {
   "cell_type": "code",
   "execution_count": 62,
   "metadata": {},
   "outputs": [],
   "source": [
    "d2 = {'name': ['Alice', 'Bob'],\n",
    "      'score': [9.5, 8],\n",
    "      'employed': [False, True],\n",
    "      'kids': [0, 0]}"
   ]
  },
  {
   "cell_type": "code",
   "execution_count": 63,
   "metadata": {},
   "outputs": [
    {
     "data": {
      "text/plain": [
       "{'employed': [False, True],\n",
       " 'kids': [0, 0],\n",
       " 'name': ['Alice', 'Bob'],\n",
       " 'score': [9.5, 8]}"
      ]
     },
     "execution_count": 63,
     "metadata": {},
     "output_type": "execute_result"
    }
   ],
   "source": [
    "d2"
   ]
  },
  {
   "cell_type": "code",
   "execution_count": 64,
   "metadata": {},
   "outputs": [],
   "source": [
    "df2 = pd.DataFrame(data=d2)"
   ]
  },
  {
   "cell_type": "code",
   "execution_count": 65,
   "metadata": {},
   "outputs": [
    {
     "data": {
      "text/html": [
       "<div>\n",
       "<style scoped>\n",
       "    .dataframe tbody tr th:only-of-type {\n",
       "        vertical-align: middle;\n",
       "    }\n",
       "\n",
       "    .dataframe tbody tr th {\n",
       "        vertical-align: top;\n",
       "    }\n",
       "\n",
       "    .dataframe thead th {\n",
       "        text-align: right;\n",
       "    }\n",
       "</style>\n",
       "<table border=\"1\" class=\"dataframe\">\n",
       "  <thead>\n",
       "    <tr style=\"text-align: right;\">\n",
       "      <th></th>\n",
       "      <th>employed</th>\n",
       "      <th>kids</th>\n",
       "      <th>name</th>\n",
       "      <th>score</th>\n",
       "    </tr>\n",
       "  </thead>\n",
       "  <tbody>\n",
       "    <tr>\n",
       "      <th>0</th>\n",
       "      <td>False</td>\n",
       "      <td>0</td>\n",
       "      <td>Alice</td>\n",
       "      <td>9.5</td>\n",
       "    </tr>\n",
       "    <tr>\n",
       "      <th>1</th>\n",
       "      <td>True</td>\n",
       "      <td>0</td>\n",
       "      <td>Bob</td>\n",
       "      <td>8.0</td>\n",
       "    </tr>\n",
       "  </tbody>\n",
       "</table>\n",
       "</div>"
      ],
      "text/plain": [
       "   employed  kids   name  score\n",
       "0     False     0  Alice    9.5\n",
       "1      True     0    Bob    8.0"
      ]
     },
     "execution_count": 65,
     "metadata": {},
     "output_type": "execute_result"
    }
   ],
   "source": [
    "df2"
   ]
  },
  {
   "cell_type": "code",
   "execution_count": 66,
   "metadata": {},
   "outputs": [
    {
     "data": {
      "text/html": [
       "<div>\n",
       "<style scoped>\n",
       "    .dataframe tbody tr th:only-of-type {\n",
       "        vertical-align: middle;\n",
       "    }\n",
       "\n",
       "    .dataframe tbody tr th {\n",
       "        vertical-align: top;\n",
       "    }\n",
       "\n",
       "    .dataframe thead th {\n",
       "        text-align: right;\n",
       "    }\n",
       "</style>\n",
       "<table border=\"1\" class=\"dataframe\">\n",
       "  <thead>\n",
       "    <tr style=\"text-align: right;\">\n",
       "      <th></th>\n",
       "      <th>0</th>\n",
       "      <th>1</th>\n",
       "    </tr>\n",
       "  </thead>\n",
       "  <tbody>\n",
       "    <tr>\n",
       "      <th>employed</th>\n",
       "      <td>False</td>\n",
       "      <td>True</td>\n",
       "    </tr>\n",
       "    <tr>\n",
       "      <th>kids</th>\n",
       "      <td>0</td>\n",
       "      <td>0</td>\n",
       "    </tr>\n",
       "    <tr>\n",
       "      <th>name</th>\n",
       "      <td>Alice</td>\n",
       "      <td>Bob</td>\n",
       "    </tr>\n",
       "    <tr>\n",
       "      <th>score</th>\n",
       "      <td>9.5</td>\n",
       "      <td>8</td>\n",
       "    </tr>\n",
       "  </tbody>\n",
       "</table>\n",
       "</div>"
      ],
      "text/plain": [
       "              0     1\n",
       "employed  False  True\n",
       "kids          0     0\n",
       "name      Alice   Bob\n",
       "score       9.5     8"
      ]
     },
     "execution_count": 66,
     "metadata": {},
     "output_type": "execute_result"
    }
   ],
   "source": [
    "df2_transposed = df2.T # or df2.transpose();\n",
    "df2_transposed"
   ]
  },
  {
   "cell_type": "code",
   "execution_count": 67,
   "metadata": {},
   "outputs": [
    {
     "data": {
      "text/plain": [
       "0    object\n",
       "1    object\n",
       "dtype: object"
      ]
     },
     "execution_count": 67,
     "metadata": {},
     "output_type": "execute_result"
    }
   ],
   "source": [
    "df2_transposed.dtypes"
   ]
  },
  {
   "cell_type": "code",
   "execution_count": null,
   "metadata": {},
   "outputs": [],
   "source": []
  },
  {
   "cell_type": "code",
   "execution_count": null,
   "metadata": {},
   "outputs": [],
   "source": []
  },
  {
   "cell_type": "markdown",
   "metadata": {},
   "source": [
    "## Massage DataFrame (Melt Function)"
   ]
  },
  {
   "cell_type": "code",
   "execution_count": 68,
   "metadata": {},
   "outputs": [
    {
     "data": {
      "text/html": [
       "<div>\n",
       "<style scoped>\n",
       "    .dataframe tbody tr th:only-of-type {\n",
       "        vertical-align: middle;\n",
       "    }\n",
       "\n",
       "    .dataframe tbody tr th {\n",
       "        vertical-align: top;\n",
       "    }\n",
       "\n",
       "    .dataframe thead th {\n",
       "        text-align: right;\n",
       "    }\n",
       "</style>\n",
       "<table border=\"1\" class=\"dataframe\">\n",
       "  <thead>\n",
       "    <tr style=\"text-align: right;\">\n",
       "      <th></th>\n",
       "      <th>Gender</th>\n",
       "      <th>ATSI</th>\n",
       "      <th>AgeGroup</th>\n",
       "      <th>JurisdictionTypeCode</th>\n",
       "      <th>SentenceType</th>\n",
       "      <th>1/01/2012</th>\n",
       "      <th>2/01/2012</th>\n",
       "      <th>3/01/2012</th>\n",
       "      <th>4/01/2012</th>\n",
       "      <th>5/01/2012</th>\n",
       "      <th>...</th>\n",
       "      <th>21/09/2018</th>\n",
       "      <th>22/09/2018</th>\n",
       "      <th>23/09/2018</th>\n",
       "      <th>24/09/2018</th>\n",
       "      <th>25/09/2018</th>\n",
       "      <th>26/09/2018</th>\n",
       "      <th>27/09/2018</th>\n",
       "      <th>28/09/2018</th>\n",
       "      <th>29/09/2018</th>\n",
       "      <th>30/09/2018</th>\n",
       "    </tr>\n",
       "  </thead>\n",
       "  <tbody>\n",
       "    <tr>\n",
       "      <th>0</th>\n",
       "      <td>Female</td>\n",
       "      <td>Indigenous</td>\n",
       "      <td>&lt;18</td>\n",
       "      <td>CC</td>\n",
       "      <td>Community Based Order</td>\n",
       "      <td>NaN</td>\n",
       "      <td>NaN</td>\n",
       "      <td>NaN</td>\n",
       "      <td>NaN</td>\n",
       "      <td>NaN</td>\n",
       "      <td>...</td>\n",
       "      <td>NaN</td>\n",
       "      <td>NaN</td>\n",
       "      <td>NaN</td>\n",
       "      <td>NaN</td>\n",
       "      <td>NaN</td>\n",
       "      <td>NaN</td>\n",
       "      <td>NaN</td>\n",
       "      <td>NaN</td>\n",
       "      <td>NaN</td>\n",
       "      <td>NaN</td>\n",
       "    </tr>\n",
       "    <tr>\n",
       "      <th>1</th>\n",
       "      <td>Female</td>\n",
       "      <td>Indigenous</td>\n",
       "      <td>&lt;18</td>\n",
       "      <td>CC</td>\n",
       "      <td>Fines</td>\n",
       "      <td>NaN</td>\n",
       "      <td>NaN</td>\n",
       "      <td>NaN</td>\n",
       "      <td>NaN</td>\n",
       "      <td>NaN</td>\n",
       "      <td>...</td>\n",
       "      <td>NaN</td>\n",
       "      <td>NaN</td>\n",
       "      <td>NaN</td>\n",
       "      <td>NaN</td>\n",
       "      <td>NaN</td>\n",
       "      <td>NaN</td>\n",
       "      <td>NaN</td>\n",
       "      <td>NaN</td>\n",
       "      <td>NaN</td>\n",
       "      <td>NaN</td>\n",
       "    </tr>\n",
       "    <tr>\n",
       "      <th>2</th>\n",
       "      <td>Female</td>\n",
       "      <td>Indigenous</td>\n",
       "      <td>&lt;18</td>\n",
       "      <td>CC</td>\n",
       "      <td>Good Behaviour Bond</td>\n",
       "      <td>NaN</td>\n",
       "      <td>NaN</td>\n",
       "      <td>NaN</td>\n",
       "      <td>NaN</td>\n",
       "      <td>1.0</td>\n",
       "      <td>...</td>\n",
       "      <td>NaN</td>\n",
       "      <td>NaN</td>\n",
       "      <td>NaN</td>\n",
       "      <td>NaN</td>\n",
       "      <td>NaN</td>\n",
       "      <td>NaN</td>\n",
       "      <td>NaN</td>\n",
       "      <td>NaN</td>\n",
       "      <td>NaN</td>\n",
       "      <td>NaN</td>\n",
       "    </tr>\n",
       "    <tr>\n",
       "      <th>3</th>\n",
       "      <td>Female</td>\n",
       "      <td>Indigenous</td>\n",
       "      <td>&lt;18</td>\n",
       "      <td>CC</td>\n",
       "      <td>Imprisonment</td>\n",
       "      <td>NaN</td>\n",
       "      <td>NaN</td>\n",
       "      <td>NaN</td>\n",
       "      <td>NaN</td>\n",
       "      <td>NaN</td>\n",
       "      <td>...</td>\n",
       "      <td>NaN</td>\n",
       "      <td>NaN</td>\n",
       "      <td>NaN</td>\n",
       "      <td>NaN</td>\n",
       "      <td>NaN</td>\n",
       "      <td>NaN</td>\n",
       "      <td>NaN</td>\n",
       "      <td>NaN</td>\n",
       "      <td>NaN</td>\n",
       "      <td>NaN</td>\n",
       "    </tr>\n",
       "    <tr>\n",
       "      <th>4</th>\n",
       "      <td>Female</td>\n",
       "      <td>Indigenous</td>\n",
       "      <td>&lt;18</td>\n",
       "      <td>CC</td>\n",
       "      <td>Intensive Youth Supervision Order</td>\n",
       "      <td>NaN</td>\n",
       "      <td>NaN</td>\n",
       "      <td>NaN</td>\n",
       "      <td>NaN</td>\n",
       "      <td>NaN</td>\n",
       "      <td>...</td>\n",
       "      <td>NaN</td>\n",
       "      <td>NaN</td>\n",
       "      <td>NaN</td>\n",
       "      <td>NaN</td>\n",
       "      <td>NaN</td>\n",
       "      <td>NaN</td>\n",
       "      <td>NaN</td>\n",
       "      <td>NaN</td>\n",
       "      <td>NaN</td>\n",
       "      <td>NaN</td>\n",
       "    </tr>\n",
       "  </tbody>\n",
       "</table>\n",
       "<p>5 rows × 2470 columns</p>\n",
       "</div>"
      ],
      "text/plain": [
       "   Gender        ATSI AgeGroup JurisdictionTypeCode  \\\n",
       "0  Female  Indigenous      <18                   CC   \n",
       "1  Female  Indigenous      <18                   CC   \n",
       "2  Female  Indigenous      <18                   CC   \n",
       "3  Female  Indigenous      <18                   CC   \n",
       "4  Female  Indigenous      <18                   CC   \n",
       "\n",
       "                        SentenceType  1/01/2012  2/01/2012  3/01/2012  \\\n",
       "0              Community Based Order        NaN        NaN        NaN   \n",
       "1                              Fines        NaN        NaN        NaN   \n",
       "2                Good Behaviour Bond        NaN        NaN        NaN   \n",
       "3                       Imprisonment        NaN        NaN        NaN   \n",
       "4  Intensive Youth Supervision Order        NaN        NaN        NaN   \n",
       "\n",
       "   4/01/2012  5/01/2012     ...      21/09/2018  22/09/2018  23/09/2018  \\\n",
       "0        NaN        NaN     ...             NaN         NaN         NaN   \n",
       "1        NaN        NaN     ...             NaN         NaN         NaN   \n",
       "2        NaN        1.0     ...             NaN         NaN         NaN   \n",
       "3        NaN        NaN     ...             NaN         NaN         NaN   \n",
       "4        NaN        NaN     ...             NaN         NaN         NaN   \n",
       "\n",
       "   24/09/2018  25/09/2018  26/09/2018  27/09/2018  28/09/2018  29/09/2018  \\\n",
       "0         NaN         NaN         NaN         NaN         NaN         NaN   \n",
       "1         NaN         NaN         NaN         NaN         NaN         NaN   \n",
       "2         NaN         NaN         NaN         NaN         NaN         NaN   \n",
       "3         NaN         NaN         NaN         NaN         NaN         NaN   \n",
       "4         NaN         NaN         NaN         NaN         NaN         NaN   \n",
       "\n",
       "   30/09/2018  \n",
       "0         NaN  \n",
       "1         NaN  \n",
       "2         NaN  \n",
       "3         NaN  \n",
       "4         NaN  \n",
       "\n",
       "[5 rows x 2470 columns]"
      ]
     },
     "execution_count": 68,
     "metadata": {},
     "output_type": "execute_result"
    }
   ],
   "source": [
    "dfB.head()"
   ]
  },
  {
   "cell_type": "code",
   "execution_count": 69,
   "metadata": {},
   "outputs": [
    {
     "data": {
      "text/plain": [
       "(1145, 2470)"
      ]
     },
     "execution_count": 69,
     "metadata": {},
     "output_type": "execute_result"
    }
   ],
   "source": [
    "dfB.shape"
   ]
  },
  {
   "cell_type": "code",
   "execution_count": 70,
   "metadata": {},
   "outputs": [],
   "source": [
    "# Use the Melt function to massage DataFrame function where on or more columns\n",
    "# are identifier variables ('id_vars'), while all other columns, considered measured\n",
    "# variables ('value_vars')\n",
    "dfB2 = pd.melt(dfB, id_vars=[\"Gender\", \"ATSI\", \"AgeGroup\", \"JurisdictionTypeCode\", \"SentenceType\"],\n",
    "             var_name=\"Date\", value_name=\"Counts\")"
   ]
  },
  {
   "cell_type": "code",
   "execution_count": 71,
   "metadata": {},
   "outputs": [],
   "source": [
    "#Hierarchical Indexing\n",
    "#PDA Chap 8\n",
    "data = pd.Series(np.random.randn(9),\n",
    "                index=[['a', 'a','a','b','b','c','c','d','d'],\n",
    "                [1, 2, 3, 1, 3, 1, 2, 2, 3]])"
   ]
  },
  {
   "cell_type": "code",
   "execution_count": 72,
   "metadata": {},
   "outputs": [],
   "source": [
    "#loc"
   ]
  },
  {
   "cell_type": "code",
   "execution_count": 73,
   "metadata": {},
   "outputs": [
    {
     "data": {
      "text/plain": [
       "a   -0.176657\n",
       "b   -1.443132\n",
       "c    0.621962\n",
       "dtype: float64"
      ]
     },
     "execution_count": 73,
     "metadata": {},
     "output_type": "execute_result"
    }
   ],
   "source": [
    "data.loc[:,1]"
   ]
  },
  {
   "cell_type": "code",
   "execution_count": 74,
   "metadata": {},
   "outputs": [
    {
     "data": {
      "text/plain": [
       "MultiIndex(levels=[['a', 'b', 'c', 'd'], [1, 2, 3]],\n",
       "           labels=[[0, 0, 0, 1, 1, 2, 2, 3, 3], [0, 1, 2, 0, 2, 0, 1, 1, 2]])"
      ]
     },
     "execution_count": 74,
     "metadata": {},
     "output_type": "execute_result"
    }
   ],
   "source": [
    "data.index"
   ]
  },
  {
   "cell_type": "code",
   "execution_count": 75,
   "metadata": {},
   "outputs": [
    {
     "data": {
      "text/plain": [
       "1   -1.443132\n",
       "3   -0.234263\n",
       "dtype: float64"
      ]
     },
     "execution_count": 75,
     "metadata": {},
     "output_type": "execute_result"
    }
   ],
   "source": [
    "data['b']"
   ]
  },
  {
   "cell_type": "markdown",
   "metadata": {},
   "source": [
    "## Data Selection (Slicing)"
   ]
  },
  {
   "cell_type": "code",
   "execution_count": 76,
   "metadata": {},
   "outputs": [
    {
     "data": {
      "text/html": [
       "<div>\n",
       "<style scoped>\n",
       "    .dataframe tbody tr th:only-of-type {\n",
       "        vertical-align: middle;\n",
       "    }\n",
       "\n",
       "    .dataframe tbody tr th {\n",
       "        vertical-align: top;\n",
       "    }\n",
       "\n",
       "    .dataframe thead th {\n",
       "        text-align: right;\n",
       "    }\n",
       "</style>\n",
       "<table border=\"1\" class=\"dataframe\">\n",
       "  <thead>\n",
       "    <tr style=\"text-align: right;\">\n",
       "      <th></th>\n",
       "      <th>Gender</th>\n",
       "      <th>ATSI</th>\n",
       "      <th>AgeGroup</th>\n",
       "      <th>JurisdictionTypeCode</th>\n",
       "      <th>SentenceType</th>\n",
       "      <th>Date</th>\n",
       "      <th>Counts</th>\n",
       "    </tr>\n",
       "  </thead>\n",
       "  <tbody>\n",
       "    <tr>\n",
       "      <th>0</th>\n",
       "      <td>Female</td>\n",
       "      <td>Indigenous</td>\n",
       "      <td>&lt;18</td>\n",
       "      <td>CC</td>\n",
       "      <td>Community Based Order</td>\n",
       "      <td>1/01/2012</td>\n",
       "      <td>NaN</td>\n",
       "    </tr>\n",
       "    <tr>\n",
       "      <th>1</th>\n",
       "      <td>Female</td>\n",
       "      <td>Indigenous</td>\n",
       "      <td>&lt;18</td>\n",
       "      <td>CC</td>\n",
       "      <td>Fines</td>\n",
       "      <td>1/01/2012</td>\n",
       "      <td>NaN</td>\n",
       "    </tr>\n",
       "    <tr>\n",
       "      <th>2</th>\n",
       "      <td>Female</td>\n",
       "      <td>Indigenous</td>\n",
       "      <td>&lt;18</td>\n",
       "      <td>CC</td>\n",
       "      <td>Good Behaviour Bond</td>\n",
       "      <td>1/01/2012</td>\n",
       "      <td>NaN</td>\n",
       "    </tr>\n",
       "    <tr>\n",
       "      <th>3</th>\n",
       "      <td>Female</td>\n",
       "      <td>Indigenous</td>\n",
       "      <td>&lt;18</td>\n",
       "      <td>CC</td>\n",
       "      <td>Imprisonment</td>\n",
       "      <td>1/01/2012</td>\n",
       "      <td>NaN</td>\n",
       "    </tr>\n",
       "    <tr>\n",
       "      <th>4</th>\n",
       "      <td>Female</td>\n",
       "      <td>Indigenous</td>\n",
       "      <td>&lt;18</td>\n",
       "      <td>CC</td>\n",
       "      <td>Intensive Youth Supervision Order</td>\n",
       "      <td>1/01/2012</td>\n",
       "      <td>NaN</td>\n",
       "    </tr>\n",
       "  </tbody>\n",
       "</table>\n",
       "</div>"
      ],
      "text/plain": [
       "   Gender        ATSI AgeGroup JurisdictionTypeCode  \\\n",
       "0  Female  Indigenous      <18                   CC   \n",
       "1  Female  Indigenous      <18                   CC   \n",
       "2  Female  Indigenous      <18                   CC   \n",
       "3  Female  Indigenous      <18                   CC   \n",
       "4  Female  Indigenous      <18                   CC   \n",
       "\n",
       "                        SentenceType       Date  Counts  \n",
       "0              Community Based Order  1/01/2012     NaN  \n",
       "1                              Fines  1/01/2012     NaN  \n",
       "2                Good Behaviour Bond  1/01/2012     NaN  \n",
       "3                       Imprisonment  1/01/2012     NaN  \n",
       "4  Intensive Youth Supervision Order  1/01/2012     NaN  "
      ]
     },
     "execution_count": 76,
     "metadata": {},
     "output_type": "execute_result"
    }
   ],
   "source": [
    "dfB2.head()"
   ]
  },
  {
   "cell_type": "code",
   "execution_count": 77,
   "metadata": {},
   "outputs": [
    {
     "data": {
      "text/html": [
       "<div>\n",
       "<style scoped>\n",
       "    .dataframe tbody tr th:only-of-type {\n",
       "        vertical-align: middle;\n",
       "    }\n",
       "\n",
       "    .dataframe tbody tr th {\n",
       "        vertical-align: top;\n",
       "    }\n",
       "\n",
       "    .dataframe thead th {\n",
       "        text-align: right;\n",
       "    }\n",
       "</style>\n",
       "<table border=\"1\" class=\"dataframe\">\n",
       "  <thead>\n",
       "    <tr style=\"text-align: right;\">\n",
       "      <th></th>\n",
       "      <th>Gender</th>\n",
       "      <th>ATSI</th>\n",
       "      <th>AgeGroup</th>\n",
       "      <th>JurisdictionTypeCode</th>\n",
       "      <th>SentenceType</th>\n",
       "      <th>Date</th>\n",
       "      <th>Counts</th>\n",
       "    </tr>\n",
       "  </thead>\n",
       "  <tbody>\n",
       "    <tr>\n",
       "      <th>0</th>\n",
       "      <td>Female</td>\n",
       "      <td>Indigenous</td>\n",
       "      <td>&lt;18</td>\n",
       "      <td>CC</td>\n",
       "      <td>Community Based Order</td>\n",
       "      <td>1/01/2012</td>\n",
       "      <td>NaN</td>\n",
       "    </tr>\n",
       "    <tr>\n",
       "      <th>4</th>\n",
       "      <td>Female</td>\n",
       "      <td>Indigenous</td>\n",
       "      <td>&lt;18</td>\n",
       "      <td>CC</td>\n",
       "      <td>Intensive Youth Supervision Order</td>\n",
       "      <td>1/01/2012</td>\n",
       "      <td>NaN</td>\n",
       "    </tr>\n",
       "  </tbody>\n",
       "</table>\n",
       "</div>"
      ],
      "text/plain": [
       "   Gender        ATSI AgeGroup JurisdictionTypeCode  \\\n",
       "0  Female  Indigenous      <18                   CC   \n",
       "4  Female  Indigenous      <18                   CC   \n",
       "\n",
       "                        SentenceType       Date  Counts  \n",
       "0              Community Based Order  1/01/2012     NaN  \n",
       "4  Intensive Youth Supervision Order  1/01/2012     NaN  "
      ]
     },
     "execution_count": 77,
     "metadata": {},
     "output_type": "execute_result"
    }
   ],
   "source": [
    "# Selecting slices of a DataFrame\n",
    "# Use loc to select a rows by using the index\n",
    "# Example select the first and fifth row\n",
    "dfB2.loc[[0, 4]]"
   ]
  },
  {
   "cell_type": "code",
   "execution_count": 78,
   "metadata": {},
   "outputs": [
    {
     "data": {
      "text/html": [
       "<div>\n",
       "<style scoped>\n",
       "    .dataframe tbody tr th:only-of-type {\n",
       "        vertical-align: middle;\n",
       "    }\n",
       "\n",
       "    .dataframe tbody tr th {\n",
       "        vertical-align: top;\n",
       "    }\n",
       "\n",
       "    .dataframe thead th {\n",
       "        text-align: right;\n",
       "    }\n",
       "</style>\n",
       "<table border=\"1\" class=\"dataframe\">\n",
       "  <thead>\n",
       "    <tr style=\"text-align: right;\">\n",
       "      <th></th>\n",
       "      <th>Gender</th>\n",
       "      <th>ATSI</th>\n",
       "      <th>AgeGroup</th>\n",
       "      <th>JurisdictionTypeCode</th>\n",
       "      <th>SentenceType</th>\n",
       "      <th>Date</th>\n",
       "      <th>Counts</th>\n",
       "    </tr>\n",
       "  </thead>\n",
       "  <tbody>\n",
       "    <tr>\n",
       "      <th>2</th>\n",
       "      <td>Female</td>\n",
       "      <td>Indigenous</td>\n",
       "      <td>&lt;18</td>\n",
       "      <td>CC</td>\n",
       "      <td>Good Behaviour Bond</td>\n",
       "      <td>1/01/2012</td>\n",
       "      <td>NaN</td>\n",
       "    </tr>\n",
       "    <tr>\n",
       "      <th>3</th>\n",
       "      <td>Female</td>\n",
       "      <td>Indigenous</td>\n",
       "      <td>&lt;18</td>\n",
       "      <td>CC</td>\n",
       "      <td>Imprisonment</td>\n",
       "      <td>1/01/2012</td>\n",
       "      <td>NaN</td>\n",
       "    </tr>\n",
       "  </tbody>\n",
       "</table>\n",
       "</div>"
      ],
      "text/plain": [
       "   Gender        ATSI AgeGroup JurisdictionTypeCode         SentenceType  \\\n",
       "2  Female  Indigenous      <18                   CC  Good Behaviour Bond   \n",
       "3  Female  Indigenous      <18                   CC         Imprisonment   \n",
       "\n",
       "        Date  Counts  \n",
       "2  1/01/2012     NaN  \n",
       "3  1/01/2012     NaN  "
      ]
     },
     "execution_count": 78,
     "metadata": {},
     "output_type": "execute_result"
    }
   ],
   "source": [
    "# You can also use iloc and use the Integer location\n",
    "# Example select the third row up to but not including the fifth\n",
    "dfB2.iloc[2:4]"
   ]
  },
  {
   "cell_type": "code",
   "execution_count": 79,
   "metadata": {},
   "outputs": [
    {
     "data": {
      "text/plain": [
       "Gender                  231710\n",
       "ATSI                    207060\n",
       "AgeGroup                234175\n",
       "JurisdictionTypeCode    234175\n",
       "SentenceType            234175\n",
       "Date                    234175\n",
       "Counts                    2657\n",
       "dtype: int64"
      ]
     },
     "execution_count": 79,
     "metadata": {},
     "output_type": "execute_result"
    }
   ],
   "source": [
    "# Select the rows where the 'SentenceType' is 'Imprisonment' and get a count of populated column values\n",
    "dfB2.loc[dfB2['SentenceType'] == 'Conditional Suspended Imprisonment'].count()"
   ]
  },
  {
   "cell_type": "code",
   "execution_count": 80,
   "metadata": {},
   "outputs": [
    {
     "data": {
      "text/html": [
       "<div>\n",
       "<style scoped>\n",
       "    .dataframe tbody tr th:only-of-type {\n",
       "        vertical-align: middle;\n",
       "    }\n",
       "\n",
       "    .dataframe tbody tr th {\n",
       "        vertical-align: top;\n",
       "    }\n",
       "\n",
       "    .dataframe thead th {\n",
       "        text-align: right;\n",
       "    }\n",
       "</style>\n",
       "<table border=\"1\" class=\"dataframe\">\n",
       "  <thead>\n",
       "    <tr style=\"text-align: right;\">\n",
       "      <th></th>\n",
       "      <th>Gender</th>\n",
       "      <th>ATSI</th>\n",
       "      <th>AgeGroup</th>\n",
       "      <th>JurisdictionTypeCode</th>\n",
       "      <th>SentenceType</th>\n",
       "      <th>Date</th>\n",
       "      <th>Counts</th>\n",
       "    </tr>\n",
       "  </thead>\n",
       "  <tbody>\n",
       "    <tr>\n",
       "      <th>1</th>\n",
       "      <td>Female</td>\n",
       "      <td>Indigenous</td>\n",
       "      <td>&lt;18</td>\n",
       "      <td>CC</td>\n",
       "      <td>Fines</td>\n",
       "      <td>1/01/2012</td>\n",
       "      <td>NaN</td>\n",
       "    </tr>\n",
       "    <tr>\n",
       "      <th>9</th>\n",
       "      <td>Female</td>\n",
       "      <td>Indigenous</td>\n",
       "      <td>&lt;18</td>\n",
       "      <td>MC</td>\n",
       "      <td>Fines</td>\n",
       "      <td>1/01/2012</td>\n",
       "      <td>NaN</td>\n",
       "    </tr>\n",
       "    <tr>\n",
       "      <th>14</th>\n",
       "      <td>Female</td>\n",
       "      <td>Indigenous</td>\n",
       "      <td>18-20</td>\n",
       "      <td>CC</td>\n",
       "      <td>Fines</td>\n",
       "      <td>1/01/2012</td>\n",
       "      <td>NaN</td>\n",
       "    </tr>\n",
       "    <tr>\n",
       "      <th>23</th>\n",
       "      <td>Female</td>\n",
       "      <td>Indigenous</td>\n",
       "      <td>18-20</td>\n",
       "      <td>DC</td>\n",
       "      <td>Fines</td>\n",
       "      <td>1/01/2012</td>\n",
       "      <td>NaN</td>\n",
       "    </tr>\n",
       "    <tr>\n",
       "      <th>30</th>\n",
       "      <td>Female</td>\n",
       "      <td>Indigenous</td>\n",
       "      <td>18-20</td>\n",
       "      <td>MC</td>\n",
       "      <td>Fines</td>\n",
       "      <td>1/01/2012</td>\n",
       "      <td>NaN</td>\n",
       "    </tr>\n",
       "  </tbody>\n",
       "</table>\n",
       "</div>"
      ],
      "text/plain": [
       "    Gender        ATSI AgeGroup JurisdictionTypeCode SentenceType       Date  \\\n",
       "1   Female  Indigenous      <18                   CC        Fines  1/01/2012   \n",
       "9   Female  Indigenous      <18                   MC        Fines  1/01/2012   \n",
       "14  Female  Indigenous    18-20                   CC        Fines  1/01/2012   \n",
       "23  Female  Indigenous    18-20                   DC        Fines  1/01/2012   \n",
       "30  Female  Indigenous    18-20                   MC        Fines  1/01/2012   \n",
       "\n",
       "    Counts  \n",
       "1      NaN  \n",
       "9      NaN  \n",
       "14     NaN  \n",
       "23     NaN  \n",
       "30     NaN  "
      ]
     },
     "execution_count": 80,
     "metadata": {},
     "output_type": "execute_result"
    }
   ],
   "source": [
    "# Select all the data in the DataFrame where the Sentence Type is 'Fines'\n",
    "dfB2[dfB2['SentenceType'] == 'Fines'].head()"
   ]
  },
  {
   "cell_type": "code",
   "execution_count": 81,
   "metadata": {},
   "outputs": [],
   "source": [
    "# Create a boolean variable in a series where 'True' indicates if the Sentence Type is Fines\n",
    "mask1 = dfB2['SentenceType'] == 'Fines'"
   ]
  },
  {
   "cell_type": "code",
   "execution_count": 82,
   "metadata": {},
   "outputs": [
    {
     "data": {
      "text/html": [
       "<div>\n",
       "<style scoped>\n",
       "    .dataframe tbody tr th:only-of-type {\n",
       "        vertical-align: middle;\n",
       "    }\n",
       "\n",
       "    .dataframe tbody tr th {\n",
       "        vertical-align: top;\n",
       "    }\n",
       "\n",
       "    .dataframe thead th {\n",
       "        text-align: right;\n",
       "    }\n",
       "</style>\n",
       "<table border=\"1\" class=\"dataframe\">\n",
       "  <thead>\n",
       "    <tr style=\"text-align: right;\">\n",
       "      <th></th>\n",
       "      <th>Gender</th>\n",
       "      <th>ATSI</th>\n",
       "      <th>AgeGroup</th>\n",
       "      <th>JurisdictionTypeCode</th>\n",
       "      <th>SentenceType</th>\n",
       "      <th>Date</th>\n",
       "      <th>Counts</th>\n",
       "    </tr>\n",
       "  </thead>\n",
       "  <tbody>\n",
       "    <tr>\n",
       "      <th>1</th>\n",
       "      <td>Female</td>\n",
       "      <td>Indigenous</td>\n",
       "      <td>&lt;18</td>\n",
       "      <td>CC</td>\n",
       "      <td>Fines</td>\n",
       "      <td>1/01/2012</td>\n",
       "      <td>NaN</td>\n",
       "    </tr>\n",
       "    <tr>\n",
       "      <th>9</th>\n",
       "      <td>Female</td>\n",
       "      <td>Indigenous</td>\n",
       "      <td>&lt;18</td>\n",
       "      <td>MC</td>\n",
       "      <td>Fines</td>\n",
       "      <td>1/01/2012</td>\n",
       "      <td>NaN</td>\n",
       "    </tr>\n",
       "    <tr>\n",
       "      <th>14</th>\n",
       "      <td>Female</td>\n",
       "      <td>Indigenous</td>\n",
       "      <td>18-20</td>\n",
       "      <td>CC</td>\n",
       "      <td>Fines</td>\n",
       "      <td>1/01/2012</td>\n",
       "      <td>NaN</td>\n",
       "    </tr>\n",
       "    <tr>\n",
       "      <th>23</th>\n",
       "      <td>Female</td>\n",
       "      <td>Indigenous</td>\n",
       "      <td>18-20</td>\n",
       "      <td>DC</td>\n",
       "      <td>Fines</td>\n",
       "      <td>1/01/2012</td>\n",
       "      <td>NaN</td>\n",
       "    </tr>\n",
       "    <tr>\n",
       "      <th>30</th>\n",
       "      <td>Female</td>\n",
       "      <td>Indigenous</td>\n",
       "      <td>18-20</td>\n",
       "      <td>MC</td>\n",
       "      <td>Fines</td>\n",
       "      <td>1/01/2012</td>\n",
       "      <td>NaN</td>\n",
       "    </tr>\n",
       "  </tbody>\n",
       "</table>\n",
       "</div>"
      ],
      "text/plain": [
       "    Gender        ATSI AgeGroup JurisdictionTypeCode SentenceType       Date  \\\n",
       "1   Female  Indigenous      <18                   CC        Fines  1/01/2012   \n",
       "9   Female  Indigenous      <18                   MC        Fines  1/01/2012   \n",
       "14  Female  Indigenous    18-20                   CC        Fines  1/01/2012   \n",
       "23  Female  Indigenous    18-20                   DC        Fines  1/01/2012   \n",
       "30  Female  Indigenous    18-20                   MC        Fines  1/01/2012   \n",
       "\n",
       "    Counts  \n",
       "1      NaN  \n",
       "9      NaN  \n",
       "14     NaN  \n",
       "23     NaN  \n",
       "30     NaN  "
      ]
     },
     "execution_count": 82,
     "metadata": {},
     "output_type": "execute_result"
    }
   ],
   "source": [
    "# Note this is the same as df2[df2['SentenceType'] == 'Fines']\n",
    "dfB2[mask1].head()"
   ]
  },
  {
   "cell_type": "code",
   "execution_count": 83,
   "metadata": {},
   "outputs": [
    {
     "data": {
      "text/html": [
       "<div>\n",
       "<style scoped>\n",
       "    .dataframe tbody tr th:only-of-type {\n",
       "        vertical-align: middle;\n",
       "    }\n",
       "\n",
       "    .dataframe tbody tr th {\n",
       "        vertical-align: top;\n",
       "    }\n",
       "\n",
       "    .dataframe thead th {\n",
       "        text-align: right;\n",
       "    }\n",
       "</style>\n",
       "<table border=\"1\" class=\"dataframe\">\n",
       "  <thead>\n",
       "    <tr style=\"text-align: right;\">\n",
       "      <th></th>\n",
       "      <th>Gender</th>\n",
       "      <th>ATSI</th>\n",
       "      <th>AgeGroup</th>\n",
       "      <th>JurisdictionTypeCode</th>\n",
       "      <th>SentenceType</th>\n",
       "      <th>Date</th>\n",
       "      <th>Counts</th>\n",
       "    </tr>\n",
       "  </thead>\n",
       "  <tbody>\n",
       "    <tr>\n",
       "      <th>1</th>\n",
       "      <td>Female</td>\n",
       "      <td>Indigenous</td>\n",
       "      <td>&lt;18</td>\n",
       "      <td>CC</td>\n",
       "      <td>Fines</td>\n",
       "      <td>1/01/2012</td>\n",
       "      <td>NaN</td>\n",
       "    </tr>\n",
       "    <tr>\n",
       "      <th>9</th>\n",
       "      <td>Female</td>\n",
       "      <td>Indigenous</td>\n",
       "      <td>&lt;18</td>\n",
       "      <td>MC</td>\n",
       "      <td>Fines</td>\n",
       "      <td>1/01/2012</td>\n",
       "      <td>NaN</td>\n",
       "    </tr>\n",
       "    <tr>\n",
       "      <th>14</th>\n",
       "      <td>Female</td>\n",
       "      <td>Indigenous</td>\n",
       "      <td>18-20</td>\n",
       "      <td>CC</td>\n",
       "      <td>Fines</td>\n",
       "      <td>1/01/2012</td>\n",
       "      <td>NaN</td>\n",
       "    </tr>\n",
       "    <tr>\n",
       "      <th>23</th>\n",
       "      <td>Female</td>\n",
       "      <td>Indigenous</td>\n",
       "      <td>18-20</td>\n",
       "      <td>DC</td>\n",
       "      <td>Fines</td>\n",
       "      <td>1/01/2012</td>\n",
       "      <td>NaN</td>\n",
       "    </tr>\n",
       "    <tr>\n",
       "      <th>30</th>\n",
       "      <td>Female</td>\n",
       "      <td>Indigenous</td>\n",
       "      <td>18-20</td>\n",
       "      <td>MC</td>\n",
       "      <td>Fines</td>\n",
       "      <td>1/01/2012</td>\n",
       "      <td>NaN</td>\n",
       "    </tr>\n",
       "  </tbody>\n",
       "</table>\n",
       "</div>"
      ],
      "text/plain": [
       "    Gender        ATSI AgeGroup JurisdictionTypeCode SentenceType       Date  \\\n",
       "1   Female  Indigenous      <18                   CC        Fines  1/01/2012   \n",
       "9   Female  Indigenous      <18                   MC        Fines  1/01/2012   \n",
       "14  Female  Indigenous    18-20                   CC        Fines  1/01/2012   \n",
       "23  Female  Indigenous    18-20                   DC        Fines  1/01/2012   \n",
       "30  Female  Indigenous    18-20                   MC        Fines  1/01/2012   \n",
       "\n",
       "    Counts  \n",
       "1      NaN  \n",
       "9      NaN  \n",
       "14     NaN  \n",
       "23     NaN  \n",
       "30     NaN  "
      ]
     },
     "execution_count": 83,
     "metadata": {},
     "output_type": "execute_result"
    }
   ],
   "source": [
    "# This is another way of getting the same result\n",
    "dfB2.loc[dfB2['SentenceType'] == 'Fines'].head()"
   ]
  },
  {
   "cell_type": "code",
   "execution_count": 84,
   "metadata": {},
   "outputs": [
    {
     "data": {
      "text/html": [
       "<div>\n",
       "<style scoped>\n",
       "    .dataframe tbody tr th:only-of-type {\n",
       "        vertical-align: middle;\n",
       "    }\n",
       "\n",
       "    .dataframe tbody tr th {\n",
       "        vertical-align: top;\n",
       "    }\n",
       "\n",
       "    .dataframe thead th {\n",
       "        text-align: right;\n",
       "    }\n",
       "</style>\n",
       "<table border=\"1\" class=\"dataframe\">\n",
       "  <thead>\n",
       "    <tr style=\"text-align: right;\">\n",
       "      <th></th>\n",
       "      <th>Gender</th>\n",
       "      <th>ATSI</th>\n",
       "      <th>AgeGroup</th>\n",
       "      <th>JurisdictionTypeCode</th>\n",
       "      <th>SentenceType</th>\n",
       "      <th>Date</th>\n",
       "      <th>Counts</th>\n",
       "    </tr>\n",
       "  </thead>\n",
       "  <tbody>\n",
       "    <tr>\n",
       "      <th>13</th>\n",
       "      <td>Female</td>\n",
       "      <td>Indigenous</td>\n",
       "      <td>18-20</td>\n",
       "      <td>CC</td>\n",
       "      <td>Conditional Suspended Imprisonment</td>\n",
       "      <td>1/01/2012</td>\n",
       "      <td>NaN</td>\n",
       "    </tr>\n",
       "    <tr>\n",
       "      <th>22</th>\n",
       "      <td>Female</td>\n",
       "      <td>Indigenous</td>\n",
       "      <td>18-20</td>\n",
       "      <td>DC</td>\n",
       "      <td>Conditional Suspended Imprisonment</td>\n",
       "      <td>1/01/2012</td>\n",
       "      <td>NaN</td>\n",
       "    </tr>\n",
       "    <tr>\n",
       "      <th>29</th>\n",
       "      <td>Female</td>\n",
       "      <td>Indigenous</td>\n",
       "      <td>18-20</td>\n",
       "      <td>MC</td>\n",
       "      <td>Conditional Suspended Imprisonment</td>\n",
       "      <td>1/01/2012</td>\n",
       "      <td>NaN</td>\n",
       "    </tr>\n",
       "    <tr>\n",
       "      <th>37</th>\n",
       "      <td>Female</td>\n",
       "      <td>Indigenous</td>\n",
       "      <td>18-20</td>\n",
       "      <td>SC</td>\n",
       "      <td>Conditional Suspended Imprisonment</td>\n",
       "      <td>1/01/2012</td>\n",
       "      <td>NaN</td>\n",
       "    </tr>\n",
       "    <tr>\n",
       "      <th>46</th>\n",
       "      <td>Female</td>\n",
       "      <td>Indigenous</td>\n",
       "      <td>21-30</td>\n",
       "      <td>DC</td>\n",
       "      <td>Conditional Suspended Imprisonment</td>\n",
       "      <td>1/01/2012</td>\n",
       "      <td>NaN</td>\n",
       "    </tr>\n",
       "  </tbody>\n",
       "</table>\n",
       "</div>"
      ],
      "text/plain": [
       "    Gender        ATSI AgeGroup JurisdictionTypeCode  \\\n",
       "13  Female  Indigenous    18-20                   CC   \n",
       "22  Female  Indigenous    18-20                   DC   \n",
       "29  Female  Indigenous    18-20                   MC   \n",
       "37  Female  Indigenous    18-20                   SC   \n",
       "46  Female  Indigenous    21-30                   DC   \n",
       "\n",
       "                          SentenceType       Date  Counts  \n",
       "13  Conditional Suspended Imprisonment  1/01/2012     NaN  \n",
       "22  Conditional Suspended Imprisonment  1/01/2012     NaN  \n",
       "29  Conditional Suspended Imprisonment  1/01/2012     NaN  \n",
       "37  Conditional Suspended Imprisonment  1/01/2012     NaN  \n",
       "46  Conditional Suspended Imprisonment  1/01/2012     NaN  "
      ]
     },
     "execution_count": 84,
     "metadata": {},
     "output_type": "execute_result"
    }
   ],
   "source": [
    "# I want to filter on Sentence Type 'Conditional Suspended Imprisonment' and 'Fines'\n",
    "dfB2['SentenceType'] == 'Conditional Suspended Imprisonment'\n",
    "# This brings back all the filtered CSIOs\n",
    "dfB2[dfB2['SentenceType'] == 'Conditional Suspended Imprisonment']\n",
    "# The .loc function appears to need a boolean condition\n",
    "dfB2.loc[dfB2['SentenceType'] == 'Conditional Suspended Imprisonment'].head()"
   ]
  },
  {
   "cell_type": "code",
   "execution_count": 85,
   "metadata": {},
   "outputs": [
    {
     "data": {
      "text/html": [
       "<div>\n",
       "<style scoped>\n",
       "    .dataframe tbody tr th:only-of-type {\n",
       "        vertical-align: middle;\n",
       "    }\n",
       "\n",
       "    .dataframe tbody tr th {\n",
       "        vertical-align: top;\n",
       "    }\n",
       "\n",
       "    .dataframe thead th {\n",
       "        text-align: right;\n",
       "    }\n",
       "</style>\n",
       "<table border=\"1\" class=\"dataframe\">\n",
       "  <thead>\n",
       "    <tr style=\"text-align: right;\">\n",
       "      <th></th>\n",
       "      <th>Gender</th>\n",
       "      <th>ATSI</th>\n",
       "      <th>AgeGroup</th>\n",
       "      <th>JurisdictionTypeCode</th>\n",
       "      <th>SentenceType</th>\n",
       "      <th>Date</th>\n",
       "      <th>Counts</th>\n",
       "    </tr>\n",
       "  </thead>\n",
       "  <tbody>\n",
       "    <tr>\n",
       "      <th>1</th>\n",
       "      <td>Female</td>\n",
       "      <td>Indigenous</td>\n",
       "      <td>&lt;18</td>\n",
       "      <td>CC</td>\n",
       "      <td>Fines</td>\n",
       "      <td>1/01/2012</td>\n",
       "      <td>NaN</td>\n",
       "    </tr>\n",
       "    <tr>\n",
       "      <th>9</th>\n",
       "      <td>Female</td>\n",
       "      <td>Indigenous</td>\n",
       "      <td>&lt;18</td>\n",
       "      <td>MC</td>\n",
       "      <td>Fines</td>\n",
       "      <td>1/01/2012</td>\n",
       "      <td>NaN</td>\n",
       "    </tr>\n",
       "    <tr>\n",
       "      <th>13</th>\n",
       "      <td>Female</td>\n",
       "      <td>Indigenous</td>\n",
       "      <td>18-20</td>\n",
       "      <td>CC</td>\n",
       "      <td>Conditional Suspended Imprisonment</td>\n",
       "      <td>1/01/2012</td>\n",
       "      <td>NaN</td>\n",
       "    </tr>\n",
       "    <tr>\n",
       "      <th>14</th>\n",
       "      <td>Female</td>\n",
       "      <td>Indigenous</td>\n",
       "      <td>18-20</td>\n",
       "      <td>CC</td>\n",
       "      <td>Fines</td>\n",
       "      <td>1/01/2012</td>\n",
       "      <td>NaN</td>\n",
       "    </tr>\n",
       "    <tr>\n",
       "      <th>22</th>\n",
       "      <td>Female</td>\n",
       "      <td>Indigenous</td>\n",
       "      <td>18-20</td>\n",
       "      <td>DC</td>\n",
       "      <td>Conditional Suspended Imprisonment</td>\n",
       "      <td>1/01/2012</td>\n",
       "      <td>NaN</td>\n",
       "    </tr>\n",
       "  </tbody>\n",
       "</table>\n",
       "</div>"
      ],
      "text/plain": [
       "    Gender        ATSI AgeGroup JurisdictionTypeCode  \\\n",
       "1   Female  Indigenous      <18                   CC   \n",
       "9   Female  Indigenous      <18                   MC   \n",
       "13  Female  Indigenous    18-20                   CC   \n",
       "14  Female  Indigenous    18-20                   CC   \n",
       "22  Female  Indigenous    18-20                   DC   \n",
       "\n",
       "                          SentenceType       Date  Counts  \n",
       "1                                Fines  1/01/2012     NaN  \n",
       "9                                Fines  1/01/2012     NaN  \n",
       "13  Conditional Suspended Imprisonment  1/01/2012     NaN  \n",
       "14                               Fines  1/01/2012     NaN  \n",
       "22  Conditional Suspended Imprisonment  1/01/2012     NaN  "
      ]
     },
     "execution_count": 85,
     "metadata": {},
     "output_type": "execute_result"
    }
   ],
   "source": [
    "dfB2.loc[dfB2.SentenceType == 'Imprisonment']\n",
    "mask2 = (dfB2.SentenceType == 'Conditional Suspended Imprisonment')\n",
    "mask3 = mask1 | mask2;mask3\n",
    "dfB2[mask3]\n",
    "dfB2.loc[mask3].head()"
   ]
  },
  {
   "cell_type": "code",
   "execution_count": 86,
   "metadata": {},
   "outputs": [
    {
     "data": {
      "text/html": [
       "<div>\n",
       "<style scoped>\n",
       "    .dataframe tbody tr th:only-of-type {\n",
       "        vertical-align: middle;\n",
       "    }\n",
       "\n",
       "    .dataframe tbody tr th {\n",
       "        vertical-align: top;\n",
       "    }\n",
       "\n",
       "    .dataframe thead th {\n",
       "        text-align: right;\n",
       "    }\n",
       "</style>\n",
       "<table border=\"1\" class=\"dataframe\">\n",
       "  <thead>\n",
       "    <tr style=\"text-align: right;\">\n",
       "      <th></th>\n",
       "      <th>Gender</th>\n",
       "      <th>ATSI</th>\n",
       "      <th>AgeGroup</th>\n",
       "      <th>JurisdictionTypeCode</th>\n",
       "      <th>SentenceType</th>\n",
       "      <th>Date</th>\n",
       "      <th>Counts</th>\n",
       "    </tr>\n",
       "  </thead>\n",
       "  <tbody>\n",
       "    <tr>\n",
       "      <th>1</th>\n",
       "      <td>Female</td>\n",
       "      <td>Indigenous</td>\n",
       "      <td>&lt;18</td>\n",
       "      <td>CC</td>\n",
       "      <td>Fines</td>\n",
       "      <td>1/01/2012</td>\n",
       "      <td>NaN</td>\n",
       "    </tr>\n",
       "    <tr>\n",
       "      <th>9</th>\n",
       "      <td>Female</td>\n",
       "      <td>Indigenous</td>\n",
       "      <td>&lt;18</td>\n",
       "      <td>MC</td>\n",
       "      <td>Fines</td>\n",
       "      <td>1/01/2012</td>\n",
       "      <td>NaN</td>\n",
       "    </tr>\n",
       "    <tr>\n",
       "      <th>13</th>\n",
       "      <td>Female</td>\n",
       "      <td>Indigenous</td>\n",
       "      <td>18-20</td>\n",
       "      <td>CC</td>\n",
       "      <td>Conditional Suspended Imprisonment</td>\n",
       "      <td>1/01/2012</td>\n",
       "      <td>NaN</td>\n",
       "    </tr>\n",
       "    <tr>\n",
       "      <th>14</th>\n",
       "      <td>Female</td>\n",
       "      <td>Indigenous</td>\n",
       "      <td>18-20</td>\n",
       "      <td>CC</td>\n",
       "      <td>Fines</td>\n",
       "      <td>1/01/2012</td>\n",
       "      <td>NaN</td>\n",
       "    </tr>\n",
       "    <tr>\n",
       "      <th>22</th>\n",
       "      <td>Female</td>\n",
       "      <td>Indigenous</td>\n",
       "      <td>18-20</td>\n",
       "      <td>DC</td>\n",
       "      <td>Conditional Suspended Imprisonment</td>\n",
       "      <td>1/01/2012</td>\n",
       "      <td>NaN</td>\n",
       "    </tr>\n",
       "  </tbody>\n",
       "</table>\n",
       "</div>"
      ],
      "text/plain": [
       "    Gender        ATSI AgeGroup JurisdictionTypeCode  \\\n",
       "1   Female  Indigenous      <18                   CC   \n",
       "9   Female  Indigenous      <18                   MC   \n",
       "13  Female  Indigenous    18-20                   CC   \n",
       "14  Female  Indigenous    18-20                   CC   \n",
       "22  Female  Indigenous    18-20                   DC   \n",
       "\n",
       "                          SentenceType       Date  Counts  \n",
       "1                                Fines  1/01/2012     NaN  \n",
       "9                                Fines  1/01/2012     NaN  \n",
       "13  Conditional Suspended Imprisonment  1/01/2012     NaN  \n",
       "14                               Fines  1/01/2012     NaN  \n",
       "22  Conditional Suspended Imprisonment  1/01/2012     NaN  "
      ]
     },
     "execution_count": 86,
     "metadata": {},
     "output_type": "execute_result"
    }
   ],
   "source": [
    "# This filters the dataset where SentenceType is CSIO or Fines\n",
    "dfB2.loc[(dfB2['SentenceType'] == 'Conditional Suspended Imprisonment') | (dfB2['SentenceType'] == 'Fines')].head()"
   ]
  },
  {
   "cell_type": "code",
   "execution_count": 87,
   "metadata": {},
   "outputs": [],
   "source": [
    "mask4 = (dfB2['SentenceType'] == 'Fines') & (dfB2['Gender'] == 'Female')"
   ]
  },
  {
   "cell_type": "code",
   "execution_count": 88,
   "metadata": {},
   "outputs": [
    {
     "data": {
      "text/html": [
       "<div>\n",
       "<style scoped>\n",
       "    .dataframe tbody tr th:only-of-type {\n",
       "        vertical-align: middle;\n",
       "    }\n",
       "\n",
       "    .dataframe tbody tr th {\n",
       "        vertical-align: top;\n",
       "    }\n",
       "\n",
       "    .dataframe thead th {\n",
       "        text-align: right;\n",
       "    }\n",
       "</style>\n",
       "<table border=\"1\" class=\"dataframe\">\n",
       "  <thead>\n",
       "    <tr style=\"text-align: right;\">\n",
       "      <th></th>\n",
       "      <th>Gender</th>\n",
       "      <th>ATSI</th>\n",
       "      <th>AgeGroup</th>\n",
       "      <th>JurisdictionTypeCode</th>\n",
       "      <th>SentenceType</th>\n",
       "      <th>Date</th>\n",
       "      <th>Counts</th>\n",
       "    </tr>\n",
       "  </thead>\n",
       "  <tbody>\n",
       "    <tr>\n",
       "      <th>1</th>\n",
       "      <td>Female</td>\n",
       "      <td>Indigenous</td>\n",
       "      <td>&lt;18</td>\n",
       "      <td>CC</td>\n",
       "      <td>Fines</td>\n",
       "      <td>1/01/2012</td>\n",
       "      <td>NaN</td>\n",
       "    </tr>\n",
       "    <tr>\n",
       "      <th>9</th>\n",
       "      <td>Female</td>\n",
       "      <td>Indigenous</td>\n",
       "      <td>&lt;18</td>\n",
       "      <td>MC</td>\n",
       "      <td>Fines</td>\n",
       "      <td>1/01/2012</td>\n",
       "      <td>NaN</td>\n",
       "    </tr>\n",
       "    <tr>\n",
       "      <th>14</th>\n",
       "      <td>Female</td>\n",
       "      <td>Indigenous</td>\n",
       "      <td>18-20</td>\n",
       "      <td>CC</td>\n",
       "      <td>Fines</td>\n",
       "      <td>1/01/2012</td>\n",
       "      <td>NaN</td>\n",
       "    </tr>\n",
       "    <tr>\n",
       "      <th>23</th>\n",
       "      <td>Female</td>\n",
       "      <td>Indigenous</td>\n",
       "      <td>18-20</td>\n",
       "      <td>DC</td>\n",
       "      <td>Fines</td>\n",
       "      <td>1/01/2012</td>\n",
       "      <td>NaN</td>\n",
       "    </tr>\n",
       "    <tr>\n",
       "      <th>30</th>\n",
       "      <td>Female</td>\n",
       "      <td>Indigenous</td>\n",
       "      <td>18-20</td>\n",
       "      <td>MC</td>\n",
       "      <td>Fines</td>\n",
       "      <td>1/01/2012</td>\n",
       "      <td>NaN</td>\n",
       "    </tr>\n",
       "  </tbody>\n",
       "</table>\n",
       "</div>"
      ],
      "text/plain": [
       "    Gender        ATSI AgeGroup JurisdictionTypeCode SentenceType       Date  \\\n",
       "1   Female  Indigenous      <18                   CC        Fines  1/01/2012   \n",
       "9   Female  Indigenous      <18                   MC        Fines  1/01/2012   \n",
       "14  Female  Indigenous    18-20                   CC        Fines  1/01/2012   \n",
       "23  Female  Indigenous    18-20                   DC        Fines  1/01/2012   \n",
       "30  Female  Indigenous    18-20                   MC        Fines  1/01/2012   \n",
       "\n",
       "    Counts  \n",
       "1      NaN  \n",
       "9      NaN  \n",
       "14     NaN  \n",
       "23     NaN  \n",
       "30     NaN  "
      ]
     },
     "execution_count": 88,
     "metadata": {},
     "output_type": "execute_result"
    }
   ],
   "source": [
    "dfB2.loc[mask4].head()"
   ]
  },
  {
   "cell_type": "code",
   "execution_count": 89,
   "metadata": {},
   "outputs": [
    {
     "data": {
      "text/html": [
       "<div>\n",
       "<style scoped>\n",
       "    .dataframe tbody tr th:only-of-type {\n",
       "        vertical-align: middle;\n",
       "    }\n",
       "\n",
       "    .dataframe tbody tr th {\n",
       "        vertical-align: top;\n",
       "    }\n",
       "\n",
       "    .dataframe thead th {\n",
       "        text-align: right;\n",
       "    }\n",
       "</style>\n",
       "<table border=\"1\" class=\"dataframe\">\n",
       "  <thead>\n",
       "    <tr style=\"text-align: right;\">\n",
       "      <th></th>\n",
       "      <th>Gender</th>\n",
       "      <th>ATSI</th>\n",
       "      <th>AgeGroup</th>\n",
       "      <th>JurisdictionTypeCode</th>\n",
       "      <th>SentenceType</th>\n",
       "      <th>Date</th>\n",
       "      <th>Counts</th>\n",
       "    </tr>\n",
       "  </thead>\n",
       "  <tbody>\n",
       "    <tr>\n",
       "      <th>1</th>\n",
       "      <td>Female</td>\n",
       "      <td>Indigenous</td>\n",
       "      <td>&lt;18</td>\n",
       "      <td>CC</td>\n",
       "      <td>Fines</td>\n",
       "      <td>1/01/2012</td>\n",
       "      <td>NaN</td>\n",
       "    </tr>\n",
       "    <tr>\n",
       "      <th>9</th>\n",
       "      <td>Female</td>\n",
       "      <td>Indigenous</td>\n",
       "      <td>&lt;18</td>\n",
       "      <td>MC</td>\n",
       "      <td>Fines</td>\n",
       "      <td>1/01/2012</td>\n",
       "      <td>NaN</td>\n",
       "    </tr>\n",
       "    <tr>\n",
       "      <th>14</th>\n",
       "      <td>Female</td>\n",
       "      <td>Indigenous</td>\n",
       "      <td>18-20</td>\n",
       "      <td>CC</td>\n",
       "      <td>Fines</td>\n",
       "      <td>1/01/2012</td>\n",
       "      <td>NaN</td>\n",
       "    </tr>\n",
       "    <tr>\n",
       "      <th>23</th>\n",
       "      <td>Female</td>\n",
       "      <td>Indigenous</td>\n",
       "      <td>18-20</td>\n",
       "      <td>DC</td>\n",
       "      <td>Fines</td>\n",
       "      <td>1/01/2012</td>\n",
       "      <td>NaN</td>\n",
       "    </tr>\n",
       "    <tr>\n",
       "      <th>30</th>\n",
       "      <td>Female</td>\n",
       "      <td>Indigenous</td>\n",
       "      <td>18-20</td>\n",
       "      <td>MC</td>\n",
       "      <td>Fines</td>\n",
       "      <td>1/01/2012</td>\n",
       "      <td>NaN</td>\n",
       "    </tr>\n",
       "  </tbody>\n",
       "</table>\n",
       "</div>"
      ],
      "text/plain": [
       "    Gender        ATSI AgeGroup JurisdictionTypeCode SentenceType       Date  \\\n",
       "1   Female  Indigenous      <18                   CC        Fines  1/01/2012   \n",
       "9   Female  Indigenous      <18                   MC        Fines  1/01/2012   \n",
       "14  Female  Indigenous    18-20                   CC        Fines  1/01/2012   \n",
       "23  Female  Indigenous    18-20                   DC        Fines  1/01/2012   \n",
       "30  Female  Indigenous    18-20                   MC        Fines  1/01/2012   \n",
       "\n",
       "    Counts  \n",
       "1      NaN  \n",
       "9      NaN  \n",
       "14     NaN  \n",
       "23     NaN  \n",
       "30     NaN  "
      ]
     },
     "execution_count": 89,
     "metadata": {},
     "output_type": "execute_result"
    }
   ],
   "source": [
    "dfB2.loc[(dfB2['SentenceType'] == 'Fines') & (dfB2['Gender'] == 'Female')].head()"
   ]
  },
  {
   "cell_type": "code",
   "execution_count": 90,
   "metadata": {},
   "outputs": [],
   "source": [
    "mask5 = (dfB2['SentenceType'] == 'Conditional Suspended Imprisonment') | (dfB2['SentenceType'] == 'Fines')"
   ]
  },
  {
   "cell_type": "code",
   "execution_count": 91,
   "metadata": {},
   "outputs": [
    {
     "data": {
      "text/html": [
       "<div>\n",
       "<style scoped>\n",
       "    .dataframe tbody tr th:only-of-type {\n",
       "        vertical-align: middle;\n",
       "    }\n",
       "\n",
       "    .dataframe tbody tr th {\n",
       "        vertical-align: top;\n",
       "    }\n",
       "\n",
       "    .dataframe thead th {\n",
       "        text-align: right;\n",
       "    }\n",
       "</style>\n",
       "<table border=\"1\" class=\"dataframe\">\n",
       "  <thead>\n",
       "    <tr style=\"text-align: right;\">\n",
       "      <th></th>\n",
       "      <th>Gender</th>\n",
       "      <th>ATSI</th>\n",
       "      <th>AgeGroup</th>\n",
       "      <th>JurisdictionTypeCode</th>\n",
       "      <th>SentenceType</th>\n",
       "      <th>Date</th>\n",
       "      <th>Counts</th>\n",
       "    </tr>\n",
       "  </thead>\n",
       "  <tbody>\n",
       "    <tr>\n",
       "      <th>1</th>\n",
       "      <td>Female</td>\n",
       "      <td>Indigenous</td>\n",
       "      <td>&lt;18</td>\n",
       "      <td>CC</td>\n",
       "      <td>Fines</td>\n",
       "      <td>1/01/2012</td>\n",
       "      <td>NaN</td>\n",
       "    </tr>\n",
       "    <tr>\n",
       "      <th>9</th>\n",
       "      <td>Female</td>\n",
       "      <td>Indigenous</td>\n",
       "      <td>&lt;18</td>\n",
       "      <td>MC</td>\n",
       "      <td>Fines</td>\n",
       "      <td>1/01/2012</td>\n",
       "      <td>NaN</td>\n",
       "    </tr>\n",
       "    <tr>\n",
       "      <th>13</th>\n",
       "      <td>Female</td>\n",
       "      <td>Indigenous</td>\n",
       "      <td>18-20</td>\n",
       "      <td>CC</td>\n",
       "      <td>Conditional Suspended Imprisonment</td>\n",
       "      <td>1/01/2012</td>\n",
       "      <td>NaN</td>\n",
       "    </tr>\n",
       "    <tr>\n",
       "      <th>14</th>\n",
       "      <td>Female</td>\n",
       "      <td>Indigenous</td>\n",
       "      <td>18-20</td>\n",
       "      <td>CC</td>\n",
       "      <td>Fines</td>\n",
       "      <td>1/01/2012</td>\n",
       "      <td>NaN</td>\n",
       "    </tr>\n",
       "    <tr>\n",
       "      <th>22</th>\n",
       "      <td>Female</td>\n",
       "      <td>Indigenous</td>\n",
       "      <td>18-20</td>\n",
       "      <td>DC</td>\n",
       "      <td>Conditional Suspended Imprisonment</td>\n",
       "      <td>1/01/2012</td>\n",
       "      <td>NaN</td>\n",
       "    </tr>\n",
       "  </tbody>\n",
       "</table>\n",
       "</div>"
      ],
      "text/plain": [
       "    Gender        ATSI AgeGroup JurisdictionTypeCode  \\\n",
       "1   Female  Indigenous      <18                   CC   \n",
       "9   Female  Indigenous      <18                   MC   \n",
       "13  Female  Indigenous    18-20                   CC   \n",
       "14  Female  Indigenous    18-20                   CC   \n",
       "22  Female  Indigenous    18-20                   DC   \n",
       "\n",
       "                          SentenceType       Date  Counts  \n",
       "1                                Fines  1/01/2012     NaN  \n",
       "9                                Fines  1/01/2012     NaN  \n",
       "13  Conditional Suspended Imprisonment  1/01/2012     NaN  \n",
       "14                               Fines  1/01/2012     NaN  \n",
       "22  Conditional Suspended Imprisonment  1/01/2012     NaN  "
      ]
     },
     "execution_count": 91,
     "metadata": {},
     "output_type": "execute_result"
    }
   ],
   "source": [
    "dfB2[mask5]\n",
    "dfB2.loc[mask5]\n",
    "dfB2.loc[(dfB2['SentenceType'] == 'Conditional Suspended Imprisonment') | (dfB2['SentenceType'] == 'Fines')].head()"
   ]
  },
  {
   "cell_type": "code",
   "execution_count": 92,
   "metadata": {},
   "outputs": [
    {
     "data": {
      "text/html": [
       "<div>\n",
       "<style scoped>\n",
       "    .dataframe tbody tr th:only-of-type {\n",
       "        vertical-align: middle;\n",
       "    }\n",
       "\n",
       "    .dataframe tbody tr th {\n",
       "        vertical-align: top;\n",
       "    }\n",
       "\n",
       "    .dataframe thead th {\n",
       "        text-align: right;\n",
       "    }\n",
       "</style>\n",
       "<table border=\"1\" class=\"dataframe\">\n",
       "  <thead>\n",
       "    <tr style=\"text-align: right;\">\n",
       "      <th></th>\n",
       "      <th>Gender</th>\n",
       "      <th>ATSI</th>\n",
       "      <th>AgeGroup</th>\n",
       "      <th>JurisdictionTypeCode</th>\n",
       "      <th>SentenceType</th>\n",
       "      <th>Date</th>\n",
       "      <th>Counts</th>\n",
       "    </tr>\n",
       "  </thead>\n",
       "  <tbody>\n",
       "    <tr>\n",
       "      <th>0</th>\n",
       "      <td>Female</td>\n",
       "      <td>Indigenous</td>\n",
       "      <td>&lt;18</td>\n",
       "      <td>CC</td>\n",
       "      <td>Community Based Order</td>\n",
       "      <td>1/01/2012</td>\n",
       "      <td>NaN</td>\n",
       "    </tr>\n",
       "    <tr>\n",
       "      <th>1</th>\n",
       "      <td>Female</td>\n",
       "      <td>Indigenous</td>\n",
       "      <td>&lt;18</td>\n",
       "      <td>CC</td>\n",
       "      <td>Fines</td>\n",
       "      <td>1/01/2012</td>\n",
       "      <td>NaN</td>\n",
       "    </tr>\n",
       "    <tr>\n",
       "      <th>2</th>\n",
       "      <td>Female</td>\n",
       "      <td>Indigenous</td>\n",
       "      <td>&lt;18</td>\n",
       "      <td>CC</td>\n",
       "      <td>Good Behaviour Bond</td>\n",
       "      <td>1/01/2012</td>\n",
       "      <td>NaN</td>\n",
       "    </tr>\n",
       "    <tr>\n",
       "      <th>3</th>\n",
       "      <td>Female</td>\n",
       "      <td>Indigenous</td>\n",
       "      <td>&lt;18</td>\n",
       "      <td>CC</td>\n",
       "      <td>Imprisonment</td>\n",
       "      <td>1/01/2012</td>\n",
       "      <td>NaN</td>\n",
       "    </tr>\n",
       "    <tr>\n",
       "      <th>4</th>\n",
       "      <td>Female</td>\n",
       "      <td>Indigenous</td>\n",
       "      <td>&lt;18</td>\n",
       "      <td>CC</td>\n",
       "      <td>Intensive Youth Supervision Order</td>\n",
       "      <td>1/01/2012</td>\n",
       "      <td>NaN</td>\n",
       "    </tr>\n",
       "    <tr>\n",
       "      <th>5</th>\n",
       "      <td>Female</td>\n",
       "      <td>Indigenous</td>\n",
       "      <td>&lt;18</td>\n",
       "      <td>CC</td>\n",
       "      <td>Other</td>\n",
       "      <td>1/01/2012</td>\n",
       "      <td>NaN</td>\n",
       "    </tr>\n",
       "    <tr>\n",
       "      <th>6</th>\n",
       "      <td>Female</td>\n",
       "      <td>Indigenous</td>\n",
       "      <td>&lt;18</td>\n",
       "      <td>CC</td>\n",
       "      <td>Youth Community Based Order</td>\n",
       "      <td>1/01/2012</td>\n",
       "      <td>NaN</td>\n",
       "    </tr>\n",
       "    <tr>\n",
       "      <th>7</th>\n",
       "      <td>Female</td>\n",
       "      <td>Indigenous</td>\n",
       "      <td>&lt;18</td>\n",
       "      <td>CC</td>\n",
       "      <td>Youth Conditional Release Order</td>\n",
       "      <td>1/01/2012</td>\n",
       "      <td>NaN</td>\n",
       "    </tr>\n",
       "    <tr>\n",
       "      <th>8</th>\n",
       "      <td>Female</td>\n",
       "      <td>Indigenous</td>\n",
       "      <td>&lt;18</td>\n",
       "      <td>CC</td>\n",
       "      <td>Youth Good Behaviour Bond</td>\n",
       "      <td>1/01/2012</td>\n",
       "      <td>NaN</td>\n",
       "    </tr>\n",
       "    <tr>\n",
       "      <th>9</th>\n",
       "      <td>Female</td>\n",
       "      <td>Indigenous</td>\n",
       "      <td>&lt;18</td>\n",
       "      <td>MC</td>\n",
       "      <td>Fines</td>\n",
       "      <td>1/01/2012</td>\n",
       "      <td>NaN</td>\n",
       "    </tr>\n",
       "  </tbody>\n",
       "</table>\n",
       "</div>"
      ],
      "text/plain": [
       "   Gender        ATSI AgeGroup JurisdictionTypeCode  \\\n",
       "0  Female  Indigenous      <18                   CC   \n",
       "1  Female  Indigenous      <18                   CC   \n",
       "2  Female  Indigenous      <18                   CC   \n",
       "3  Female  Indigenous      <18                   CC   \n",
       "4  Female  Indigenous      <18                   CC   \n",
       "5  Female  Indigenous      <18                   CC   \n",
       "6  Female  Indigenous      <18                   CC   \n",
       "7  Female  Indigenous      <18                   CC   \n",
       "8  Female  Indigenous      <18                   CC   \n",
       "9  Female  Indigenous      <18                   MC   \n",
       "\n",
       "                        SentenceType       Date  Counts  \n",
       "0              Community Based Order  1/01/2012     NaN  \n",
       "1                              Fines  1/01/2012     NaN  \n",
       "2                Good Behaviour Bond  1/01/2012     NaN  \n",
       "3                       Imprisonment  1/01/2012     NaN  \n",
       "4  Intensive Youth Supervision Order  1/01/2012     NaN  \n",
       "5                              Other  1/01/2012     NaN  \n",
       "6        Youth Community Based Order  1/01/2012     NaN  \n",
       "7    Youth Conditional Release Order  1/01/2012     NaN  \n",
       "8          Youth Good Behaviour Bond  1/01/2012     NaN  \n",
       "9                              Fines  1/01/2012     NaN  "
      ]
     },
     "execution_count": 92,
     "metadata": {},
     "output_type": "execute_result"
    }
   ],
   "source": [
    "dfB2.head(10)"
   ]
  },
  {
   "cell_type": "code",
   "execution_count": 93,
   "metadata": {},
   "outputs": [
    {
     "data": {
      "text/html": [
       "<div>\n",
       "<style scoped>\n",
       "    .dataframe tbody tr th:only-of-type {\n",
       "        vertical-align: middle;\n",
       "    }\n",
       "\n",
       "    .dataframe tbody tr th {\n",
       "        vertical-align: top;\n",
       "    }\n",
       "\n",
       "    .dataframe thead th {\n",
       "        text-align: right;\n",
       "    }\n",
       "</style>\n",
       "<table border=\"1\" class=\"dataframe\">\n",
       "  <thead>\n",
       "    <tr style=\"text-align: right;\">\n",
       "      <th></th>\n",
       "      <th>Gender</th>\n",
       "      <th>ATSI</th>\n",
       "      <th>AgeGroup</th>\n",
       "      <th>JurisdictionTypeCode</th>\n",
       "      <th>SentenceType</th>\n",
       "      <th>Date</th>\n",
       "      <th>Counts</th>\n",
       "    </tr>\n",
       "  </thead>\n",
       "  <tbody>\n",
       "    <tr>\n",
       "      <th>0</th>\n",
       "      <td>Female</td>\n",
       "      <td>Indigenous</td>\n",
       "      <td>&lt;18</td>\n",
       "      <td>CC</td>\n",
       "      <td>Community Based Order</td>\n",
       "      <td>1/01/2012</td>\n",
       "      <td>NaN</td>\n",
       "    </tr>\n",
       "    <tr>\n",
       "      <th>224299</th>\n",
       "      <td>Male</td>\n",
       "      <td>Unknown</td>\n",
       "      <td>51-60</td>\n",
       "      <td>DC</td>\n",
       "      <td>Community Based Order</td>\n",
       "      <td>14/07/2012</td>\n",
       "      <td>NaN</td>\n",
       "    </tr>\n",
       "    <tr>\n",
       "      <th>2434627</th>\n",
       "      <td>Female</td>\n",
       "      <td>Non-Indigenous</td>\n",
       "      <td>&gt;60</td>\n",
       "      <td>MC</td>\n",
       "      <td>Community Based Order</td>\n",
       "      <td>27/10/2017</td>\n",
       "      <td>NaN</td>\n",
       "    </tr>\n",
       "    <tr>\n",
       "      <th>1305085</th>\n",
       "      <td>Male</td>\n",
       "      <td>Non-Indigenous</td>\n",
       "      <td>&gt;60</td>\n",
       "      <td>MC</td>\n",
       "      <td>Community Based Order</td>\n",
       "      <td>13/02/2015</td>\n",
       "      <td>NaN</td>\n",
       "    </tr>\n",
       "    <tr>\n",
       "      <th>2028793</th>\n",
       "      <td>Male</td>\n",
       "      <td>Unknown</td>\n",
       "      <td>31-40</td>\n",
       "      <td>MC</td>\n",
       "      <td>Community Based Order</td>\n",
       "      <td>6/11/2016</td>\n",
       "      <td>NaN</td>\n",
       "    </tr>\n",
       "  </tbody>\n",
       "</table>\n",
       "</div>"
      ],
      "text/plain": [
       "         Gender            ATSI AgeGroup JurisdictionTypeCode  \\\n",
       "0        Female      Indigenous      <18                   CC   \n",
       "224299     Male         Unknown    51-60                   DC   \n",
       "2434627  Female  Non-Indigenous      >60                   MC   \n",
       "1305085    Male  Non-Indigenous      >60                   MC   \n",
       "2028793    Male         Unknown    31-40                   MC   \n",
       "\n",
       "                  SentenceType        Date  Counts  \n",
       "0        Community Based Order   1/01/2012     NaN  \n",
       "224299   Community Based Order  14/07/2012     NaN  \n",
       "2434627  Community Based Order  27/10/2017     NaN  \n",
       "1305085  Community Based Order  13/02/2015     NaN  \n",
       "2028793  Community Based Order   6/11/2016     NaN  "
      ]
     },
     "execution_count": 93,
     "metadata": {},
     "output_type": "execute_result"
    }
   ],
   "source": [
    "dfB2.sort_values(['SentenceType'], ascending = True).head()"
   ]
  },
  {
   "cell_type": "code",
   "execution_count": 94,
   "metadata": {},
   "outputs": [
    {
     "data": {
      "text/html": [
       "<div>\n",
       "<style scoped>\n",
       "    .dataframe tbody tr th:only-of-type {\n",
       "        vertical-align: middle;\n",
       "    }\n",
       "\n",
       "    .dataframe tbody tr th {\n",
       "        vertical-align: top;\n",
       "    }\n",
       "\n",
       "    .dataframe thead th {\n",
       "        text-align: right;\n",
       "    }\n",
       "</style>\n",
       "<table border=\"1\" class=\"dataframe\">\n",
       "  <thead>\n",
       "    <tr style=\"text-align: right;\">\n",
       "      <th></th>\n",
       "      <th>Gender</th>\n",
       "      <th>ATSI</th>\n",
       "      <th>AgeGroup</th>\n",
       "      <th>JurisdictionTypeCode</th>\n",
       "      <th>SentenceType</th>\n",
       "      <th>Date</th>\n",
       "      <th>Counts</th>\n",
       "    </tr>\n",
       "  </thead>\n",
       "  <tbody>\n",
       "    <tr>\n",
       "      <th>13</th>\n",
       "      <td>Female</td>\n",
       "      <td>Indigenous</td>\n",
       "      <td>18-20</td>\n",
       "      <td>CC</td>\n",
       "      <td>Conditional Suspended Imprisonment</td>\n",
       "      <td>1/01/2012</td>\n",
       "      <td>NaN</td>\n",
       "    </tr>\n",
       "    <tr>\n",
       "      <th>22</th>\n",
       "      <td>Female</td>\n",
       "      <td>Indigenous</td>\n",
       "      <td>18-20</td>\n",
       "      <td>DC</td>\n",
       "      <td>Conditional Suspended Imprisonment</td>\n",
       "      <td>1/01/2012</td>\n",
       "      <td>NaN</td>\n",
       "    </tr>\n",
       "    <tr>\n",
       "      <th>29</th>\n",
       "      <td>Female</td>\n",
       "      <td>Indigenous</td>\n",
       "      <td>18-20</td>\n",
       "      <td>MC</td>\n",
       "      <td>Conditional Suspended Imprisonment</td>\n",
       "      <td>1/01/2012</td>\n",
       "      <td>NaN</td>\n",
       "    </tr>\n",
       "    <tr>\n",
       "      <th>37</th>\n",
       "      <td>Female</td>\n",
       "      <td>Indigenous</td>\n",
       "      <td>18-20</td>\n",
       "      <td>SC</td>\n",
       "      <td>Conditional Suspended Imprisonment</td>\n",
       "      <td>1/01/2012</td>\n",
       "      <td>NaN</td>\n",
       "    </tr>\n",
       "    <tr>\n",
       "      <th>222</th>\n",
       "      <td>Female</td>\n",
       "      <td>Non-Indigenous</td>\n",
       "      <td>18-20</td>\n",
       "      <td>CC</td>\n",
       "      <td>Conditional Suspended Imprisonment</td>\n",
       "      <td>1/01/2012</td>\n",
       "      <td>NaN</td>\n",
       "    </tr>\n",
       "  </tbody>\n",
       "</table>\n",
       "</div>"
      ],
      "text/plain": [
       "     Gender            ATSI AgeGroup JurisdictionTypeCode  \\\n",
       "13   Female      Indigenous    18-20                   CC   \n",
       "22   Female      Indigenous    18-20                   DC   \n",
       "29   Female      Indigenous    18-20                   MC   \n",
       "37   Female      Indigenous    18-20                   SC   \n",
       "222  Female  Non-Indigenous    18-20                   CC   \n",
       "\n",
       "                           SentenceType       Date  Counts  \n",
       "13   Conditional Suspended Imprisonment  1/01/2012     NaN  \n",
       "22   Conditional Suspended Imprisonment  1/01/2012     NaN  \n",
       "29   Conditional Suspended Imprisonment  1/01/2012     NaN  \n",
       "37   Conditional Suspended Imprisonment  1/01/2012     NaN  \n",
       "222  Conditional Suspended Imprisonment  1/01/2012     NaN  "
      ]
     },
     "execution_count": 94,
     "metadata": {},
     "output_type": "execute_result"
    }
   ],
   "source": [
    "# code below works\n",
    "dfB2['SentenceType'] == 'Conditional Suspended Imprisonment' \n",
    "dfB2['SentenceType'] == 'Fines'\n",
    "(dfB2['SentenceType'] == 'Conditional Suspended Imprisonment') | (dfB2['SentenceType'] == 'Fines') \n",
    "dfB2.loc[(dfB2['SentenceType'] == 'Conditional Suspended Imprisonment') | (dfB2['SentenceType'] == 'Fines')].head()\n",
    "dfB2.loc[(dfB2['SentenceType'] == 'Conditional Suspended Imprisonment') & (dfB2['AgeGroup'] == '18-20')].head()"
   ]
  },
  {
   "cell_type": "code",
   "execution_count": 95,
   "metadata": {},
   "outputs": [
    {
     "data": {
      "text/plain": [
       "Gender                  754290\n",
       "ATSI                    806055\n",
       "AgeGroup                801125\n",
       "JurisdictionTypeCode    806055\n",
       "SentenceType            806055\n",
       "Date                    806055\n",
       "Counts                   51494\n",
       "dtype: int64"
      ]
     },
     "execution_count": 95,
     "metadata": {},
     "output_type": "execute_result"
    }
   ],
   "source": [
    "# Can use a lambda expression and get the same result\n",
    "dfB2.loc[lambda df: df['ATSI'] == 'Indigenous'].count()\n",
    "dfB2.loc[dfB2['ATSI'] == 'Indigenous'].count()"
   ]
  },
  {
   "cell_type": "code",
   "execution_count": 96,
   "metadata": {},
   "outputs": [
    {
     "data": {
      "text/html": [
       "<div>\n",
       "<style scoped>\n",
       "    .dataframe tbody tr th:only-of-type {\n",
       "        vertical-align: middle;\n",
       "    }\n",
       "\n",
       "    .dataframe tbody tr th {\n",
       "        vertical-align: top;\n",
       "    }\n",
       "\n",
       "    .dataframe thead th {\n",
       "        text-align: right;\n",
       "    }\n",
       "</style>\n",
       "<table border=\"1\" class=\"dataframe\">\n",
       "  <thead>\n",
       "    <tr style=\"text-align: right;\">\n",
       "      <th></th>\n",
       "      <th>Gender</th>\n",
       "      <th>ATSI</th>\n",
       "      <th>AgeGroup</th>\n",
       "      <th>JurisdictionTypeCode</th>\n",
       "      <th>SentenceType</th>\n",
       "      <th>Date</th>\n",
       "      <th>Counts</th>\n",
       "    </tr>\n",
       "  </thead>\n",
       "  <tbody>\n",
       "    <tr>\n",
       "      <th>0</th>\n",
       "      <td>Female</td>\n",
       "      <td>Indigenous</td>\n",
       "      <td>&lt;18</td>\n",
       "      <td>CC</td>\n",
       "      <td>Community Based Order</td>\n",
       "      <td>1/01/2012</td>\n",
       "      <td>NaN</td>\n",
       "    </tr>\n",
       "    <tr>\n",
       "      <th>1</th>\n",
       "      <td>Female</td>\n",
       "      <td>Indigenous</td>\n",
       "      <td>&lt;18</td>\n",
       "      <td>CC</td>\n",
       "      <td>Fines</td>\n",
       "      <td>1/01/2012</td>\n",
       "      <td>NaN</td>\n",
       "    </tr>\n",
       "    <tr>\n",
       "      <th>2</th>\n",
       "      <td>Female</td>\n",
       "      <td>Indigenous</td>\n",
       "      <td>&lt;18</td>\n",
       "      <td>CC</td>\n",
       "      <td>Good Behaviour Bond</td>\n",
       "      <td>1/01/2012</td>\n",
       "      <td>NaN</td>\n",
       "    </tr>\n",
       "    <tr>\n",
       "      <th>3</th>\n",
       "      <td>Female</td>\n",
       "      <td>Indigenous</td>\n",
       "      <td>&lt;18</td>\n",
       "      <td>CC</td>\n",
       "      <td>Imprisonment</td>\n",
       "      <td>1/01/2012</td>\n",
       "      <td>NaN</td>\n",
       "    </tr>\n",
       "    <tr>\n",
       "      <th>4</th>\n",
       "      <td>Female</td>\n",
       "      <td>Indigenous</td>\n",
       "      <td>&lt;18</td>\n",
       "      <td>CC</td>\n",
       "      <td>Intensive Youth Supervision Order</td>\n",
       "      <td>1/01/2012</td>\n",
       "      <td>NaN</td>\n",
       "    </tr>\n",
       "  </tbody>\n",
       "</table>\n",
       "</div>"
      ],
      "text/plain": [
       "   Gender        ATSI AgeGroup JurisdictionTypeCode  \\\n",
       "0  Female  Indigenous      <18                   CC   \n",
       "1  Female  Indigenous      <18                   CC   \n",
       "2  Female  Indigenous      <18                   CC   \n",
       "3  Female  Indigenous      <18                   CC   \n",
       "4  Female  Indigenous      <18                   CC   \n",
       "\n",
       "                        SentenceType       Date  Counts  \n",
       "0              Community Based Order  1/01/2012     NaN  \n",
       "1                              Fines  1/01/2012     NaN  \n",
       "2                Good Behaviour Bond  1/01/2012     NaN  \n",
       "3                       Imprisonment  1/01/2012     NaN  \n",
       "4  Intensive Youth Supervision Order  1/01/2012     NaN  "
      ]
     },
     "execution_count": 96,
     "metadata": {},
     "output_type": "execute_result"
    }
   ],
   "source": [
    "dfB2.head()"
   ]
  },
  {
   "cell_type": "markdown",
   "metadata": {},
   "source": [
    "## Change DF Values"
   ]
  },
  {
   "cell_type": "code",
   "execution_count": 97,
   "metadata": {},
   "outputs": [
    {
     "data": {
      "text/html": [
       "<div>\n",
       "<style scoped>\n",
       "    .dataframe tbody tr th:only-of-type {\n",
       "        vertical-align: middle;\n",
       "    }\n",
       "\n",
       "    .dataframe tbody tr th {\n",
       "        vertical-align: top;\n",
       "    }\n",
       "\n",
       "    .dataframe thead th {\n",
       "        text-align: right;\n",
       "    }\n",
       "</style>\n",
       "<table border=\"1\" class=\"dataframe\">\n",
       "  <thead>\n",
       "    <tr style=\"text-align: right;\">\n",
       "      <th></th>\n",
       "      <th>Gender</th>\n",
       "      <th>ATSI</th>\n",
       "      <th>AgeGroup</th>\n",
       "      <th>JurisdictionTypeCode</th>\n",
       "      <th>SentenceType</th>\n",
       "      <th>Date</th>\n",
       "      <th>Counts</th>\n",
       "    </tr>\n",
       "  </thead>\n",
       "  <tbody>\n",
       "    <tr>\n",
       "      <th>0</th>\n",
       "      <td>Female</td>\n",
       "      <td>Indigenous</td>\n",
       "      <td>&lt;18</td>\n",
       "      <td>CC</td>\n",
       "      <td>Foobar</td>\n",
       "      <td>1/01/2012</td>\n",
       "      <td>NaN</td>\n",
       "    </tr>\n",
       "    <tr>\n",
       "      <th>1</th>\n",
       "      <td>Female</td>\n",
       "      <td>Indigenous</td>\n",
       "      <td>&lt;18</td>\n",
       "      <td>CC</td>\n",
       "      <td>Fines</td>\n",
       "      <td>1/01/2012</td>\n",
       "      <td>NaN</td>\n",
       "    </tr>\n",
       "    <tr>\n",
       "      <th>2</th>\n",
       "      <td>Female</td>\n",
       "      <td>Indigenous</td>\n",
       "      <td>&lt;18</td>\n",
       "      <td>CC</td>\n",
       "      <td>Good Behaviour Bond</td>\n",
       "      <td>1/01/2012</td>\n",
       "      <td>NaN</td>\n",
       "    </tr>\n",
       "    <tr>\n",
       "      <th>3</th>\n",
       "      <td>Female</td>\n",
       "      <td>Indigenous</td>\n",
       "      <td>&lt;18</td>\n",
       "      <td>CC</td>\n",
       "      <td>Imprisonment</td>\n",
       "      <td>1/01/2012</td>\n",
       "      <td>NaN</td>\n",
       "    </tr>\n",
       "    <tr>\n",
       "      <th>4</th>\n",
       "      <td>Female</td>\n",
       "      <td>Indigenous</td>\n",
       "      <td>&lt;18</td>\n",
       "      <td>CC</td>\n",
       "      <td>Intensive Youth Supervision Order</td>\n",
       "      <td>1/01/2012</td>\n",
       "      <td>NaN</td>\n",
       "    </tr>\n",
       "  </tbody>\n",
       "</table>\n",
       "</div>"
      ],
      "text/plain": [
       "   Gender        ATSI AgeGroup JurisdictionTypeCode  \\\n",
       "0  Female  Indigenous      <18                   CC   \n",
       "1  Female  Indigenous      <18                   CC   \n",
       "2  Female  Indigenous      <18                   CC   \n",
       "3  Female  Indigenous      <18                   CC   \n",
       "4  Female  Indigenous      <18                   CC   \n",
       "\n",
       "                        SentenceType       Date  Counts  \n",
       "0                             Foobar  1/01/2012     NaN  \n",
       "1                              Fines  1/01/2012     NaN  \n",
       "2                Good Behaviour Bond  1/01/2012     NaN  \n",
       "3                       Imprisonment  1/01/2012     NaN  \n",
       "4  Intensive Youth Supervision Order  1/01/2012     NaN  "
      ]
     },
     "execution_count": 97,
     "metadata": {},
     "output_type": "execute_result"
    }
   ],
   "source": [
    "# Can change the value of a variable in the DF\n",
    "dfB2.loc[[0], 'SentenceType']  = 'Foobar';dfB2.head()"
   ]
  },
  {
   "cell_type": "code",
   "execution_count": 98,
   "metadata": {},
   "outputs": [
    {
     "data": {
      "text/html": [
       "<div>\n",
       "<style scoped>\n",
       "    .dataframe tbody tr th:only-of-type {\n",
       "        vertical-align: middle;\n",
       "    }\n",
       "\n",
       "    .dataframe tbody tr th {\n",
       "        vertical-align: top;\n",
       "    }\n",
       "\n",
       "    .dataframe thead th {\n",
       "        text-align: right;\n",
       "    }\n",
       "</style>\n",
       "<table border=\"1\" class=\"dataframe\">\n",
       "  <thead>\n",
       "    <tr style=\"text-align: right;\">\n",
       "      <th></th>\n",
       "      <th>Gender</th>\n",
       "      <th>ATSI</th>\n",
       "      <th>AgeGroup</th>\n",
       "      <th>JurisdictionTypeCode</th>\n",
       "      <th>SentenceType</th>\n",
       "      <th>Date</th>\n",
       "      <th>Counts</th>\n",
       "    </tr>\n",
       "  </thead>\n",
       "  <tbody>\n",
       "    <tr>\n",
       "      <th>0</th>\n",
       "      <td>Female</td>\n",
       "      <td>Indigenous</td>\n",
       "      <td>&lt;18</td>\n",
       "      <td>JAC</td>\n",
       "      <td>Foobar</td>\n",
       "      <td>1/01/2012</td>\n",
       "      <td>NaN</td>\n",
       "    </tr>\n",
       "    <tr>\n",
       "      <th>1</th>\n",
       "      <td>Female</td>\n",
       "      <td>Indigenous</td>\n",
       "      <td>&lt;18</td>\n",
       "      <td>JAC</td>\n",
       "      <td>Fines</td>\n",
       "      <td>1/01/2012</td>\n",
       "      <td>NaN</td>\n",
       "    </tr>\n",
       "    <tr>\n",
       "      <th>2</th>\n",
       "      <td>Female</td>\n",
       "      <td>Indigenous</td>\n",
       "      <td>&lt;18</td>\n",
       "      <td>JAC</td>\n",
       "      <td>Good Behaviour Bond</td>\n",
       "      <td>1/01/2012</td>\n",
       "      <td>NaN</td>\n",
       "    </tr>\n",
       "    <tr>\n",
       "      <th>3</th>\n",
       "      <td>Female</td>\n",
       "      <td>Indigenous</td>\n",
       "      <td>&lt;18</td>\n",
       "      <td>JAC</td>\n",
       "      <td>Imprisonment</td>\n",
       "      <td>1/01/2012</td>\n",
       "      <td>NaN</td>\n",
       "    </tr>\n",
       "    <tr>\n",
       "      <th>4</th>\n",
       "      <td>Female</td>\n",
       "      <td>Indigenous</td>\n",
       "      <td>&lt;18</td>\n",
       "      <td>JAC</td>\n",
       "      <td>Intensive Youth Supervision Order</td>\n",
       "      <td>1/01/2012</td>\n",
       "      <td>NaN</td>\n",
       "    </tr>\n",
       "  </tbody>\n",
       "</table>\n",
       "</div>"
      ],
      "text/plain": [
       "   Gender        ATSI AgeGroup JurisdictionTypeCode  \\\n",
       "0  Female  Indigenous      <18                  JAC   \n",
       "1  Female  Indigenous      <18                  JAC   \n",
       "2  Female  Indigenous      <18                  JAC   \n",
       "3  Female  Indigenous      <18                  JAC   \n",
       "4  Female  Indigenous      <18                  JAC   \n",
       "\n",
       "                        SentenceType       Date  Counts  \n",
       "0                             Foobar  1/01/2012     NaN  \n",
       "1                              Fines  1/01/2012     NaN  \n",
       "2                Good Behaviour Bond  1/01/2012     NaN  \n",
       "3                       Imprisonment  1/01/2012     NaN  \n",
       "4  Intensive Youth Supervision Order  1/01/2012     NaN  "
      ]
     },
     "execution_count": 98,
     "metadata": {},
     "output_type": "execute_result"
    }
   ],
   "source": [
    "#Can change the value for the entire column\n",
    "dfB2.loc[:, 'JurisdictionTypeCode'] = 'JAC';dfB2.head()"
   ]
  },
  {
   "cell_type": "code",
   "execution_count": 99,
   "metadata": {},
   "outputs": [
    {
     "data": {
      "text/html": [
       "<div>\n",
       "<style scoped>\n",
       "    .dataframe tbody tr th:only-of-type {\n",
       "        vertical-align: middle;\n",
       "    }\n",
       "\n",
       "    .dataframe tbody tr th {\n",
       "        vertical-align: top;\n",
       "    }\n",
       "\n",
       "    .dataframe thead th {\n",
       "        text-align: right;\n",
       "    }\n",
       "</style>\n",
       "<table border=\"1\" class=\"dataframe\">\n",
       "  <thead>\n",
       "    <tr style=\"text-align: right;\">\n",
       "      <th></th>\n",
       "      <th>Gender</th>\n",
       "      <th>ATSI</th>\n",
       "      <th>AgeGroup</th>\n",
       "      <th>JurisdictionTypeCode</th>\n",
       "      <th>SentenceType</th>\n",
       "      <th>Date</th>\n",
       "      <th>Counts</th>\n",
       "    </tr>\n",
       "  </thead>\n",
       "  <tbody>\n",
       "    <tr>\n",
       "      <th>0</th>\n",
       "      <td>Female</td>\n",
       "      <td>Indigenous</td>\n",
       "      <td>&lt;18</td>\n",
       "      <td>JAC</td>\n",
       "      <td>Foobar</td>\n",
       "      <td>1/01/2012</td>\n",
       "      <td>NaN</td>\n",
       "    </tr>\n",
       "    <tr>\n",
       "      <th>1</th>\n",
       "      <td>Female</td>\n",
       "      <td>Indigenous</td>\n",
       "      <td>&lt;18</td>\n",
       "      <td>JAC</td>\n",
       "      <td>Fines</td>\n",
       "      <td>1/01/2012</td>\n",
       "      <td>NaN</td>\n",
       "    </tr>\n",
       "    <tr>\n",
       "      <th>2</th>\n",
       "      <td>Female</td>\n",
       "      <td>Indigenous</td>\n",
       "      <td>&lt;18</td>\n",
       "      <td>JAC</td>\n",
       "      <td>Good Behaviour Bond</td>\n",
       "      <td>1/01/2012</td>\n",
       "      <td>NaN</td>\n",
       "    </tr>\n",
       "    <tr>\n",
       "      <th>3</th>\n",
       "      <td>Female</td>\n",
       "      <td>Indigenous</td>\n",
       "      <td>&lt;18</td>\n",
       "      <td>JAC</td>\n",
       "      <td>Imprisonment</td>\n",
       "      <td>1/01/2012</td>\n",
       "      <td>NaN</td>\n",
       "    </tr>\n",
       "    <tr>\n",
       "      <th>4</th>\n",
       "      <td>Female</td>\n",
       "      <td>Indigenous</td>\n",
       "      <td>&lt;18</td>\n",
       "      <td>JAC</td>\n",
       "      <td>Intensive Youth Supervision Order</td>\n",
       "      <td>1/01/2012</td>\n",
       "      <td>NaN</td>\n",
       "    </tr>\n",
       "  </tbody>\n",
       "</table>\n",
       "</div>"
      ],
      "text/plain": [
       "   Gender        ATSI AgeGroup JurisdictionTypeCode  \\\n",
       "0  Female  Indigenous      <18                  JAC   \n",
       "1  Female  Indigenous      <18                  JAC   \n",
       "2  Female  Indigenous      <18                  JAC   \n",
       "3  Female  Indigenous      <18                  JAC   \n",
       "4  Female  Indigenous      <18                  JAC   \n",
       "\n",
       "                        SentenceType       Date Counts  \n",
       "0                             Foobar  1/01/2012    NaN  \n",
       "1                              Fines  1/01/2012    NaN  \n",
       "2                Good Behaviour Bond  1/01/2012    NaN  \n",
       "3                       Imprisonment  1/01/2012    NaN  \n",
       "4  Intensive Youth Supervision Order  1/01/2012    NaN  "
      ]
     },
     "execution_count": 99,
     "metadata": {},
     "output_type": "execute_result"
    }
   ],
   "source": [
    "# Set values for rows matching a condition\n",
    "dfB2.loc[dfB2['AgeGroup'] == 'Boo'] = 'Test'; dfB2.head()"
   ]
  },
  {
   "cell_type": "markdown",
   "metadata": {},
   "source": [
    "## Datetime Analysis"
   ]
  },
  {
   "cell_type": "markdown",
   "metadata": {},
   "source": [
    "### Date format and datetime conversion"
   ]
  },
  {
   "cell_type": "code",
   "execution_count": 100,
   "metadata": {},
   "outputs": [
    {
     "data": {
      "text/plain": [
       "datetime.datetime(2019, 9, 22, 15, 46, 57, 558942)"
      ]
     },
     "execution_count": 100,
     "metadata": {},
     "output_type": "execute_result"
    }
   ],
   "source": [
    "#Converting between a String and Datetime\n",
    "now = datetime.now()\n",
    "now"
   ]
  },
  {
   "cell_type": "code",
   "execution_count": 101,
   "metadata": {},
   "outputs": [
    {
     "data": {
      "text/plain": [
       "2019"
      ]
     },
     "execution_count": 101,
     "metadata": {},
     "output_type": "execute_result"
    }
   ],
   "source": [
    "now.year"
   ]
  },
  {
   "cell_type": "code",
   "execution_count": 102,
   "metadata": {},
   "outputs": [
    {
     "data": {
      "text/plain": [
       "'2019-09-22'"
      ]
     },
     "execution_count": 102,
     "metadata": {},
     "output_type": "execute_result"
    }
   ],
   "source": [
    "stamp = now\n",
    "str(now)\n",
    "stamp.strftime('%Y-%m-%d')"
   ]
  },
  {
   "cell_type": "markdown",
   "metadata": {},
   "source": [
    "Identify duplicate dates"
   ]
  },
  {
   "cell_type": "code",
   "execution_count": 103,
   "metadata": {},
   "outputs": [
    {
     "data": {
      "text/plain": [
       "'30/09/2018'"
      ]
     },
     "execution_count": 103,
     "metadata": {},
     "output_type": "execute_result"
    }
   ],
   "source": [
    "# Check the format of the Date, picked the last date as easier to distinguish day and month\n",
    "delta1 =dfB2.iloc[-1]['Date']; delta1"
   ]
  },
  {
   "cell_type": "code",
   "execution_count": null,
   "metadata": {},
   "outputs": [],
   "source": []
  },
  {
   "cell_type": "code",
   "execution_count": null,
   "metadata": {},
   "outputs": [],
   "source": []
  },
  {
   "cell_type": "markdown",
   "metadata": {},
   "source": [
    "\n",
    "### Export results to a File"
   ]
  },
  {
   "cell_type": "code",
   "execution_count": 104,
   "metadata": {},
   "outputs": [],
   "source": [
    "# Export result to an Excel file\n",
    "# index = False, disgards the index, True includes it.\n",
    "# When I used a groupby I needed to set index = True to see a value in every column\n",
    "df.to_excel(f'Results/TestResults.xlsx', index = False)"
   ]
  },
  {
   "cell_type": "code",
   "execution_count": 105,
   "metadata": {},
   "outputs": [],
   "source": [
    "df = pd.DataFrame({'date':['6/2/2017','5/23/2017','5/20/2017','6/22/2017','4/21/2017','7/2/2017','5/23/2017','5/20/2017','8/22/2017','2/21/2017'],'rev':[100,200,300,400,500,-70,-250,-200,400,500],'text':['Car','House','Car','Truck','House','Car','House','Car','Truck','House']})"
   ]
  },
  {
   "cell_type": "code",
   "execution_count": 106,
   "metadata": {},
   "outputs": [
    {
     "data": {
      "text/html": [
       "<div>\n",
       "<style scoped>\n",
       "    .dataframe tbody tr th:only-of-type {\n",
       "        vertical-align: middle;\n",
       "    }\n",
       "\n",
       "    .dataframe tbody tr th {\n",
       "        vertical-align: top;\n",
       "    }\n",
       "\n",
       "    .dataframe thead th {\n",
       "        text-align: right;\n",
       "    }\n",
       "</style>\n",
       "<table border=\"1\" class=\"dataframe\">\n",
       "  <thead>\n",
       "    <tr style=\"text-align: right;\">\n",
       "      <th></th>\n",
       "      <th>date</th>\n",
       "      <th>rev</th>\n",
       "      <th>text</th>\n",
       "    </tr>\n",
       "  </thead>\n",
       "  <tbody>\n",
       "    <tr>\n",
       "      <th>0</th>\n",
       "      <td>6/2/2017</td>\n",
       "      <td>100</td>\n",
       "      <td>Car</td>\n",
       "    </tr>\n",
       "    <tr>\n",
       "      <th>1</th>\n",
       "      <td>5/23/2017</td>\n",
       "      <td>200</td>\n",
       "      <td>House</td>\n",
       "    </tr>\n",
       "    <tr>\n",
       "      <th>2</th>\n",
       "      <td>5/20/2017</td>\n",
       "      <td>300</td>\n",
       "      <td>Car</td>\n",
       "    </tr>\n",
       "    <tr>\n",
       "      <th>3</th>\n",
       "      <td>6/22/2017</td>\n",
       "      <td>400</td>\n",
       "      <td>Truck</td>\n",
       "    </tr>\n",
       "    <tr>\n",
       "      <th>4</th>\n",
       "      <td>4/21/2017</td>\n",
       "      <td>500</td>\n",
       "      <td>House</td>\n",
       "    </tr>\n",
       "    <tr>\n",
       "      <th>5</th>\n",
       "      <td>7/2/2017</td>\n",
       "      <td>-70</td>\n",
       "      <td>Car</td>\n",
       "    </tr>\n",
       "    <tr>\n",
       "      <th>6</th>\n",
       "      <td>5/23/2017</td>\n",
       "      <td>-250</td>\n",
       "      <td>House</td>\n",
       "    </tr>\n",
       "    <tr>\n",
       "      <th>7</th>\n",
       "      <td>5/20/2017</td>\n",
       "      <td>-200</td>\n",
       "      <td>Car</td>\n",
       "    </tr>\n",
       "    <tr>\n",
       "      <th>8</th>\n",
       "      <td>8/22/2017</td>\n",
       "      <td>400</td>\n",
       "      <td>Truck</td>\n",
       "    </tr>\n",
       "    <tr>\n",
       "      <th>9</th>\n",
       "      <td>2/21/2017</td>\n",
       "      <td>500</td>\n",
       "      <td>House</td>\n",
       "    </tr>\n",
       "  </tbody>\n",
       "</table>\n",
       "</div>"
      ],
      "text/plain": [
       "        date  rev   text\n",
       "0   6/2/2017  100    Car\n",
       "1  5/23/2017  200  House\n",
       "2  5/20/2017  300    Car\n",
       "3  6/22/2017  400  Truck\n",
       "4  4/21/2017  500  House\n",
       "5   7/2/2017  -70    Car\n",
       "6  5/23/2017 -250  House\n",
       "7  5/20/2017 -200    Car\n",
       "8  8/22/2017  400  Truck\n",
       "9  2/21/2017  500  House"
      ]
     },
     "execution_count": 106,
     "metadata": {},
     "output_type": "execute_result"
    }
   ],
   "source": [
    "df"
   ]
  },
  {
   "cell_type": "code",
   "execution_count": 107,
   "metadata": {},
   "outputs": [],
   "source": [
    "df = pd.DataFrame({'A': {0: 'a', 1: 'b', 2: 'c'},\n",
    "                   'B': {0: 1, 1: 3, 2: 5},\n",
    "                   'C': {0: 2, 1: 4, 2: 6}})"
   ]
  },
  {
   "cell_type": "code",
   "execution_count": 108,
   "metadata": {},
   "outputs": [
    {
     "data": {
      "text/html": [
       "<div>\n",
       "<style scoped>\n",
       "    .dataframe tbody tr th:only-of-type {\n",
       "        vertical-align: middle;\n",
       "    }\n",
       "\n",
       "    .dataframe tbody tr th {\n",
       "        vertical-align: top;\n",
       "    }\n",
       "\n",
       "    .dataframe thead th {\n",
       "        text-align: right;\n",
       "    }\n",
       "</style>\n",
       "<table border=\"1\" class=\"dataframe\">\n",
       "  <thead>\n",
       "    <tr style=\"text-align: right;\">\n",
       "      <th></th>\n",
       "      <th>A</th>\n",
       "      <th>B</th>\n",
       "      <th>C</th>\n",
       "    </tr>\n",
       "  </thead>\n",
       "  <tbody>\n",
       "    <tr>\n",
       "      <th>0</th>\n",
       "      <td>a</td>\n",
       "      <td>1</td>\n",
       "      <td>2</td>\n",
       "    </tr>\n",
       "    <tr>\n",
       "      <th>1</th>\n",
       "      <td>b</td>\n",
       "      <td>3</td>\n",
       "      <td>4</td>\n",
       "    </tr>\n",
       "    <tr>\n",
       "      <th>2</th>\n",
       "      <td>c</td>\n",
       "      <td>5</td>\n",
       "      <td>6</td>\n",
       "    </tr>\n",
       "  </tbody>\n",
       "</table>\n",
       "</div>"
      ],
      "text/plain": [
       "   A  B  C\n",
       "0  a  1  2\n",
       "1  b  3  4\n",
       "2  c  5  6"
      ]
     },
     "metadata": {},
     "output_type": "display_data"
    }
   ],
   "source": [
    "display_all(df)"
   ]
  },
  {
   "cell_type": "code",
   "execution_count": 109,
   "metadata": {},
   "outputs": [],
   "source": [
    "df = pd.DataFrame([[1, 2], [4, 5], [7, 8]],\n",
    "                  index=['cobra', 'viper', 'sidewinder'],\n",
    "                  columns=['max_speed', 'shield'])"
   ]
  },
  {
   "cell_type": "code",
   "execution_count": 110,
   "metadata": {},
   "outputs": [
    {
     "data": {
      "text/html": [
       "<div>\n",
       "<style scoped>\n",
       "    .dataframe tbody tr th:only-of-type {\n",
       "        vertical-align: middle;\n",
       "    }\n",
       "\n",
       "    .dataframe tbody tr th {\n",
       "        vertical-align: top;\n",
       "    }\n",
       "\n",
       "    .dataframe thead th {\n",
       "        text-align: right;\n",
       "    }\n",
       "</style>\n",
       "<table border=\"1\" class=\"dataframe\">\n",
       "  <thead>\n",
       "    <tr style=\"text-align: right;\">\n",
       "      <th></th>\n",
       "      <th>max_speed</th>\n",
       "      <th>shield</th>\n",
       "    </tr>\n",
       "  </thead>\n",
       "  <tbody>\n",
       "    <tr>\n",
       "      <th>cobra</th>\n",
       "      <td>1</td>\n",
       "      <td>2</td>\n",
       "    </tr>\n",
       "    <tr>\n",
       "      <th>viper</th>\n",
       "      <td>4</td>\n",
       "      <td>5</td>\n",
       "    </tr>\n",
       "    <tr>\n",
       "      <th>sidewinder</th>\n",
       "      <td>7</td>\n",
       "      <td>8</td>\n",
       "    </tr>\n",
       "  </tbody>\n",
       "</table>\n",
       "</div>"
      ],
      "text/plain": [
       "            max_speed  shield\n",
       "cobra               1       2\n",
       "viper               4       5\n",
       "sidewinder          7       8"
      ]
     },
     "execution_count": 110,
     "metadata": {},
     "output_type": "execute_result"
    }
   ],
   "source": [
    "df"
   ]
  },
  {
   "cell_type": "code",
   "execution_count": 111,
   "metadata": {},
   "outputs": [
    {
     "data": {
      "text/plain": [
       "max_speed    1\n",
       "shield       2\n",
       "Name: cobra, dtype: int64"
      ]
     },
     "execution_count": 111,
     "metadata": {},
     "output_type": "execute_result"
    }
   ],
   "source": [
    "# to get the column\n",
    "df['shield']\n",
    "# to get the row, must use .loc to get the row\n",
    "df.loc['cobra']"
   ]
  },
  {
   "cell_type": "code",
   "execution_count": 112,
   "metadata": {},
   "outputs": [
    {
     "data": {
      "text/plain": [
       "max_speed    1\n",
       "shield       2\n",
       "Name: cobra, dtype: int64"
      ]
     },
     "execution_count": 112,
     "metadata": {},
     "output_type": "execute_result"
    }
   ],
   "source": [
    "# Can also use integer location\n",
    "df.iloc[0]"
   ]
  },
  {
   "cell_type": "code",
   "execution_count": 113,
   "metadata": {},
   "outputs": [
    {
     "data": {
      "text/html": [
       "<div>\n",
       "<style scoped>\n",
       "    .dataframe tbody tr th:only-of-type {\n",
       "        vertical-align: middle;\n",
       "    }\n",
       "\n",
       "    .dataframe tbody tr th {\n",
       "        vertical-align: top;\n",
       "    }\n",
       "\n",
       "    .dataframe thead th {\n",
       "        text-align: right;\n",
       "    }\n",
       "</style>\n",
       "<table border=\"1\" class=\"dataframe\">\n",
       "  <thead>\n",
       "    <tr style=\"text-align: right;\">\n",
       "      <th></th>\n",
       "      <th>max_speed</th>\n",
       "      <th>shield</th>\n",
       "    </tr>\n",
       "  </thead>\n",
       "  <tbody>\n",
       "    <tr>\n",
       "      <th>cobra</th>\n",
       "      <td>1</td>\n",
       "      <td>2</td>\n",
       "    </tr>\n",
       "    <tr>\n",
       "      <th>viper</th>\n",
       "      <td>4</td>\n",
       "      <td>5</td>\n",
       "    </tr>\n",
       "  </tbody>\n",
       "</table>\n",
       "</div>"
      ],
      "text/plain": [
       "       max_speed  shield\n",
       "cobra          1       2\n",
       "viper          4       5"
      ]
     },
     "execution_count": 113,
     "metadata": {},
     "output_type": "execute_result"
    }
   ],
   "source": [
    "df.loc[['cobra','viper']]"
   ]
  },
  {
   "cell_type": "code",
   "execution_count": 114,
   "metadata": {},
   "outputs": [],
   "source": [
    "import collections"
   ]
  },
  {
   "cell_type": "code",
   "execution_count": 115,
   "metadata": {},
   "outputs": [],
   "source": [
    "collections.Counter??"
   ]
  },
  {
   "cell_type": "markdown",
   "metadata": {},
   "source": [
    "### Plotting"
   ]
  },
  {
   "cell_type": "code",
   "execution_count": 116,
   "metadata": {},
   "outputs": [],
   "source": [
    "# Look at the analysis for penaltyCountJuris_raw Analysis V1"
   ]
  },
  {
   "cell_type": "markdown",
   "metadata": {},
   "source": [
    "### Apply function"
   ]
  },
  {
   "cell_type": "code",
   "execution_count": 117,
   "metadata": {},
   "outputs": [],
   "source": [
    "# Invoke function on values of Series"
   ]
  },
  {
   "cell_type": "code",
   "execution_count": 118,
   "metadata": {},
   "outputs": [],
   "source": [
    "series = pd.Series([20, 21, 22], index =['London', 'New York', 'Helsinki'])"
   ]
  },
  {
   "cell_type": "code",
   "execution_count": 119,
   "metadata": {},
   "outputs": [
    {
     "data": {
      "text/plain": [
       "London      20\n",
       "New York    21\n",
       "Helsinki    22\n",
       "dtype: int64"
      ]
     },
     "execution_count": 119,
     "metadata": {},
     "output_type": "execute_result"
    }
   ],
   "source": [
    "series"
   ]
  },
  {
   "cell_type": "code",
   "execution_count": 120,
   "metadata": {},
   "outputs": [],
   "source": [
    "def square(x):\n",
    "    return x**2"
   ]
  },
  {
   "cell_type": "code",
   "execution_count": 121,
   "metadata": {},
   "outputs": [
    {
     "data": {
      "text/plain": [
       "London      400\n",
       "New York    441\n",
       "Helsinki    484\n",
       "dtype: int64"
      ]
     },
     "execution_count": 121,
     "metadata": {},
     "output_type": "execute_result"
    }
   ],
   "source": [
    "series.apply(square)"
   ]
  },
  {
   "cell_type": "code",
   "execution_count": 122,
   "metadata": {},
   "outputs": [
    {
     "data": {
      "text/plain": [
       "London       8000\n",
       "New York     9261\n",
       "Helsinki    10648\n",
       "dtype: int64"
      ]
     },
     "execution_count": 122,
     "metadata": {},
     "output_type": "execute_result"
    }
   ],
   "source": [
    "# Can also use the anonymous function lambda\n",
    "series.apply(lambda x: x**3)"
   ]
  },
  {
   "cell_type": "code",
   "execution_count": 123,
   "metadata": {},
   "outputs": [],
   "source": [
    "# Can define a custom function that needs additional custom args\n",
    "def subtract_custom_value(x, custom_value):\n",
    "    return x - custom_value"
   ]
  },
  {
   "cell_type": "code",
   "execution_count": 124,
   "metadata": {},
   "outputs": [
    {
     "data": {
      "text/plain": [
       "15"
      ]
     },
     "execution_count": 124,
     "metadata": {},
     "output_type": "execute_result"
    }
   ],
   "source": [
    "subtract_custom_value(20, 5)"
   ]
  },
  {
   "cell_type": "code",
   "execution_count": 125,
   "metadata": {},
   "outputs": [
    {
     "data": {
      "text/plain": [
       "London      20\n",
       "New York    21\n",
       "Helsinki    22\n",
       "dtype: int64"
      ]
     },
     "execution_count": 125,
     "metadata": {},
     "output_type": "execute_result"
    }
   ],
   "source": [
    "series"
   ]
  },
  {
   "cell_type": "code",
   "execution_count": 126,
   "metadata": {},
   "outputs": [
    {
     "data": {
      "text/plain": [
       "London      15\n",
       "New York    16\n",
       "Helsinki    17\n",
       "dtype: int64"
      ]
     },
     "execution_count": 126,
     "metadata": {},
     "output_type": "execute_result"
    }
   ],
   "source": [
    "series.apply(subtract_custom_value, args=(5,))"
   ]
  },
  {
   "cell_type": "code",
   "execution_count": 127,
   "metadata": {},
   "outputs": [],
   "source": [
    "# Define a custom function that takes keyword arguments \n",
    "# and pass these arguments to 'apply'\n",
    "\n",
    "def add_custom_values(x, **kwargs):\n",
    "    for month in kwargs:\n",
    "        x+=kwargs[month]\n",
    "    return x"
   ]
  },
  {
   "cell_type": "code",
   "execution_count": 128,
   "metadata": {},
   "outputs": [
    {
     "data": {
      "text/plain": [
       "London      95\n",
       "New York    96\n",
       "Helsinki    97\n",
       "dtype: int64"
      ]
     },
     "execution_count": 128,
     "metadata": {},
     "output_type": "execute_result"
    }
   ],
   "source": [
    "series.apply(add_custom_values, june=30, july=20, august=25)"
   ]
  },
  {
   "cell_type": "code",
   "execution_count": 129,
   "metadata": {},
   "outputs": [
    {
     "data": {
      "text/plain": [
       "London      2.995732\n",
       "New York    3.044522\n",
       "Helsinki    3.091042\n",
       "dtype: float64"
      ]
     },
     "execution_count": 129,
     "metadata": {},
     "output_type": "execute_result"
    }
   ],
   "source": [
    "# Use a function from the Numpy library\n",
    "series.apply(np.log)"
   ]
  },
  {
   "cell_type": "markdown",
   "metadata": {},
   "source": [
    "### Useful functions"
   ]
  },
  {
   "cell_type": "code",
   "execution_count": 130,
   "metadata": {},
   "outputs": [
    {
     "data": {
      "text/plain": [
       "False"
      ]
     },
     "execution_count": 130,
     "metadata": {},
     "output_type": "execute_result"
    }
   ],
   "source": [
    "# Function 'All'\n",
    "# Returns True if all the elements within a series or along a dataframe\n",
    "# axis are non-zero, not-empty, or not False \n",
    "pd.Series([True, True]).all()\n",
    "pd.Series([True, False]).all()"
   ]
  },
  {
   "cell_type": "code",
   "execution_count": 131,
   "metadata": {},
   "outputs": [
    {
     "data": {
      "text/plain": [
       "True"
      ]
     },
     "execution_count": 131,
     "metadata": {},
     "output_type": "execute_result"
    }
   ],
   "source": [
    "# Function 'Any'\n",
    "# Return whether any element is True over requested axis\n",
    "pd.Series([True, False]).any()"
   ]
  },
  {
   "cell_type": "code",
   "execution_count": 132,
   "metadata": {},
   "outputs": [],
   "source": [
    "# Function 'Append'\n",
    "# Concatenate two or more series\n",
    "s1 = pd.Series([1, 2, 3])\n",
    "s2 = pd.Series([4, 5, 6])\n",
    "s3 = pd.Series([4, 5, 6], index=[3,4,5])"
   ]
  },
  {
   "cell_type": "code",
   "execution_count": 133,
   "metadata": {},
   "outputs": [
    {
     "data": {
      "text/plain": [
       "0    1\n",
       "1    2\n",
       "2    3\n",
       "0    4\n",
       "1    5\n",
       "2    6\n",
       "dtype: int64"
      ]
     },
     "execution_count": 133,
     "metadata": {},
     "output_type": "execute_result"
    }
   ],
   "source": [
    "s1.append(s2)"
   ]
  },
  {
   "cell_type": "code",
   "execution_count": 134,
   "metadata": {},
   "outputs": [
    {
     "data": {
      "text/plain": [
       "0    1\n",
       "1    2\n",
       "2    3\n",
       "3    4\n",
       "4    5\n",
       "5    6\n",
       "dtype: int64"
      ]
     },
     "execution_count": 134,
     "metadata": {},
     "output_type": "execute_result"
    }
   ],
   "source": [
    "s1.append(s3)"
   ]
  },
  {
   "cell_type": "code",
   "execution_count": 135,
   "metadata": {},
   "outputs": [
    {
     "data": {
      "text/plain": [
       "0    1\n",
       "1    2\n",
       "2    3\n",
       "3    4\n",
       "4    5\n",
       "5    6\n",
       "dtype: int64"
      ]
     },
     "execution_count": 135,
     "metadata": {},
     "output_type": "execute_result"
    }
   ],
   "source": [
    "s1.append(s2, ignore_index = True)"
   ]
  },
  {
   "cell_type": "code",
   "execution_count": 136,
   "metadata": {},
   "outputs": [
    {
     "data": {
      "text/html": [
       "<div>\n",
       "<style scoped>\n",
       "    .dataframe tbody tr th:only-of-type {\n",
       "        vertical-align: middle;\n",
       "    }\n",
       "\n",
       "    .dataframe tbody tr th {\n",
       "        vertical-align: top;\n",
       "    }\n",
       "\n",
       "    .dataframe thead th {\n",
       "        text-align: right;\n",
       "    }\n",
       "</style>\n",
       "<table border=\"1\" class=\"dataframe\">\n",
       "  <thead>\n",
       "    <tr style=\"text-align: right;\">\n",
       "      <th></th>\n",
       "      <th>s</th>\n",
       "    </tr>\n",
       "  </thead>\n",
       "  <tbody>\n",
       "    <tr>\n",
       "      <th>2000-01-01 00:00:00</th>\n",
       "      <td>0.0</td>\n",
       "    </tr>\n",
       "    <tr>\n",
       "      <th>2000-01-01 00:01:00</th>\n",
       "      <td>NaN</td>\n",
       "    </tr>\n",
       "    <tr>\n",
       "      <th>2000-01-01 00:02:00</th>\n",
       "      <td>2.0</td>\n",
       "    </tr>\n",
       "    <tr>\n",
       "      <th>2000-01-01 00:03:00</th>\n",
       "      <td>3.0</td>\n",
       "    </tr>\n",
       "  </tbody>\n",
       "</table>\n",
       "</div>"
      ],
      "text/plain": [
       "                       s\n",
       "2000-01-01 00:00:00  0.0\n",
       "2000-01-01 00:01:00  NaN\n",
       "2000-01-01 00:02:00  2.0\n",
       "2000-01-01 00:03:00  3.0"
      ]
     },
     "execution_count": 136,
     "metadata": {},
     "output_type": "execute_result"
    }
   ],
   "source": [
    "# Function 'asfreq' converts time series to a specified frequency\n",
    "index = pd.date_range('1/1/2000', periods=4, freq='T')\n",
    "series = pd.Series([0.0, None, 2.0, 3.0], index=index)\n",
    "df = pd.DataFrame({'s':series});df"
   ]
  },
  {
   "cell_type": "code",
   "execution_count": 137,
   "metadata": {},
   "outputs": [
    {
     "data": {
      "text/html": [
       "<div>\n",
       "<style scoped>\n",
       "    .dataframe tbody tr th:only-of-type {\n",
       "        vertical-align: middle;\n",
       "    }\n",
       "\n",
       "    .dataframe tbody tr th {\n",
       "        vertical-align: top;\n",
       "    }\n",
       "\n",
       "    .dataframe thead th {\n",
       "        text-align: right;\n",
       "    }\n",
       "</style>\n",
       "<table border=\"1\" class=\"dataframe\">\n",
       "  <thead>\n",
       "    <tr style=\"text-align: right;\">\n",
       "      <th></th>\n",
       "      <th>s</th>\n",
       "    </tr>\n",
       "  </thead>\n",
       "  <tbody>\n",
       "    <tr>\n",
       "      <th>2000-01-01 00:00:00</th>\n",
       "      <td>0.0</td>\n",
       "    </tr>\n",
       "    <tr>\n",
       "      <th>2000-01-01 00:00:30</th>\n",
       "      <td>NaN</td>\n",
       "    </tr>\n",
       "    <tr>\n",
       "      <th>2000-01-01 00:01:00</th>\n",
       "      <td>NaN</td>\n",
       "    </tr>\n",
       "    <tr>\n",
       "      <th>2000-01-01 00:01:30</th>\n",
       "      <td>NaN</td>\n",
       "    </tr>\n",
       "    <tr>\n",
       "      <th>2000-01-01 00:02:00</th>\n",
       "      <td>2.0</td>\n",
       "    </tr>\n",
       "    <tr>\n",
       "      <th>2000-01-01 00:02:30</th>\n",
       "      <td>NaN</td>\n",
       "    </tr>\n",
       "    <tr>\n",
       "      <th>2000-01-01 00:03:00</th>\n",
       "      <td>3.0</td>\n",
       "    </tr>\n",
       "  </tbody>\n",
       "</table>\n",
       "</div>"
      ],
      "text/plain": [
       "                       s\n",
       "2000-01-01 00:00:00  0.0\n",
       "2000-01-01 00:00:30  NaN\n",
       "2000-01-01 00:01:00  NaN\n",
       "2000-01-01 00:01:30  NaN\n",
       "2000-01-01 00:02:00  2.0\n",
       "2000-01-01 00:02:30  NaN\n",
       "2000-01-01 00:03:00  3.0"
      ]
     },
     "execution_count": 137,
     "metadata": {},
     "output_type": "execute_result"
    }
   ],
   "source": [
    "# Upsample the series into 30 second bins\n",
    "df.asfreq(freq='30S')"
   ]
  },
  {
   "cell_type": "code",
   "execution_count": 138,
   "metadata": {},
   "outputs": [
    {
     "data": {
      "text/html": [
       "<div>\n",
       "<style scoped>\n",
       "    .dataframe tbody tr th:only-of-type {\n",
       "        vertical-align: middle;\n",
       "    }\n",
       "\n",
       "    .dataframe tbody tr th {\n",
       "        vertical-align: top;\n",
       "    }\n",
       "\n",
       "    .dataframe thead th {\n",
       "        text-align: right;\n",
       "    }\n",
       "</style>\n",
       "<table border=\"1\" class=\"dataframe\">\n",
       "  <thead>\n",
       "    <tr style=\"text-align: right;\">\n",
       "      <th></th>\n",
       "      <th>s</th>\n",
       "    </tr>\n",
       "  </thead>\n",
       "  <tbody>\n",
       "    <tr>\n",
       "      <th>2000-01-01 00:00:00</th>\n",
       "      <td>0.0</td>\n",
       "    </tr>\n",
       "    <tr>\n",
       "      <th>2000-01-01 00:00:30</th>\n",
       "      <td>9.0</td>\n",
       "    </tr>\n",
       "    <tr>\n",
       "      <th>2000-01-01 00:01:00</th>\n",
       "      <td>NaN</td>\n",
       "    </tr>\n",
       "    <tr>\n",
       "      <th>2000-01-01 00:01:30</th>\n",
       "      <td>9.0</td>\n",
       "    </tr>\n",
       "    <tr>\n",
       "      <th>2000-01-01 00:02:00</th>\n",
       "      <td>2.0</td>\n",
       "    </tr>\n",
       "    <tr>\n",
       "      <th>2000-01-01 00:02:30</th>\n",
       "      <td>9.0</td>\n",
       "    </tr>\n",
       "    <tr>\n",
       "      <th>2000-01-01 00:03:00</th>\n",
       "      <td>3.0</td>\n",
       "    </tr>\n",
       "  </tbody>\n",
       "</table>\n",
       "</div>"
      ],
      "text/plain": [
       "                       s\n",
       "2000-01-01 00:00:00  0.0\n",
       "2000-01-01 00:00:30  9.0\n",
       "2000-01-01 00:01:00  NaN\n",
       "2000-01-01 00:01:30  9.0\n",
       "2000-01-01 00:02:00  2.0\n",
       "2000-01-01 00:02:30  9.0\n",
       "2000-01-01 00:03:00  3.0"
      ]
     },
     "execution_count": 138,
     "metadata": {},
     "output_type": "execute_result"
    }
   ],
   "source": [
    "# Upsample and provide a fill value\n",
    "df.asfreq(freq='30S', fill_value=9.0)"
   ]
  },
  {
   "cell_type": "code",
   "execution_count": 139,
   "metadata": {},
   "outputs": [
    {
     "data": {
      "text/html": [
       "<div>\n",
       "<style scoped>\n",
       "    .dataframe tbody tr th:only-of-type {\n",
       "        vertical-align: middle;\n",
       "    }\n",
       "\n",
       "    .dataframe tbody tr th {\n",
       "        vertical-align: top;\n",
       "    }\n",
       "\n",
       "    .dataframe thead th {\n",
       "        text-align: right;\n",
       "    }\n",
       "</style>\n",
       "<table border=\"1\" class=\"dataframe\">\n",
       "  <thead>\n",
       "    <tr style=\"text-align: right;\">\n",
       "      <th></th>\n",
       "      <th>s</th>\n",
       "    </tr>\n",
       "  </thead>\n",
       "  <tbody>\n",
       "    <tr>\n",
       "      <th>2000-01-01 00:00:00</th>\n",
       "      <td>0.0</td>\n",
       "    </tr>\n",
       "    <tr>\n",
       "      <th>2000-01-01 00:00:30</th>\n",
       "      <td>NaN</td>\n",
       "    </tr>\n",
       "    <tr>\n",
       "      <th>2000-01-01 00:01:00</th>\n",
       "      <td>NaN</td>\n",
       "    </tr>\n",
       "    <tr>\n",
       "      <th>2000-01-01 00:01:30</th>\n",
       "      <td>2.0</td>\n",
       "    </tr>\n",
       "    <tr>\n",
       "      <th>2000-01-01 00:02:00</th>\n",
       "      <td>2.0</td>\n",
       "    </tr>\n",
       "    <tr>\n",
       "      <th>2000-01-01 00:02:30</th>\n",
       "      <td>3.0</td>\n",
       "    </tr>\n",
       "    <tr>\n",
       "      <th>2000-01-01 00:03:00</th>\n",
       "      <td>3.0</td>\n",
       "    </tr>\n",
       "  </tbody>\n",
       "</table>\n",
       "</div>"
      ],
      "text/plain": [
       "                       s\n",
       "2000-01-01 00:00:00  0.0\n",
       "2000-01-01 00:00:30  NaN\n",
       "2000-01-01 00:01:00  NaN\n",
       "2000-01-01 00:01:30  2.0\n",
       "2000-01-01 00:02:00  2.0\n",
       "2000-01-01 00:02:30  3.0\n",
       "2000-01-01 00:03:00  3.0"
      ]
     },
     "execution_count": 139,
     "metadata": {},
     "output_type": "execute_result"
    }
   ],
   "source": [
    "# Upsample and provide a method\n",
    "df.asfreq(freq='30S', method='bfill')"
   ]
  },
  {
   "cell_type": "code",
   "execution_count": 140,
   "metadata": {},
   "outputs": [
    {
     "data": {
      "text/plain": [
       "0    1\n",
       "1    2\n",
       "dtype: int64"
      ]
     },
     "execution_count": 140,
     "metadata": {},
     "output_type": "execute_result"
    }
   ],
   "source": [
    "# Function'astype'\n",
    "# Cast a pandas object to a specified data type\n",
    "ser = pd.Series([1, 2], dtype='int32')\n",
    "ser.astype('int64')"
   ]
  },
  {
   "cell_type": "code",
   "execution_count": 141,
   "metadata": {},
   "outputs": [],
   "source": [
    "# Function 'Between\n",
    "# Function returns a boolean vector containing 'True' wherever the corresponding\n",
    "# Series element is between the boundary "
   ]
  },
  {
   "cell_type": "markdown",
   "metadata": {},
   "source": [
    "## Timeseries"
   ]
  },
  {
   "cell_type": "code",
   "execution_count": 142,
   "metadata": {},
   "outputs": [
    {
     "data": {
      "text/plain": [
       "DatetimeIndex(['2011-01-01 00:00:00', '2011-01-01 01:00:00',\n",
       "               '2011-01-01 02:00:00', '2011-01-01 03:00:00',\n",
       "               '2011-01-01 04:00:00'],\n",
       "              dtype='datetime64[ns]', freq='H')"
      ]
     },
     "execution_count": 142,
     "metadata": {},
     "output_type": "execute_result"
    }
   ],
   "source": [
    "# https://pandas.pydata.org/pandas-docs/stable/timeseries.html#overview\n",
    "rng = pd.date_range('1/1/2011', periods=72, freq='H'); rng[:5]"
   ]
  },
  {
   "cell_type": "code",
   "execution_count": 143,
   "metadata": {},
   "outputs": [
    {
     "data": {
      "text/plain": [
       "Timestamp('2012-05-01 00:00:00')"
      ]
     },
     "execution_count": 143,
     "metadata": {},
     "output_type": "execute_result"
    }
   ],
   "source": [
    "# Timestamp example\n",
    "pd.Timestamp(2012, 5, 1)"
   ]
  },
  {
   "cell_type": "code",
   "execution_count": 144,
   "metadata": {},
   "outputs": [
    {
     "data": {
      "text/plain": [
       "0   2009-07-31\n",
       "1   2010-01-10\n",
       "2          NaT\n",
       "dtype: datetime64[ns]"
      ]
     },
     "execution_count": 144,
     "metadata": {},
     "output_type": "execute_result"
    }
   ],
   "source": [
    "# To convert a Series or list-like object of date-like objects \n",
    "# e.g. strings, epochs, or a mixture, you can use the to_datetime function\n",
    "pd.to_datetime(pd.Series(['Jul 31, 2009', '2010-01-10', None]))\n"
   ]
  },
  {
   "cell_type": "code",
   "execution_count": 145,
   "metadata": {},
   "outputs": [
    {
     "data": {
      "text/plain": [
       "DatetimeIndex(['2012-01-04 10:00:00'], dtype='datetime64[ns]', freq=None)"
      ]
     },
     "execution_count": 145,
     "metadata": {},
     "output_type": "execute_result"
    }
   ],
   "source": [
    "# If you use dates which start with the day first (i.e. European style), you can pass the dayfirst flag\n",
    "pd.to_datetime(['04-01-2012 10:00'], dayfirst=True)"
   ]
  },
  {
   "cell_type": "code",
   "execution_count": 146,
   "metadata": {},
   "outputs": [
    {
     "data": {
      "text/plain": [
       "Timestamp('2010-11-12 00:00:00')"
      ]
     },
     "execution_count": 146,
     "metadata": {},
     "output_type": "execute_result"
    }
   ],
   "source": [
    "# In addition to the required datetime string, a format argument can be passed to ensure specific parsing\n",
    "pd.to_datetime('2010/11/12', format='%Y/%m/%d')"
   ]
  },
  {
   "cell_type": "code",
   "execution_count": 147,
   "metadata": {},
   "outputs": [
    {
     "data": {
      "text/plain": [
       "Timestamp('2010-11-12 00:00:00')"
      ]
     },
     "execution_count": 147,
     "metadata": {},
     "output_type": "execute_result"
    }
   ],
   "source": [
    "pd.to_datetime('12-11-2010 00:00', format='%d-%m-%Y %H:%M')"
   ]
  },
  {
   "cell_type": "code",
   "execution_count": 148,
   "metadata": {},
   "outputs": [],
   "source": [
    "df = pd.DataFrame({'year': [2015, 2016],\n",
    "          'month': [2, 3],  \n",
    "           'day': [4, 5],\n",
    "           'hour': [2, 3]})"
   ]
  },
  {
   "cell_type": "code",
   "execution_count": 149,
   "metadata": {},
   "outputs": [
    {
     "data": {
      "text/html": [
       "<div>\n",
       "<style scoped>\n",
       "    .dataframe tbody tr th:only-of-type {\n",
       "        vertical-align: middle;\n",
       "    }\n",
       "\n",
       "    .dataframe tbody tr th {\n",
       "        vertical-align: top;\n",
       "    }\n",
       "\n",
       "    .dataframe thead th {\n",
       "        text-align: right;\n",
       "    }\n",
       "</style>\n",
       "<table border=\"1\" class=\"dataframe\">\n",
       "  <thead>\n",
       "    <tr style=\"text-align: right;\">\n",
       "      <th></th>\n",
       "      <th>day</th>\n",
       "      <th>hour</th>\n",
       "      <th>month</th>\n",
       "      <th>year</th>\n",
       "    </tr>\n",
       "  </thead>\n",
       "  <tbody>\n",
       "    <tr>\n",
       "      <th>0</th>\n",
       "      <td>4</td>\n",
       "      <td>2</td>\n",
       "      <td>2</td>\n",
       "      <td>2015</td>\n",
       "    </tr>\n",
       "    <tr>\n",
       "      <th>1</th>\n",
       "      <td>5</td>\n",
       "      <td>3</td>\n",
       "      <td>3</td>\n",
       "      <td>2016</td>\n",
       "    </tr>\n",
       "  </tbody>\n",
       "</table>\n",
       "</div>"
      ],
      "text/plain": [
       "   day  hour  month  year\n",
       "0    4     2      2  2015\n",
       "1    5     3      3  2016"
      ]
     },
     "execution_count": 149,
     "metadata": {},
     "output_type": "execute_result"
    }
   ],
   "source": [
    "df"
   ]
  },
  {
   "cell_type": "code",
   "execution_count": 150,
   "metadata": {},
   "outputs": [
    {
     "data": {
      "text/plain": [
       "0   2015-02-04 02:00:00\n",
       "1   2016-03-05 03:00:00\n",
       "dtype: datetime64[ns]"
      ]
     },
     "execution_count": 150,
     "metadata": {},
     "output_type": "execute_result"
    }
   ],
   "source": [
    "pd.to_datetime(df)"
   ]
  },
  {
   "cell_type": "code",
   "execution_count": 151,
   "metadata": {},
   "outputs": [],
   "source": [
    "rng = pd.date_range('1/1/2011', periods=72, freq='H')"
   ]
  },
  {
   "cell_type": "code",
   "execution_count": 152,
   "metadata": {},
   "outputs": [
    {
     "data": {
      "text/plain": [
       "DatetimeIndex(['2011-01-01 00:00:00', '2011-01-01 01:00:00',\n",
       "               '2011-01-01 02:00:00', '2011-01-01 03:00:00',\n",
       "               '2011-01-01 04:00:00'],\n",
       "              dtype='datetime64[ns]', freq='H')"
      ]
     },
     "execution_count": 152,
     "metadata": {},
     "output_type": "execute_result"
    }
   ],
   "source": [
    "rng[:5]"
   ]
  },
  {
   "cell_type": "code",
   "execution_count": 153,
   "metadata": {},
   "outputs": [],
   "source": [
    "ts = pd.Series(np.random.randn(len(rng)), index=rng)"
   ]
  },
  {
   "cell_type": "code",
   "execution_count": 154,
   "metadata": {},
   "outputs": [
    {
     "data": {
      "text/plain": [
       "2011-01-01 00:00:00    0.774949\n",
       "2011-01-01 01:00:00    1.021188\n",
       "2011-01-01 02:00:00   -1.518513\n",
       "2011-01-01 03:00:00   -1.194225\n",
       "2011-01-01 04:00:00   -0.785998\n",
       "Freq: H, dtype: float64"
      ]
     },
     "execution_count": 154,
     "metadata": {},
     "output_type": "execute_result"
    }
   ],
   "source": [
    "ts.head()"
   ]
  },
  {
   "cell_type": "code",
   "execution_count": 155,
   "metadata": {},
   "outputs": [],
   "source": [
    "# Change frequency and fill gaps\n",
    "# to 45 minute frequency and forward fill\n",
    "converted = ts.asfreq('45min', method ='pad')"
   ]
  },
  {
   "cell_type": "code",
   "execution_count": 156,
   "metadata": {},
   "outputs": [
    {
     "data": {
      "text/plain": [
       "2011-01-01 00:00:00    0.774949\n",
       "2011-01-01 00:45:00    0.774949\n",
       "2011-01-01 01:30:00    1.021188\n",
       "2011-01-01 02:15:00   -1.518513\n",
       "2011-01-01 03:00:00   -1.194225\n",
       "Freq: 45T, dtype: float64"
      ]
     },
     "execution_count": 156,
     "metadata": {},
     "output_type": "execute_result"
    }
   ],
   "source": [
    "converted.head()"
   ]
  },
  {
   "cell_type": "code",
   "execution_count": 157,
   "metadata": {},
   "outputs": [
    {
     "data": {
      "text/plain": [
       "2011-01-01    0.002202\n",
       "2011-01-02   -0.477317\n",
       "2011-01-03    0.209821\n",
       "Freq: D, dtype: float64"
      ]
     },
     "execution_count": 157,
     "metadata": {},
     "output_type": "execute_result"
    }
   ],
   "source": [
    "# Resample the series to a daily frequency\n",
    "ts.resample('D').mean()"
   ]
  },
  {
   "cell_type": "code",
   "execution_count": 158,
   "metadata": {},
   "outputs": [
    {
     "data": {
      "text/plain": [
       "Timestamp('2012-05-01 00:00:00')"
      ]
     },
     "execution_count": 158,
     "metadata": {},
     "output_type": "execute_result"
    }
   ],
   "source": [
    "pd.Timestamp(datetime(2012, 5, 1))"
   ]
  },
  {
   "cell_type": "code",
   "execution_count": 159,
   "metadata": {},
   "outputs": [
    {
     "data": {
      "text/plain": [
       "Timestamp('2012-05-01 00:00:00')"
      ]
     },
     "execution_count": 159,
     "metadata": {},
     "output_type": "execute_result"
    }
   ],
   "source": [
    "pd.Timestamp('2012-05-01')"
   ]
  },
  {
   "cell_type": "code",
   "execution_count": 160,
   "metadata": {},
   "outputs": [
    {
     "data": {
      "text/plain": [
       "Timestamp('2012-05-01 00:00:00')"
      ]
     },
     "execution_count": 160,
     "metadata": {},
     "output_type": "execute_result"
    }
   ],
   "source": [
    "pd.Timestamp(2012, 5, 1)"
   ]
  },
  {
   "cell_type": "code",
   "execution_count": 161,
   "metadata": {},
   "outputs": [
    {
     "data": {
      "text/plain": [
       "Period('2011-01', 'M')"
      ]
     },
     "execution_count": 161,
     "metadata": {},
     "output_type": "execute_result"
    }
   ],
   "source": [
    "pd.Period('2011-01')"
   ]
  },
  {
   "cell_type": "code",
   "execution_count": 162,
   "metadata": {},
   "outputs": [
    {
     "data": {
      "text/plain": [
       "Period('2012-05-01', 'D')"
      ]
     },
     "execution_count": 162,
     "metadata": {},
     "output_type": "execute_result"
    }
   ],
   "source": [
    "pd.Period('2012-05', freq='D')"
   ]
  },
  {
   "cell_type": "code",
   "execution_count": 163,
   "metadata": {},
   "outputs": [],
   "source": [
    "dates = [pd.Timestamp('2012-05-01'), pd.Timestamp('2012-05-02'), pd.Timestamp('2012-05-03')]"
   ]
  },
  {
   "cell_type": "code",
   "execution_count": 164,
   "metadata": {},
   "outputs": [],
   "source": [
    "ts = pd.Series(np.random.randn(3), dates)"
   ]
  },
  {
   "cell_type": "code",
   "execution_count": 165,
   "metadata": {},
   "outputs": [
    {
     "data": {
      "text/plain": [
       "pandas.core.indexes.datetimes.DatetimeIndex"
      ]
     },
     "execution_count": 165,
     "metadata": {},
     "output_type": "execute_result"
    }
   ],
   "source": [
    "type(ts.index)"
   ]
  },
  {
   "cell_type": "code",
   "execution_count": 166,
   "metadata": {},
   "outputs": [
    {
     "data": {
      "text/plain": [
       "2012-05-01    0.625209\n",
       "2012-05-02    1.216744\n",
       "2012-05-03   -0.215665\n",
       "dtype: float64"
      ]
     },
     "execution_count": 166,
     "metadata": {},
     "output_type": "execute_result"
    }
   ],
   "source": [
    "ts"
   ]
  },
  {
   "cell_type": "code",
   "execution_count": 167,
   "metadata": {},
   "outputs": [],
   "source": [
    "periods = [pd.Period('2012-01'), pd.Period('2012-02'), pd.Period('2012-03')]"
   ]
  },
  {
   "cell_type": "code",
   "execution_count": 168,
   "metadata": {},
   "outputs": [],
   "source": [
    "ts = pd.Series(np.random.randn(3), periods)"
   ]
  },
  {
   "cell_type": "code",
   "execution_count": 169,
   "metadata": {},
   "outputs": [
    {
     "data": {
      "text/plain": [
       "pandas.core.indexes.period.PeriodIndex"
      ]
     },
     "execution_count": 169,
     "metadata": {},
     "output_type": "execute_result"
    }
   ],
   "source": [
    "type(ts.index)"
   ]
  },
  {
   "cell_type": "code",
   "execution_count": 170,
   "metadata": {},
   "outputs": [
    {
     "data": {
      "text/plain": [
       "PeriodIndex(['2012-01', '2012-02', '2012-03'], dtype='period[M]', freq='M')"
      ]
     },
     "execution_count": 170,
     "metadata": {},
     "output_type": "execute_result"
    }
   ],
   "source": [
    "ts.index"
   ]
  },
  {
   "cell_type": "code",
   "execution_count": 171,
   "metadata": {},
   "outputs": [
    {
     "data": {
      "text/plain": [
       "2012-01    0.048760\n",
       "2012-02    0.064506\n",
       "2012-03    0.845663\n",
       "Freq: M, dtype: float64"
      ]
     },
     "execution_count": 171,
     "metadata": {},
     "output_type": "execute_result"
    }
   ],
   "source": [
    "ts"
   ]
  },
  {
   "cell_type": "code",
   "execution_count": 172,
   "metadata": {},
   "outputs": [
    {
     "data": {
      "text/plain": [
       "0   2009-07-31\n",
       "1   2010-01-10\n",
       "2          NaT\n",
       "dtype: datetime64[ns]"
      ]
     },
     "execution_count": 172,
     "metadata": {},
     "output_type": "execute_result"
    }
   ],
   "source": [
    "# To convert a Series or list like object, you can use the to_datetime function\n",
    "pd.to_datetime(pd.Series(['Jul 31, 2009', '2010-01-10', None]))"
   ]
  },
  {
   "cell_type": "code",
   "execution_count": 173,
   "metadata": {},
   "outputs": [
    {
     "data": {
      "text/plain": [
       "DatetimeIndex(['2005-11-23', '2010-12-31'], dtype='datetime64[ns]', freq=None)"
      ]
     },
     "execution_count": 173,
     "metadata": {},
     "output_type": "execute_result"
    }
   ],
   "source": [
    "pd.to_datetime(['2005/11/23', '2010.12.31'])"
   ]
  },
  {
   "cell_type": "code",
   "execution_count": 174,
   "metadata": {},
   "outputs": [
    {
     "data": {
      "text/plain": [
       "DatetimeIndex(['2012-01-04 10:00:00'], dtype='datetime64[ns]', freq=None)"
      ]
     },
     "execution_count": 174,
     "metadata": {},
     "output_type": "execute_result"
    }
   ],
   "source": [
    "# If you use dates which start with the day first (ie European style), you can pass the 'dayfirst' flag\n",
    "pd.to_datetime(['04-01-2012 10:00'], dayfirst=True)"
   ]
  },
  {
   "cell_type": "code",
   "execution_count": 175,
   "metadata": {},
   "outputs": [
    {
     "data": {
      "text/plain": [
       "DatetimeIndex(['2012-01-14', '2012-01-14'], dtype='datetime64[ns]', freq=None)"
      ]
     },
     "execution_count": 175,
     "metadata": {},
     "output_type": "execute_result"
    }
   ],
   "source": [
    "# 'dayfirst' isn't strict, if a date can't be parsed with the day first it will be parsed as if dayfirst were False\n",
    "pd.to_datetime(['14-01-2012', '01-14-2012'], dayfirst=True)"
   ]
  },
  {
   "cell_type": "code",
   "execution_count": 176,
   "metadata": {},
   "outputs": [
    {
     "data": {
      "text/plain": [
       "Timestamp('2010-11-22 00:00:00')"
      ]
     },
     "execution_count": 176,
     "metadata": {},
     "output_type": "execute_result"
    }
   ],
   "source": [
    "# If you pass a single string to_datetime, it returns a single Timestamp\n",
    "pd.to_datetime('2010/11/22')"
   ]
  },
  {
   "cell_type": "code",
   "execution_count": 177,
   "metadata": {},
   "outputs": [
    {
     "data": {
      "text/plain": [
       "Timestamp('2010-11-22 00:00:00')"
      ]
     },
     "execution_count": 177,
     "metadata": {},
     "output_type": "execute_result"
    }
   ],
   "source": [
    "pd.Timestamp('2010/11/22')"
   ]
  },
  {
   "cell_type": "code",
   "execution_count": 178,
   "metadata": {},
   "outputs": [
    {
     "data": {
      "text/plain": [
       "Timestamp('2010-11-12 00:00:00')"
      ]
     },
     "execution_count": 178,
     "metadata": {},
     "output_type": "execute_result"
    }
   ],
   "source": [
    "# In addition a format argument can be passed to ensure specific parsing\n",
    "pd.to_datetime('2010/11/12', format='%Y/%m/%d')"
   ]
  },
  {
   "cell_type": "code",
   "execution_count": 179,
   "metadata": {},
   "outputs": [
    {
     "data": {
      "text/plain": [
       "Timestamp('2010-11-12 00:00:00')"
      ]
     },
     "execution_count": 179,
     "metadata": {},
     "output_type": "execute_result"
    }
   ],
   "source": [
    "pd.to_datetime('12-11-2010 00:00', format='%d-%m-%Y %H:%M')"
   ]
  },
  {
   "cell_type": "code",
   "execution_count": 180,
   "metadata": {},
   "outputs": [],
   "source": [
    "# You can also pass a DataFrame of integer or string columns\n",
    "df = pd.DataFrame({'year': [2015, 2016],\n",
    "                  'month': [2, 3],\n",
    "                   'day': [4, 5],\n",
    "                   'hour': [2, 3]\n",
    "                  })"
   ]
  },
  {
   "cell_type": "code",
   "execution_count": 181,
   "metadata": {},
   "outputs": [
    {
     "data": {
      "text/plain": [
       "0   2015-02-04 02:00:00\n",
       "1   2016-03-05 03:00:00\n",
       "dtype: datetime64[ns]"
      ]
     },
     "execution_count": 181,
     "metadata": {},
     "output_type": "execute_result"
    }
   ],
   "source": [
    "pd.to_datetime(df)"
   ]
  },
  {
   "cell_type": "code",
   "execution_count": 182,
   "metadata": {},
   "outputs": [
    {
     "data": {
      "text/plain": [
       "0   2015-02-04\n",
       "1   2016-03-05\n",
       "dtype: datetime64[ns]"
      ]
     },
     "execution_count": 182,
     "metadata": {},
     "output_type": "execute_result"
    }
   ],
   "source": [
    "pd.to_datetime(df[['year','month','day']])"
   ]
  },
  {
   "cell_type": "code",
   "execution_count": 186,
   "metadata": {},
   "outputs": [],
   "source": [
    "# The default behaviour, errors='raise', is to raise when unparseable\n",
    "# This will raise an error\n",
    "#pd.to_datetime(['2009/07/31', 'asd'], errors='raise')"
   ]
  },
  {
   "cell_type": "code",
   "execution_count": 187,
   "metadata": {},
   "outputs": [
    {
     "data": {
      "text/plain": [
       "array(['2009/07/31', 'asd'], dtype=object)"
      ]
     },
     "execution_count": 187,
     "metadata": {},
     "output_type": "execute_result"
    }
   ],
   "source": [
    "# Pass errors='ignore' to return the original input when unparseable\n",
    "pd.to_datetime(['2009/07/31', 'asd'], errors='ignore')"
   ]
  },
  {
   "cell_type": "code",
   "execution_count": 188,
   "metadata": {},
   "outputs": [
    {
     "data": {
      "text/plain": [
       "DatetimeIndex(['2009-07-31', 'NaT'], dtype='datetime64[ns]', freq=None)"
      ]
     },
     "execution_count": 188,
     "metadata": {},
     "output_type": "execute_result"
    }
   ],
   "source": [
    "# Pass errors='coerce' to convert unparseable data to NaT (not a time)\n",
    "pd.to_datetime(['2009/07/31', 'asd'], errors='coerce')"
   ]
  },
  {
   "cell_type": "code",
   "execution_count": 189,
   "metadata": {},
   "outputs": [
    {
     "data": {
      "text/plain": [
       "DatetimeIndex(['1970-01-01 00:00:01.349720105'], dtype='datetime64[ns]', freq=None)"
      ]
     },
     "execution_count": 189,
     "metadata": {},
     "output_type": "execute_result"
    }
   ],
   "source": [
    "# Epoch Timestamps, pandas supports converting integer or float to Timestamp and DatetimeIndex\n",
    "pd.to_datetime([1349720105])"
   ]
  },
  {
   "cell_type": "code",
   "execution_count": 190,
   "metadata": {},
   "outputs": [
    {
     "data": {
      "text/plain": [
       "DatetimeIndex(['2012-10-08 18:15:05', '2012-10-09 18:15:05',\n",
       "               '2012-10-10 18:15:05', '2012-10-11 18:15:05'],\n",
       "              dtype='datetime64[ns]', freq='D')"
      ]
     },
     "execution_count": 190,
     "metadata": {},
     "output_type": "execute_result"
    }
   ],
   "source": [
    "stamps = pd.date_range('2012-10-08 18:15:05', periods=4, freq='D'); stamps"
   ]
  },
  {
   "cell_type": "code",
   "execution_count": 191,
   "metadata": {},
   "outputs": [
    {
     "data": {
      "text/plain": [
       "Int64Index([1349720105, 1349806505, 1349892905, 1349979305], dtype='int64')"
      ]
     },
     "execution_count": 191,
     "metadata": {},
     "output_type": "execute_result"
    }
   ],
   "source": [
    "# We subtract the epoch (midnight at January 1, 1970 UTC) and then floor divide by the unit (1 second)\n",
    "(stamps - pd.Timestamp(\"1970-01-01\")) // pd.Timedelta('1s')"
   ]
  },
  {
   "cell_type": "code",
   "execution_count": 192,
   "metadata": {},
   "outputs": [
    {
     "data": {
      "text/plain": [
       "DatetimeIndex(['1960-01-02', '1960-01-03', '1960-01-04'], dtype='datetime64[ns]', freq=None)"
      ]
     },
     "execution_count": 192,
     "metadata": {},
     "output_type": "execute_result"
    }
   ],
   "source": [
    "# Using the origin parameter, one can specify an alternative starting point for creation of a DatetimeIndex\n",
    "# For example, to use 1960-01-01 as the starting date\n",
    "pd.to_datetime([1, 2, 3], unit = 'D', origin=pd.Timestamp('1960-01-01'))"
   ]
  },
  {
   "cell_type": "code",
   "execution_count": 193,
   "metadata": {},
   "outputs": [
    {
     "data": {
      "text/plain": [
       "DatetimeIndex(['1970-01-02', '1970-01-03', '1970-01-04'], dtype='datetime64[ns]', freq=None)"
      ]
     },
     "execution_count": 193,
     "metadata": {},
     "output_type": "execute_result"
    }
   ],
   "source": [
    "# Note the default is set at origin='unix', which defaults to 1970-01-01 00:00:00\n",
    "# Commonly called 'unix epoch' or POSIX time\n",
    "pd.to_datetime([1, 2, 3], unit = 'D')"
   ]
  },
  {
   "cell_type": "code",
   "execution_count": 194,
   "metadata": {},
   "outputs": [],
   "source": [
    "dates = [datetime(2012, 5, 1), datetime(2012, 5, 2), datetime(2012, 5, 3)]"
   ]
  },
  {
   "cell_type": "code",
   "execution_count": 195,
   "metadata": {},
   "outputs": [
    {
     "data": {
      "text/plain": [
       "DatetimeIndex(['2012-05-01', '2012-05-02', '2012-05-03'], dtype='datetime64[ns]', freq=None)"
      ]
     },
     "execution_count": 195,
     "metadata": {},
     "output_type": "execute_result"
    }
   ],
   "source": [
    "#Note the frequency information\n",
    "index = pd.DatetimeIndex(dates); index"
   ]
  },
  {
   "cell_type": "code",
   "execution_count": 196,
   "metadata": {},
   "outputs": [
    {
     "data": {
      "text/plain": [
       "DatetimeIndex(['2012-05-01', '2012-05-02', '2012-05-03'], dtype='datetime64[ns]', freq=None)"
      ]
     },
     "execution_count": 196,
     "metadata": {},
     "output_type": "execute_result"
    }
   ],
   "source": [
    "# Automatically converted to DatetimeIndex\n",
    "index = pd.Index(dates); index"
   ]
  },
  {
   "cell_type": "code",
   "execution_count": 197,
   "metadata": {},
   "outputs": [
    {
     "data": {
      "text/plain": [
       "DatetimeIndex(['2011-01-01', '2011-01-02', '2011-01-03', '2011-01-04',\n",
       "               '2011-01-05', '2011-01-06', '2011-01-07', '2011-01-08',\n",
       "               '2011-01-09', '2011-01-10',\n",
       "               ...\n",
       "               '2011-12-23', '2011-12-24', '2011-12-25', '2011-12-26',\n",
       "               '2011-12-27', '2011-12-28', '2011-12-29', '2011-12-30',\n",
       "               '2011-12-31', '2012-01-01'],\n",
       "              dtype='datetime64[ns]', length=366, freq='D')"
      ]
     },
     "execution_count": 197,
     "metadata": {},
     "output_type": "execute_result"
    }
   ],
   "source": [
    "# To generate a long index with a large number of timestamps\n",
    "start = datetime(2011, 1, 1)\n",
    "end = datetime(2012, 1, 1)\n",
    "index = pd.date_range(start, end); index"
   ]
  },
  {
   "cell_type": "code",
   "execution_count": 198,
   "metadata": {},
   "outputs": [
    {
     "data": {
      "text/plain": [
       "DatetimeIndex(['2011-01-03', '2011-01-04', '2011-01-05', '2011-01-06',\n",
       "               '2011-01-07', '2011-01-10', '2011-01-11', '2011-01-12',\n",
       "               '2011-01-13', '2011-01-14',\n",
       "               ...\n",
       "               '2011-12-19', '2011-12-20', '2011-12-21', '2011-12-22',\n",
       "               '2011-12-23', '2011-12-26', '2011-12-27', '2011-12-28',\n",
       "               '2011-12-29', '2011-12-30'],\n",
       "              dtype='datetime64[ns]', length=260, freq='B')"
      ]
     },
     "execution_count": 198,
     "metadata": {},
     "output_type": "execute_result"
    }
   ],
   "source": [
    "# Note bdate is business date\n",
    "index = pd.bdate_range(start, end); index"
   ]
  },
  {
   "cell_type": "code",
   "execution_count": 199,
   "metadata": {},
   "outputs": [
    {
     "data": {
      "text/plain": [
       "DatetimeIndex(['2011-01-31', '2011-02-28', '2011-03-31', '2011-04-30',\n",
       "               '2011-05-31', '2011-06-30', '2011-07-31', '2011-08-31',\n",
       "               '2011-09-30', '2011-10-31',\n",
       "               ...\n",
       "               '2093-07-31', '2093-08-31', '2093-09-30', '2093-10-31',\n",
       "               '2093-11-30', '2093-12-31', '2094-01-31', '2094-02-28',\n",
       "               '2094-03-31', '2094-04-30'],\n",
       "              dtype='datetime64[ns]', length=1000, freq='M')"
      ]
     },
     "execution_count": 199,
     "metadata": {},
     "output_type": "execute_result"
    }
   ],
   "source": [
    "# Convenience functions\n",
    "pd.date_range(start, periods=1000, freq='M')"
   ]
  },
  {
   "cell_type": "code",
   "execution_count": 200,
   "metadata": {},
   "outputs": [
    {
     "data": {
      "text/plain": [
       "DatetimeIndex(['2011-01-03', '2011-04-01', '2011-07-01', '2011-10-03',\n",
       "               '2012-01-02', '2012-04-02', '2012-07-02', '2012-10-01',\n",
       "               '2013-01-01', '2013-04-01',\n",
       "               ...\n",
       "               '2071-01-01', '2071-04-01', '2071-07-01', '2071-10-01',\n",
       "               '2072-01-01', '2072-04-01', '2072-07-01', '2072-10-03',\n",
       "               '2073-01-02', '2073-04-03'],\n",
       "              dtype='datetime64[ns]', length=250, freq='BQS-JAN')"
      ]
     },
     "execution_count": 200,
     "metadata": {},
     "output_type": "execute_result"
    }
   ],
   "source": [
    "# Note bdate is business date\n",
    "# BQS (Business day quarterly start?)\n",
    "pd.bdate_range(start, periods=250, freq='BQS')"
   ]
  },
  {
   "cell_type": "code",
   "execution_count": 201,
   "metadata": {},
   "outputs": [
    {
     "data": {
      "text/plain": [
       "DatetimeIndex(['2011-01-31', '2011-02-28', '2011-03-31', '2011-04-29',\n",
       "               '2011-05-31', '2011-06-30', '2011-07-29', '2011-08-31',\n",
       "               '2011-09-30', '2011-10-31', '2011-11-30', '2011-12-30'],\n",
       "              dtype='datetime64[ns]', freq='BM')"
      ]
     },
     "execution_count": 201,
     "metadata": {},
     "output_type": "execute_result"
    }
   ],
   "source": [
    "pd.date_range(start, end, freq='BM')"
   ]
  },
  {
   "cell_type": "code",
   "execution_count": 202,
   "metadata": {},
   "outputs": [
    {
     "data": {
      "text/plain": [
       "DatetimeIndex(['2011-01-02', '2011-01-09', '2011-01-16', '2011-01-23',\n",
       "               '2011-01-30', '2011-02-06', '2011-02-13', '2011-02-20',\n",
       "               '2011-02-27', '2011-03-06', '2011-03-13', '2011-03-20',\n",
       "               '2011-03-27', '2011-04-03', '2011-04-10', '2011-04-17',\n",
       "               '2011-04-24', '2011-05-01', '2011-05-08', '2011-05-15',\n",
       "               '2011-05-22', '2011-05-29', '2011-06-05', '2011-06-12',\n",
       "               '2011-06-19', '2011-06-26', '2011-07-03', '2011-07-10',\n",
       "               '2011-07-17', '2011-07-24', '2011-07-31', '2011-08-07',\n",
       "               '2011-08-14', '2011-08-21', '2011-08-28', '2011-09-04',\n",
       "               '2011-09-11', '2011-09-18', '2011-09-25', '2011-10-02',\n",
       "               '2011-10-09', '2011-10-16', '2011-10-23', '2011-10-30',\n",
       "               '2011-11-06', '2011-11-13', '2011-11-20', '2011-11-27',\n",
       "               '2011-12-04', '2011-12-11', '2011-12-18', '2011-12-25',\n",
       "               '2012-01-01'],\n",
       "              dtype='datetime64[ns]', freq='W-SUN')"
      ]
     },
     "execution_count": 202,
     "metadata": {},
     "output_type": "execute_result"
    }
   ],
   "source": [
    "pd.date_range(start, end, freq='W')"
   ]
  },
  {
   "cell_type": "code",
   "execution_count": 203,
   "metadata": {},
   "outputs": [
    {
     "data": {
      "text/plain": [
       "DatetimeIndex(['2011-12-05', '2011-12-06', '2011-12-07', '2011-12-08',\n",
       "               '2011-12-09', '2011-12-12', '2011-12-13', '2011-12-14',\n",
       "               '2011-12-15', '2011-12-16', '2011-12-19', '2011-12-20',\n",
       "               '2011-12-21', '2011-12-22', '2011-12-23', '2011-12-26',\n",
       "               '2011-12-27', '2011-12-28', '2011-12-29', '2011-12-30'],\n",
       "              dtype='datetime64[ns]', freq='B')"
      ]
     },
     "execution_count": 203,
     "metadata": {},
     "output_type": "execute_result"
    }
   ],
   "source": [
    "pd.bdate_range(end=end, periods = 20)"
   ]
  },
  {
   "cell_type": "code",
   "execution_count": 204,
   "metadata": {},
   "outputs": [
    {
     "data": {
      "text/plain": [
       "DatetimeIndex(['2011-01-03', '2011-01-04', '2011-01-05', '2011-01-06',\n",
       "               '2011-01-07', '2011-01-10', '2011-01-11', '2011-01-12',\n",
       "               '2011-01-13', '2011-01-14', '2011-01-17', '2011-01-18',\n",
       "               '2011-01-19', '2011-01-20', '2011-01-21', '2011-01-24',\n",
       "               '2011-01-25', '2011-01-26', '2011-01-27', '2011-01-28'],\n",
       "              dtype='datetime64[ns]', freq='B')"
      ]
     },
     "execution_count": 204,
     "metadata": {},
     "output_type": "execute_result"
    }
   ],
   "source": [
    "pd.bdate_range(start=start, periods=20)"
   ]
  },
  {
   "cell_type": "code",
   "execution_count": 211,
   "metadata": {},
   "outputs": [],
   "source": [
    "# Specifying start, end, and periods will generate a range of evenly spaced dates from start to end inclusively\n",
    "#pd.date_range('2018-01-01', '2018-01-05', periods=5)"
   ]
  },
  {
   "cell_type": "code",
   "execution_count": 212,
   "metadata": {},
   "outputs": [],
   "source": [
    "#pd.date_range('2018-01-01', '2018-01-05', periods = 10)"
   ]
  },
  {
   "cell_type": "code",
   "execution_count": 213,
   "metadata": {},
   "outputs": [
    {
     "data": {
      "text/plain": [
       "DatetimeIndex(['2011-01-03', '2011-01-07', '2011-01-10', '2011-01-12',\n",
       "               '2011-01-14', '2011-01-17', '2011-01-19', '2011-01-21',\n",
       "               '2011-01-24', '2011-01-26',\n",
       "               ...\n",
       "               '2011-12-09', '2011-12-12', '2011-12-14', '2011-12-16',\n",
       "               '2011-12-19', '2011-12-21', '2011-12-23', '2011-12-26',\n",
       "               '2011-12-28', '2011-12-30'],\n",
       "              dtype='datetime64[ns]', length=154, freq='C')"
      ]
     },
     "execution_count": 213,
     "metadata": {},
     "output_type": "execute_result"
    }
   ],
   "source": [
    "# Custom frequency ranges\n",
    "weekmask = 'Mon Wed Fri'\n",
    "holidays = [datetime(2011, 1, 5), datetime(2011, 3, 14)]\n",
    "pd.bdate_range(start, end, freq='C', weekmask=weekmask, holidays=holidays)"
   ]
  },
  {
   "cell_type": "code",
   "execution_count": 214,
   "metadata": {},
   "outputs": [
    {
     "data": {
      "text/plain": [
       "DatetimeIndex(['2011-01-03', '2011-02-02', '2011-03-02', '2011-04-01',\n",
       "               '2011-05-02', '2011-06-01', '2011-07-01', '2011-08-01',\n",
       "               '2011-09-02', '2011-10-03', '2011-11-02', '2011-12-02'],\n",
       "              dtype='datetime64[ns]', freq='CBMS')"
      ]
     },
     "execution_count": 214,
     "metadata": {},
     "output_type": "execute_result"
    }
   ],
   "source": [
    "pd.bdate_range(start, end, freq='CBMS', weekmask=weekmask)"
   ]
  },
  {
   "cell_type": "code",
   "execution_count": 215,
   "metadata": {},
   "outputs": [
    {
     "data": {
      "text/plain": [
       "Timestamp('1677-09-21 00:12:43.145225')"
      ]
     },
     "execution_count": 215,
     "metadata": {},
     "output_type": "execute_result"
    }
   ],
   "source": [
    "# Timestamp Limitations\n",
    "pd.Timestamp.min"
   ]
  },
  {
   "cell_type": "code",
   "execution_count": 216,
   "metadata": {},
   "outputs": [
    {
     "data": {
      "text/plain": [
       "Timestamp('2262-04-11 23:47:16.854775807')"
      ]
     },
     "execution_count": 216,
     "metadata": {},
     "output_type": "execute_result"
    }
   ],
   "source": [
    "pd.Timestamp.max"
   ]
  },
  {
   "cell_type": "code",
   "execution_count": 217,
   "metadata": {},
   "outputs": [
    {
     "data": {
      "text/plain": [
       "DatetimeIndex(['2011-01-31', '2011-02-28', '2011-03-31', '2011-04-29',\n",
       "               '2011-05-31', '2011-06-30', '2011-07-29', '2011-08-31',\n",
       "               '2011-09-30', '2011-10-31', '2011-11-30', '2011-12-30'],\n",
       "              dtype='datetime64[ns]', freq='BM')"
      ]
     },
     "execution_count": 217,
     "metadata": {},
     "output_type": "execute_result"
    }
   ],
   "source": [
    "# DatetimeIndex can be used like a regular index\n",
    "rng = pd.date_range(start, end, freq='BM')\n",
    "ts = pd.Series(np.random.randn(len(rng)), index=rng)\n",
    "ts.index"
   ]
  },
  {
   "cell_type": "code",
   "execution_count": 218,
   "metadata": {},
   "outputs": [
    {
     "data": {
      "text/plain": [
       "DatetimeIndex(['2011-01-31', '2011-02-28', '2011-03-31', '2011-04-29',\n",
       "               '2011-05-31'],\n",
       "              dtype='datetime64[ns]', freq='BM')"
      ]
     },
     "execution_count": 218,
     "metadata": {},
     "output_type": "execute_result"
    }
   ],
   "source": [
    "ts[:5].index"
   ]
  },
  {
   "cell_type": "code",
   "execution_count": 219,
   "metadata": {},
   "outputs": [
    {
     "data": {
      "text/plain": [
       "DatetimeIndex(['2011-01-31', '2011-03-31', '2011-05-31', '2011-07-29',\n",
       "               '2011-09-30', '2011-11-30'],\n",
       "              dtype='datetime64[ns]', freq='2BM')"
      ]
     },
     "execution_count": 219,
     "metadata": {},
     "output_type": "execute_result"
    }
   ],
   "source": [
    "ts[::2].index"
   ]
  },
  {
   "cell_type": "code",
   "execution_count": 220,
   "metadata": {},
   "outputs": [
    {
     "data": {
      "text/plain": [
       "-0.006837560424876956"
      ]
     },
     "execution_count": 220,
     "metadata": {},
     "output_type": "execute_result"
    }
   ],
   "source": [
    "# Partial String Indexing\n",
    "# Dates and strings that parse to timestamps can be passed as indexing parameters\n",
    "ts['1/31/2011']"
   ]
  },
  {
   "cell_type": "code",
   "execution_count": 221,
   "metadata": {},
   "outputs": [
    {
     "data": {
      "text/plain": [
       "2011-12-30   -0.015011\n",
       "Freq: BM, dtype: float64"
      ]
     },
     "execution_count": 221,
     "metadata": {},
     "output_type": "execute_result"
    }
   ],
   "source": [
    "ts[datetime(2011, 12, 25):]"
   ]
  },
  {
   "cell_type": "code",
   "execution_count": 222,
   "metadata": {},
   "outputs": [
    {
     "data": {
      "text/plain": [
       "2011-10-31   -0.627942\n",
       "2011-11-30    0.284810\n",
       "2011-12-30   -0.015011\n",
       "Freq: BM, dtype: float64"
      ]
     },
     "execution_count": 222,
     "metadata": {},
     "output_type": "execute_result"
    }
   ],
   "source": [
    "ts['10/31/2011':'12/31/2011']"
   ]
  },
  {
   "cell_type": "code",
   "execution_count": 223,
   "metadata": {},
   "outputs": [
    {
     "data": {
      "text/plain": [
       "2011-01-31   -0.006838\n",
       "2011-02-28    0.552053\n",
       "2011-03-31    0.398816\n",
       "2011-04-29    0.686896\n",
       "2011-05-31   -0.724844\n",
       "2011-06-30   -0.643492\n",
       "2011-07-29   -0.411278\n",
       "2011-08-31   -0.014522\n",
       "2011-09-30   -1.369329\n",
       "2011-10-31   -0.627942\n",
       "2011-11-30    0.284810\n",
       "2011-12-30   -0.015011\n",
       "Freq: BM, dtype: float64"
      ]
     },
     "execution_count": 223,
     "metadata": {},
     "output_type": "execute_result"
    }
   ],
   "source": [
    "# you can also pass in the year\n",
    "ts['2011']"
   ]
  },
  {
   "cell_type": "code",
   "execution_count": 224,
   "metadata": {},
   "outputs": [
    {
     "data": {
      "text/plain": [
       "2011-06-30   -0.643492\n",
       "Freq: BM, dtype: float64"
      ]
     },
     "execution_count": 224,
     "metadata": {},
     "output_type": "execute_result"
    }
   ],
   "source": [
    "ts['2011-6']"
   ]
  },
  {
   "cell_type": "markdown",
   "metadata": {},
   "source": [
    "#### Decorators"
   ]
  },
  {
   "cell_type": "code",
   "execution_count": 225,
   "metadata": {},
   "outputs": [],
   "source": [
    "# To understand decorators, it is enough to think about functions as something\n",
    "# that turns given arguments into a value"
   ]
  },
  {
   "cell_type": "markdown",
   "metadata": {},
   "source": [
    "#### First class objects"
   ]
  },
  {
   "cell_type": "code",
   "execution_count": 226,
   "metadata": {},
   "outputs": [],
   "source": [
    "def say_hello(name):\n",
    "    return f\"Hello {name}\"\n",
    "\n",
    "def be_awesome(name):\n",
    "    return f\"Yo {name}, the awesomest\""
   ]
  },
  {
   "cell_type": "code",
   "execution_count": 227,
   "metadata": {},
   "outputs": [
    {
     "data": {
      "text/plain": [
       "'Hello test1'"
      ]
     },
     "execution_count": 227,
     "metadata": {},
     "output_type": "execute_result"
    }
   ],
   "source": [
    "say_hello('test1')"
   ]
  },
  {
   "cell_type": "code",
   "execution_count": 228,
   "metadata": {},
   "outputs": [
    {
     "data": {
      "text/plain": [
       "'Yo test2, the awesomest'"
      ]
     },
     "execution_count": 228,
     "metadata": {},
     "output_type": "execute_result"
    }
   ],
   "source": [
    "be_awesome('test2')"
   ]
  },
  {
   "cell_type": "code",
   "execution_count": 229,
   "metadata": {},
   "outputs": [],
   "source": [
    "# The greet_bob() function expects a function as its argument\n",
    "# We can, for instance, pass if the say_hello() or the be_awesome() function\n",
    "def greet_bob(greeter_func):\n",
    "    return greeter_func(\"Bob\")"
   ]
  },
  {
   "cell_type": "code",
   "execution_count": 230,
   "metadata": {},
   "outputs": [
    {
     "data": {
      "text/plain": [
       "'Yo Bob, the awesomest'"
      ]
     },
     "execution_count": 230,
     "metadata": {},
     "output_type": "execute_result"
    }
   ],
   "source": [
    "# Note greet_bob(say_hello) refers to two functions in different ways!\n",
    "# The say_hello function is named without parentheses, only a reference to the function is passed\n",
    "# The function is not executed\n",
    "# The greet_bob is written with parentheses, so it will be called as usual\n",
    "greet_bob(say_hello)\n",
    "greet_bob(be_awesome)"
   ]
  },
  {
   "cell_type": "markdown",
   "metadata": {},
   "source": [
    "#### Inner Functions"
   ]
  },
  {
   "cell_type": "code",
   "execution_count": 231,
   "metadata": {},
   "outputs": [],
   "source": [
    "def parent():\n",
    "    print(\"Printing from the parent() function\")\n",
    "    \n",
    "    def first_child():\n",
    "        print(\"Printing from the first_child() function\")\n",
    "        \n",
    "    def second_child():\n",
    "        print(\"Printing from the second_child() function\")\n",
    "        \n",
    "    second_child()\n",
    "    first_child()"
   ]
  },
  {
   "cell_type": "code",
   "execution_count": 232,
   "metadata": {},
   "outputs": [
    {
     "name": "stdout",
     "output_type": "stream",
     "text": [
      "Printing from the parent() function\n",
      "Printing from the second_child() function\n",
      "Printing from the first_child() function\n"
     ]
    }
   ],
   "source": [
    "parent()"
   ]
  },
  {
   "cell_type": "markdown",
   "metadata": {},
   "source": [
    "#### Returning Functions From Functions"
   ]
  },
  {
   "cell_type": "code",
   "execution_count": 233,
   "metadata": {},
   "outputs": [],
   "source": [
    "# Python also allows you to use functions as return values\n",
    "def parent(num):\n",
    "    def first_child():\n",
    "        return \"Hi, I am Emma\"\n",
    "    \n",
    "    def second_child():\n",
    "        return \"Call me Liam\"\n",
    "\n",
    "    if num == 1:\n",
    "        return first_child\n",
    "    else:\n",
    "        return second_child"
   ]
  },
  {
   "cell_type": "code",
   "execution_count": 234,
   "metadata": {},
   "outputs": [],
   "source": [
    "# Note that you are returning first_child without parentheses, which means returning\n",
    "# a reference to the function first_child\n",
    "first = parent(1)\n",
    "second = parent(2)"
   ]
  },
  {
   "cell_type": "code",
   "execution_count": 235,
   "metadata": {},
   "outputs": [
    {
     "data": {
      "text/plain": [
       "<function __main__.parent.<locals>.first_child>"
      ]
     },
     "execution_count": 235,
     "metadata": {},
     "output_type": "execute_result"
    }
   ],
   "source": [
    "first"
   ]
  },
  {
   "cell_type": "code",
   "execution_count": 236,
   "metadata": {},
   "outputs": [
    {
     "data": {
      "text/plain": [
       "<function __main__.parent.<locals>.second_child>"
      ]
     },
     "execution_count": 236,
     "metadata": {},
     "output_type": "execute_result"
    }
   ],
   "source": [
    "second"
   ]
  },
  {
   "cell_type": "code",
   "execution_count": 237,
   "metadata": {},
   "outputs": [
    {
     "data": {
      "text/plain": [
       "'Hi, I am Emma'"
      ]
     },
     "execution_count": 237,
     "metadata": {},
     "output_type": "execute_result"
    }
   ],
   "source": [
    "# You can now use 'first' and 'second' as if they are regular functions, even though\n",
    "# the functions they point to can't be accessed directly\n",
    "first()"
   ]
  },
  {
   "cell_type": "code",
   "execution_count": 238,
   "metadata": {},
   "outputs": [
    {
     "data": {
      "text/plain": [
       "'Call me Liam'"
      ]
     },
     "execution_count": 238,
     "metadata": {},
     "output_type": "execute_result"
    }
   ],
   "source": [
    "second()"
   ]
  },
  {
   "cell_type": "markdown",
   "metadata": {},
   "source": [
    "#### Simple Decorators"
   ]
  },
  {
   "cell_type": "code",
   "execution_count": 239,
   "metadata": {},
   "outputs": [],
   "source": [
    "def my_decorator(func):\n",
    "    def wrapper():\n",
    "        print(\"Something is happening before the function is called.\")\n",
    "        func()\n",
    "        print(\"Something is happening after the function is called.\")\n",
    "    return wrapper\n",
    " \n",
    "def say_whee():\n",
    "    print(\"Whee!\")\n",
    "\n",
    "say_whee = my_decorator(say_whee)"
   ]
  },
  {
   "cell_type": "code",
   "execution_count": 240,
   "metadata": {},
   "outputs": [
    {
     "data": {
      "text/plain": [
       "<function __main__.my_decorator.<locals>.wrapper>"
      ]
     },
     "execution_count": 240,
     "metadata": {},
     "output_type": "execute_result"
    }
   ],
   "source": [
    "my_decorator(say_whee)"
   ]
  },
  {
   "cell_type": "code",
   "execution_count": 241,
   "metadata": {},
   "outputs": [
    {
     "name": "stdout",
     "output_type": "stream",
     "text": [
      "Something is happening before the function is called.\n",
      "Whee!\n",
      "Something is happening after the function is called.\n"
     ]
    }
   ],
   "source": [
    "# The name say_whee now points to the wrapper() inner function\n",
    "# You RETURN WRAPPER AS A FUNCTION!\n",
    "say_whee()"
   ]
  },
  {
   "cell_type": "code",
   "execution_count": null,
   "metadata": {},
   "outputs": [],
   "source": []
  },
  {
   "cell_type": "code",
   "execution_count": 242,
   "metadata": {},
   "outputs": [
    {
     "data": {
      "text/plain": [
       "<function __main__.my_decorator.<locals>.wrapper>"
      ]
     },
     "execution_count": 242,
     "metadata": {},
     "output_type": "execute_result"
    }
   ],
   "source": [
    "# In effect, the name say_whee now points to the wrapper() inner function\n",
    "say_whee"
   ]
  },
  {
   "cell_type": "markdown",
   "metadata": {},
   "source": [
    "<B>decorators wrap a function, modifying its behaviour<b>"
   ]
  },
  {
   "cell_type": "code",
   "execution_count": 243,
   "metadata": {},
   "outputs": [],
   "source": [
    "from datetime import datetime\n",
    "\n",
    "def not_during_the_night(func):\n",
    "    def wrapper2():\n",
    "        if 7 <= datetime.now().hour < 22:\n",
    "            func()\n",
    "        else:\n",
    "            pass  # Hush, the neighbors are asleep\n",
    "    return wrapper2\n",
    "\n",
    "def say_whee():\n",
    "    print(\"Whee!\")\n",
    "\n",
    "say_whee = not_during_the_night(say_whee)"
   ]
  },
  {
   "cell_type": "code",
   "execution_count": 244,
   "metadata": {},
   "outputs": [
    {
     "name": "stdout",
     "output_type": "stream",
     "text": [
      "Whee!\n"
     ]
    }
   ],
   "source": [
    "say_whee()"
   ]
  },
  {
   "cell_type": "code",
   "execution_count": 245,
   "metadata": {},
   "outputs": [
    {
     "data": {
      "text/plain": [
       "<function __main__.not_during_the_night.<locals>.wrapper2>"
      ]
     },
     "execution_count": 245,
     "metadata": {},
     "output_type": "execute_result"
    }
   ],
   "source": [
    "say_whee"
   ]
  },
  {
   "cell_type": "code",
   "execution_count": 246,
   "metadata": {},
   "outputs": [],
   "source": [
    "# Python allows you to use decorators in a simpler wasy with the @ symbol\n",
    "def my_decorator(func):\n",
    "    def wrapper():\n",
    "        print(\"Something is happening before the function is called.\")\n",
    "        func()\n",
    "        print(\"Something is happening after the function is called\")\n",
    "    return wrapper"
   ]
  },
  {
   "cell_type": "code",
   "execution_count": 247,
   "metadata": {},
   "outputs": [],
   "source": [
    "@my_decorator\n",
    "def say_whee():\n",
    "    print(\"Whee!\")"
   ]
  },
  {
   "cell_type": "code",
   "execution_count": 248,
   "metadata": {},
   "outputs": [
    {
     "name": "stdout",
     "output_type": "stream",
     "text": [
      "Something is happening before the function is called.\n",
      "Whee!\n",
      "Something is happening after the function is called\n"
     ]
    }
   ],
   "source": [
    "# @mydecorator is the same as saying say_whee = my_decorator(say_whee)\n",
    "say_whee()"
   ]
  },
  {
   "cell_type": "code",
   "execution_count": 249,
   "metadata": {},
   "outputs": [],
   "source": [
    "from decorators import do_twice"
   ]
  },
  {
   "cell_type": "code",
   "execution_count": 250,
   "metadata": {},
   "outputs": [],
   "source": [
    "@do_twice\n",
    "def say_whee():\n",
    "    print(\"Whee!!\")"
   ]
  },
  {
   "cell_type": "code",
   "execution_count": 251,
   "metadata": {},
   "outputs": [
    {
     "name": "stdout",
     "output_type": "stream",
     "text": [
      "Whee!!\n",
      "Whee!!\n"
     ]
    }
   ],
   "source": [
    "say_whee()"
   ]
  },
  {
   "cell_type": "markdown",
   "metadata": {},
   "source": [
    "## MELT"
   ]
  },
  {
   "cell_type": "code",
   "execution_count": 252,
   "metadata": {},
   "outputs": [],
   "source": [
    "# Melting practice\n",
    "import pandas as pd"
   ]
  },
  {
   "cell_type": "code",
   "execution_count": 253,
   "metadata": {},
   "outputs": [],
   "source": [
    "df = pd.DataFrame(data = {\n",
    "    'Day' : ['MON', 'TUE', 'WED', 'THU', 'FRI'], \n",
    "    'Google' : [1129,1132,1134,1152,1152], \n",
    "    'Apple' : [191,192,190,190,188] \n",
    "})"
   ]
  },
  {
   "cell_type": "code",
   "execution_count": 254,
   "metadata": {},
   "outputs": [
    {
     "data": {
      "text/html": [
       "<div>\n",
       "<style scoped>\n",
       "    .dataframe tbody tr th:only-of-type {\n",
       "        vertical-align: middle;\n",
       "    }\n",
       "\n",
       "    .dataframe tbody tr th {\n",
       "        vertical-align: top;\n",
       "    }\n",
       "\n",
       "    .dataframe thead th {\n",
       "        text-align: right;\n",
       "    }\n",
       "</style>\n",
       "<table border=\"1\" class=\"dataframe\">\n",
       "  <thead>\n",
       "    <tr style=\"text-align: right;\">\n",
       "      <th></th>\n",
       "      <th>Apple</th>\n",
       "      <th>Day</th>\n",
       "      <th>Google</th>\n",
       "    </tr>\n",
       "  </thead>\n",
       "  <tbody>\n",
       "    <tr>\n",
       "      <th>0</th>\n",
       "      <td>191</td>\n",
       "      <td>MON</td>\n",
       "      <td>1129</td>\n",
       "    </tr>\n",
       "    <tr>\n",
       "      <th>1</th>\n",
       "      <td>192</td>\n",
       "      <td>TUE</td>\n",
       "      <td>1132</td>\n",
       "    </tr>\n",
       "    <tr>\n",
       "      <th>2</th>\n",
       "      <td>190</td>\n",
       "      <td>WED</td>\n",
       "      <td>1134</td>\n",
       "    </tr>\n",
       "    <tr>\n",
       "      <th>3</th>\n",
       "      <td>190</td>\n",
       "      <td>THU</td>\n",
       "      <td>1152</td>\n",
       "    </tr>\n",
       "    <tr>\n",
       "      <th>4</th>\n",
       "      <td>188</td>\n",
       "      <td>FRI</td>\n",
       "      <td>1152</td>\n",
       "    </tr>\n",
       "  </tbody>\n",
       "</table>\n",
       "</div>"
      ],
      "text/plain": [
       "   Apple  Day  Google\n",
       "0    191  MON    1129\n",
       "1    192  TUE    1132\n",
       "2    190  WED    1134\n",
       "3    190  THU    1152\n",
       "4    188  FRI    1152"
      ]
     },
     "execution_count": 254,
     "metadata": {},
     "output_type": "execute_result"
    }
   ],
   "source": [
    "df"
   ]
  },
  {
   "cell_type": "code",
   "execution_count": 255,
   "metadata": {},
   "outputs": [],
   "source": [
    "# The id_vars you've passed into the melt() method is to specify which column you want to leave untouched. \n",
    "# Since we want the Day column to stay even after the melt, we set id_vars=['Day'].\n",
    "# Also, you would have noticed that the output dataframe of melt has the columns variable and value. \n",
    "# These are the default names given by pandas for the columns. We can change this either manually with something like"
   ]
  },
  {
   "cell_type": "code",
   "execution_count": null,
   "metadata": {},
   "outputs": [],
   "source": [
    "reshaped_df = df.melt(id_vars=['Day'])"
   ]
  },
  {
   "cell_type": "code",
   "execution_count": null,
   "metadata": {},
   "outputs": [],
   "source": [
    "reshaped_df"
   ]
  },
  {
   "cell_type": "code",
   "execution_count": null,
   "metadata": {},
   "outputs": [],
   "source": [
    "reshaped_df.columns = [['Day', 'Company', 'Closing Price']]"
   ]
  },
  {
   "cell_type": "code",
   "execution_count": null,
   "metadata": {},
   "outputs": [],
   "source": [
    "reshaped_df"
   ]
  },
  {
   "cell_type": "code",
   "execution_count": null,
   "metadata": {},
   "outputs": [],
   "source": [
    "# Or we can specify the values for these columns in the melt() itself. \n",
    "# Melt takes arguments var_name and value_name apart from id_vars. \n",
    "# These options specify the names for the Variables column and the value column respectively."
   ]
  },
  {
   "cell_type": "code",
   "execution_count": null,
   "metadata": {},
   "outputs": [],
   "source": [
    "reshaped_df = df.melt(id_vars=['Day'], var_name='Company', value_name='Closing Price')"
   ]
  },
  {
   "cell_type": "code",
   "execution_count": null,
   "metadata": {},
   "outputs": [],
   "source": [
    "reshaped_df"
   ]
  },
  {
   "cell_type": "code",
   "execution_count": null,
   "metadata": {},
   "outputs": [],
   "source": [
    "# Unmelt/Reverse Melt/Pivot\n",
    "# We can also do the reverse of the melt operation which is also called as pivoting. \n",
    "# In Pivoting or Reverse Melting, we convert a column with multiple values into several columns of their own.\n",
    "# The pivot method on the dataframe takes two main arguments index and columns. \n",
    "# The index parameter is similar to id_vars we have seen before i.e., \n",
    "# It is used to specify which column you don't want to touch. \n",
    "# The columns parameter is to specify which column should be used to create the new columns."
   ]
  },
  {
   "cell_type": "code",
   "execution_count": null,
   "metadata": {},
   "outputs": [],
   "source": [
    "reshaped_df.pivot(index='Day', columns='Company')"
   ]
  },
  {
   "cell_type": "code",
   "execution_count": null,
   "metadata": {},
   "outputs": [],
   "source": [
    "original_df = reshaped_df.pivot(index='Day', columns='Company')['Closing Price'].reset_index()\n",
    "original_df.columns.name = None"
   ]
  },
  {
   "cell_type": "code",
   "execution_count": null,
   "metadata": {},
   "outputs": [],
   "source": [
    "original_df"
   ]
  },
  {
   "cell_type": "code",
   "execution_count": null,
   "metadata": {},
   "outputs": [],
   "source": [
    "df[1].fillna(0, inplace=True)"
   ]
  },
  {
   "cell_type": "code",
   "execution_count": null,
   "metadata": {},
   "outputs": [],
   "source": []
  },
  {
   "cell_type": "code",
   "execution_count": null,
   "metadata": {},
   "outputs": [],
   "source": []
  },
  {
   "cell_type": "code",
   "execution_count": null,
   "metadata": {},
   "outputs": [],
   "source": []
  }
 ],
 "metadata": {
  "kernelspec": {
   "display_name": "Python 3",
   "language": "python",
   "name": "python3"
  },
  "language_info": {
   "codemirror_mode": {
    "name": "ipython",
    "version": 3
   },
   "file_extension": ".py",
   "mimetype": "text/x-python",
   "name": "python",
   "nbconvert_exporter": "python",
   "pygments_lexer": "ipython3",
   "version": "3.6.4"
  }
 },
 "nbformat": 4,
 "nbformat_minor": 2
}
